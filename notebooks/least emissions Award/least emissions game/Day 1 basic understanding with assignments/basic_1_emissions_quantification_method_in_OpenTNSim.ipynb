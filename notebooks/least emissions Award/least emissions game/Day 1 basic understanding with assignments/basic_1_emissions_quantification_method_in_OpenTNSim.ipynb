{
 "cells": [
  {
   "cell_type": "markdown",
   "id": "424cad7a-cf46-468f-8820-ed7d9a9f395b",
   "metadata": {},
   "source": [
    "## basic_1_emissions_quantification_method in OpenTNSim"
   ]
  },
  {
   "cell_type": "markdown",
   "id": "efc04405-9509-4727-8ec4-79485a2a7ced",
   "metadata": {},
   "source": [
    "#### This notebook is used for demonstrating the emissions quantification method for inland vessels sailing over a simple waterway stretch. It is strutured as following:"
   ]
  },
  {
   "cell_type": "markdown",
   "id": "9a6b52c2-ce1a-4c6f-87de-e6b1151e98c9",
   "metadata": {},
   "source": [
    "- Prepare simulation input: vessel properties and waterway characteristics\n",
    "- Define the simulation for a vessel sailing over the waterway\n",
    "- Run the simulation to compute: \n",
    "    1) the resistance of the vessel while sailing in the waterway\n",
    "    2) the power required for the vessel to overcome the resistance\n",
    "    3) the energy consumed during the sailing \n",
    "    4) the emissions(CO2, PM10, NOx) emitted during the sailing \n",
    "- Extract the simulation results from OpenTNSim log\n",
    "\n",
    "- **Assignment**: extract the emission indicators using this notebook "
   ]
  },
  {
   "cell_type": "markdown",
   "id": "0fdaec83-ce07-45c7-b5ae-f3391e0e0aaf",
   "metadata": {},
   "source": [
    "### *Learning objectives*\n",
    "\n",
    "*Real world facts understanding*\n",
    "- *the students should understand the linkage among resistance, power, energy, and emissions.*\n",
    "- *emission indicators*\n",
    "*Practical coding skills*\n",
    "- *the student should be able to extract the resistance, power, energy from OpenTNSim log*\n",
    "- *the student should be able to extract the emission indicators from OpenTNSim log*"
   ]
  },
  {
   "cell_type": "markdown",
   "id": "466e5768-2b5c-42d6-91ed-6a0e7d97ffbf",
   "metadata": {},
   "source": [
    "### "
   ]
  },
  {
   "cell_type": "markdown",
   "id": "6f5e1c6e-e5ee-4e42-92f9-52702ee2315c",
   "metadata": {},
   "source": [
    "### Imports\n",
    "Import the required libraries"
   ]
  },
  {
   "cell_type": "code",
   "execution_count": 1,
   "id": "b2159b4b-facf-4960-9eea-cf634d9cff53",
   "metadata": {},
   "outputs": [],
   "source": [
    "# package(s) related to time, space and id\n",
    "import logging\n",
    "import datetime, time\n",
    "import platform\n",
    "import itertools\n",
    "# you need these dependencies (you can get these from anaconda)\n",
    "# package(s) related to the simulation\n",
    "import simpy\n",
    "import pandas as pd\n",
    "pd.options.display.max_columns = None\n",
    "pd.options.display.max_rows = None\n",
    "\n",
    "# spatial libraries \n",
    "import pyproj\n",
    "import shapely.geometry\n",
    "from simplekml import Kml, Style\n",
    "\n",
    "# package(s) for data handling\n",
    "import numpy as np\n",
    "import matplotlib.pyplot as plt\n",
    "\n",
    "# OpenTNSim\n",
    "import opentnsim\n",
    "\n",
    "# Used for mathematical functions\n",
    "import math             \n",
    "import tqdm\n",
    "# Used for making the graph to visualize our problem\n",
    "import networkx as nx   \n",
    "\n",
    "import plotly.express as px\n",
    "from plotly.subplots import make_subplots\n",
    "\n",
    "#logging.basicConfig(level=logging.DEBUG) #turn on all the debug messages\n",
    "logging.basicConfig(level=logging.INFO)# turn off all the debug messages\n"
   ]
  },
  {
   "cell_type": "markdown",
   "id": "2db4fc4f-136c-4f53-a438-421d96969263",
   "metadata": {},
   "source": [
    "#### Prepare simulation input: vessel properties and waterway characteristics"
   ]
  },
  {
   "cell_type": "markdown",
   "id": "3682f3e5-903e-499e-b963-03389e45eff0",
   "metadata": {},
   "source": [
    "vessel"
   ]
  },
  {
   "cell_type": "code",
   "execution_count": 2,
   "id": "ea849c78-8596-4e81-8909-cf9fd7701385",
   "metadata": {},
   "outputs": [],
   "source": [
    "# Create a dict with all important settings\n",
    "\n",
    "data_vessel = {\n",
    "    \"env\": None,\n",
    "    \"name\": 'Vessel M6',\n",
    "    \"route\": None,\n",
    "    \"geometry\": None,\n",
    "    \"v\": 4,  # m/s\n",
    "    \"V_g_ave\":4,\n",
    "    \"use_V_g_profile\":True,\n",
    "    \"type\": None,\n",
    "    \"B\": 9.5,\n",
    "    \"L\": 85,\n",
    "    \"H_e\": None, \n",
    "    \"H_f\": None, \n",
    "    \"T\": 2,\n",
    "    \"safety_margin\": 0.3, # for tanker vessel with rocky bed the safety margin is recommended as 0.3 m\n",
    "    \"h_squat\": False, # if consider the ship squatting while moving, set to True, otherwise set to False. Note that here we have disabled h_squat calculation since we regard the water depth h_0 is already reduced by squat effect. This applies to figures 3, 5, 7, 8 and 9.\n",
    "    \"payload\":None,\n",
    "    \"vessel_type\":\"Dry_DH\", #vessel types: \"Container\",\"Dry_SH\",\"Dry_DH\",\"Barge\",\"Tanker\". (\"Dry_SH\" means dry bulk single hull, \"Dry_DH\" means dry bulk double hull)    \n",
    "    \"P_installed\": 780.0,   \n",
    "    \"P_tot_given\": None, # kW\n",
    "    \"P_tot_given_profile\":False,\n",
    "    \"bulbous_bow\": False, # if a vessel has no bulbous_bow, set to False; otherwise set to True.\n",
    "    \"sailing_on_power\": False,\n",
    "    \"sailing_upstream\":True,\n",
    "    \"wind_influence\": False,\n",
    "    \"P_hotel_perc\": 0,\n",
    "    \"P_hotel\": None, # None: calculate P_hotel from percentage\n",
    "    \"x\": 1,# number of propellers\n",
    "    \"L_w\": 2.0 ,\n",
    "    \"C_B\":0.85, \n",
    "    \"C_year\": 2000,\n",
    "}             \n",
    "\n"
   ]
  },
  {
   "cell_type": "markdown",
   "id": "2eb11f8f-ae8b-40c7-896b-5c783c6ed0a6",
   "metadata": {},
   "source": [
    "waterway characteristics"
   ]
  },
  {
   "cell_type": "code",
   "execution_count": 3,
   "id": "acf7f5cd-a978-49dc-8ff8-5ed37f22d25c",
   "metadata": {},
   "outputs": [],
   "source": [
    "# specify a number of coordinate along your route (coords are: lon, lat)\n",
    "coords = [\n",
    "    [0,0],\n",
    "    [4,0]\n",
    "] \n",
    "\n",
    "# for each edge (between above coordinates) specify the depth (m)\n",
    "depths = [6]\n",
    "width = [150]\n",
    "current_speeds = [2]  # [m/s]\n",
    "\n",
    "# check of nr of coords and nr of depths align\n",
    "assert len(coords) == len(depths) + 1, 'nr of depths does not correspond to nr of coords'"
   ]
  },
  {
   "cell_type": "code",
   "execution_count": 4,
   "id": "73aefd20-e381-4f9e-8fa1-a7ae782e9583",
   "metadata": {},
   "outputs": [],
   "source": [
    "V_g_profile_up = [4.5] # [m/s] vessel sailing speed for upstream\n",
    "V_g_profile_down = [4.5] # [m/s] vessel sailing speed for downstream\n"
   ]
  },
  {
   "cell_type": "code",
   "execution_count": 5,
   "id": "a5f37015-37bc-49bb-9683-aec6984d3d08",
   "metadata": {},
   "outputs": [],
   "source": [
    "# create a graph \n",
    "FG = nx.DiGraph()\n",
    "nodes = []\n",
    "path = []\n",
    "\n",
    "# add nodes\n",
    "Node = type('Site', (opentnsim.core.Identifiable, opentnsim.core.Locatable), {})\n",
    "\n",
    "for index, coord in enumerate(coords):\n",
    "    data_node = {\"name\": \"Node \" + str(index), \"geometry\": shapely.geometry.Point(coord[0], coord[1])}\n",
    "    nodes.append(Node(**data_node))\n",
    "    \n",
    "positions = {}\n",
    "for node in nodes:\n",
    "    positions[node.name] = (node.geometry.x, node.geometry.y)\n",
    "    FG.add_node(node.name, geometry = node.geometry)\n",
    "\n",
    "# add edges\n",
    "path = [[nodes[i], nodes[i+1]] for i in range(len(nodes)-1)]\n",
    "\n",
    "for index, edge in enumerate(path):\n",
    "\n",
    "    FG.add_edge(edge[0].name, edge[1].name, weight = 1, Info = {\n",
    "        \"GeneralDepth\": depths[index],\n",
    "        \"WaterwayWidth\": width[index],\n",
    "        \"CurrentSpeed\": current_speeds[index],\n",
    "        \"VesselSpeedToGroundProfile_upstream\": V_g_profile_up[index],\n",
    "        \"VesselSpeedToGroundProfile_downstream\": V_g_profile_down[index]\n",
    "    })\n",
    "\n",
    "# toggle to undirected and back to directed to make sure all edges are two way traffic\n",
    "FG = FG.to_undirected() \n",
    "FG = FG.to_directed() "
   ]
  },
  {
   "cell_type": "code",
   "execution_count": 6,
   "id": "c25c0155-f58e-49c3-98c7-46cbb4b670e7",
   "metadata": {},
   "outputs": [],
   "source": [
    "# collect node labels.\n",
    "labels = {}\n",
    "for node in FG.nodes:\n",
    "    labels[node] = node"
   ]
  },
  {
   "cell_type": "code",
   "execution_count": 7,
   "id": "451d1816-3b72-469a-9a8c-62396233dfb8",
   "metadata": {},
   "outputs": [
    {
     "data": {
      "image/png": "[encoded data removed]",
      "text/plain": [
       "<Figure size 432x288 with 1 Axes>"
      ]
     },
     "metadata": {},
     "output_type": "display_data"
    }
   ],
   "source": [
    "# draw edges, nodes and labels.\n",
    "nx.draw_networkx_edges(FG,  pos=positions, width=3, edge_color=\"red\", alpha=1, arrowsize=20)\n",
    "nx.draw_networkx_nodes(FG,  pos=positions, node_color=\"darkblue\", node_size=1800)\n",
    "nx.draw_networkx_labels(FG, pos=positions, labels=labels, font_size=10, font_weight='bold', font_color=\"white\")\n",
    "\n",
    "plt.axis(\"off\")\n",
    "plt.show()"
   ]
  },
  {
   "cell_type": "code",
   "execution_count": 8,
   "id": "f80a5b36-6ea8-4fbe-a7f2-7bed34141ce9",
   "metadata": {},
   "outputs": [
    {
     "name": "stdout",
     "output_type": "stream",
     "text": [
      "General depth for edge ('Node 0', 'Node 1') is 6 m\n",
      "Waterway width for edge ('Node 0', 'Node 1') is 150 m\n",
      "Current speed for edge ('Node 0', 'Node 1') is 2 m/s\n",
      "General depth for edge ('Node 1', 'Node 0') is 6 m\n",
      "Waterway width for edge ('Node 1', 'Node 0') is 150 m\n",
      "Current speed for edge ('Node 1', 'Node 0') is 2 m/s\n"
     ]
    }
   ],
   "source": [
    "# This cell just shows that now a depth of 10 m is added to the edges. \n",
    "# You can use this to vary depths, e.g. make the middle edge shallower. Note that edges are bi-directional \n",
    "for edge in FG.edges:\n",
    "    print('General depth for edge {} is {} m'.format(edge, FG.get_edge_data(edge[0], edge[1])[\"Info\"][\"GeneralDepth\"]))\n",
    "    print('Waterway width for edge {} is {} m'.format(edge, FG.get_edge_data(edge[0], edge[1])[\"Info\"][\"WaterwayWidth\"]))\n",
    "    print('Current speed for edge {} is {} m/s'.format(edge, FG.get_edge_data(edge[0], edge[1])[\"Info\"][\"CurrentSpeed\"]))\n"
   ]
  },
  {
   "cell_type": "markdown",
   "id": "ce5f209b-0f77-4097-a203-22a1dffeb0b4",
   "metadata": {},
   "source": [
    "#### Seting up OpenTNSim mix-in classes for simulation"
   ]
  },
  {
   "cell_type": "code",
   "execution_count": 9,
   "id": "4dea45b9-f341-4a1d-8d5f-a8ae542efe8a",
   "metadata": {},
   "outputs": [],
   "source": [
    "# Make your preferred class out of available mix-ins.\n",
    "TransportResource = type(\n",
    "    \"Vessel\",\n",
    "    (\n",
    "        opentnsim.core.Identifiable,\n",
    "        opentnsim.core.Movable,\n",
    "        opentnsim.core.VesselProperties,  # needed to add vessel properties\n",
    "        opentnsim.energy.ConsumesEnergy,\n",
    "        opentnsim.core.ExtraMetadata,\n",
    "    ),\n",
    "    {},\n",
    ")  # needed to calculate resistances"
   ]
  },
  {
   "cell_type": "markdown",
   "id": "c040d373-98ff-4111-9000-d5083b96f9a6",
   "metadata": {},
   "source": [
    "#### Define simulation connecting vessel with sailing path"
   ]
  },
  {
   "cell_type": "markdown",
   "id": "e7f2d30f-5cc5-4c27-b86f-0f895771c088",
   "metadata": {},
   "source": [
    "##### Define sailing paths"
   ]
  },
  {
   "cell_type": "code",
   "execution_count": 10,
   "id": "d972f560-cda7-43cd-9bd7-3a0c2d496925",
   "metadata": {},
   "outputs": [],
   "source": [
    "path = nx.dijkstra_path(FG, nodes[0].name, nodes[1].name)"
   ]
  },
  {
   "cell_type": "markdown",
   "id": "f129da21-253f-4b0c-a8e3-0ec060ce093e",
   "metadata": {},
   "source": [
    "##### connecting vessel with sailing path"
   ]
  },
  {
   "cell_type": "code",
   "execution_count": 11,
   "id": "b0bd4bd9-6abe-4db9-bbcb-65b180f533d1",
   "metadata": {},
   "outputs": [],
   "source": [
    "def run_simulation(path,**data_vessel):\n",
    "    \n",
    "    # Start simpy environment\n",
    "    simulation_start = datetime.datetime.now()\n",
    "    env = simpy.Environment(initial_time = time.mktime(simulation_start.timetuple()))\n",
    "    env.epoch = time.mktime(simulation_start.timetuple())\n",
    "\n",
    "    # Add graph to environment\n",
    "    env.FG = FG\n",
    "\n",
    "    # Add environment and path to the vessel\n",
    "    # create a fresh instance of vessel\n",
    "    vessel = TransportResource(**data_vessel)\n",
    "    vessel.env = env                                        #the created environment\n",
    "    vessel.name = 'Vessel No.1'                     \n",
    "    vessel.route = path                                     #the route (the sequence of nodes, as stored as the second column in the path)\n",
    "    vessel.geometry = env.FG.nodes[path[0]]['geometry']     #a shapely.geometry.Point(lon,lat) (here taken as the starting node of the vessel)\n",
    "    env.process(vessel.move())\n",
    "    env.run()\n",
    "    \n",
    "    return vessel"
   ]
  },
  {
   "cell_type": "markdown",
   "id": "32004b0b-43b0-4d9a-bf0f-20d5f8559740",
   "metadata": {},
   "source": [
    "#### Run the simulation to get the \"resistance\", \"power required\" and \"emissions (CO2, PM10, NOx)\" while the vessel sailing over the waterway"
   ]
  },
  {
   "cell_type": "markdown",
   "id": "501b2db2-d4a8-4e7a-b223-2a6a4b43bb6c",
   "metadata": {},
   "source": [
    "##### run simulation"
   ]
  },
  {
   "cell_type": "code",
   "execution_count": 12,
   "id": "13a61c85-eae4-477d-8461-6c76b5dcfbe9",
   "metadata": {},
   "outputs": [],
   "source": [
    "vessel_simulation_results = run_simulation(path = path, **data_vessel)\n",
    "# create an EnergyCalculation object and perform energy consumption calculation\n",
    "energycalculation_upstream = opentnsim.energy.EnergyCalculation(FG, vessel_simulation_results)\n",
    "energycalculation_upstream.calculate_energy_consumption()\n"
   ]
  },
  {
   "cell_type": "markdown",
   "id": "df889282-b326-4de9-9db4-076ab362a022",
   "metadata": {},
   "source": [
    "##### extract \"sailing distance\", \"total resistance R_tot\", \"total power required P_tot\",\"CO2 emissions\", \"PM10 emissions\",\"NOx emissions\"  from OpenTNSim log"
   ]
  },
  {
   "cell_type": "code",
   "execution_count": 13,
   "id": "54659ed7-d242-49e0-b608-f9cc4d23644a",
   "metadata": {},
   "outputs": [
    {
     "name": "stderr",
     "output_type": "stream",
     "text": [
      "C:\\ANACONDA2021\\envs\\sim\\lib\\site-packages\\pandas\\core\\dtypes\\cast.py:122: ShapelyDeprecationWarning:\n",
      "\n",
      "The array interface is deprecated and will no longer work in Shapely 2.0. Convert the '.coords' to a numpy array instead.\n",
      "\n"
     ]
    },
    {
     "data": {
      "text/html": [
       "<div>\n",
       "<style scoped>\n",
       "    .dataframe tbody tr th:only-of-type {\n",
       "        vertical-align: middle;\n",
       "    }\n",
       "\n",
       "    .dataframe tbody tr th {\n",
       "        vertical-align: top;\n",
       "    }\n",
       "\n",
       "    .dataframe thead th {\n",
       "        text-align: right;\n",
       "    }\n",
       "</style>\n",
       "<table border=\"1\" class=\"dataframe\">\n",
       "  <thead>\n",
       "    <tr style=\"text-align: right;\">\n",
       "      <th></th>\n",
       "      <th>edge_start</th>\n",
       "      <th>edge_stop</th>\n",
       "      <th>distance</th>\n",
       "      <th>sailing_duration</th>\n",
       "      <th>R_tot</th>\n",
       "      <th>P_tot</th>\n",
       "      <th>total_energy</th>\n",
       "      <th>total_emission_CO2</th>\n",
       "      <th>total_emission_PM10</th>\n",
       "      <th>total_emission_NOX</th>\n",
       "    </tr>\n",
       "  </thead>\n",
       "  <tbody>\n",
       "    <tr>\n",
       "      <th>0</th>\n",
       "      <td>POINT (0 0)</td>\n",
       "      <td>POINT (4 0)</td>\n",
       "      <td>445277.963173</td>\n",
       "      <td>98950.658483</td>\n",
       "      <td>11.024539</td>\n",
       "      <td>62.497387</td>\n",
       "      <td>1717.821568</td>\n",
       "      <td>1.368820e+06</td>\n",
       "      <td>1005.944631</td>\n",
       "      <td>24782.837037</td>\n",
       "    </tr>\n",
       "  </tbody>\n",
       "</table>\n",
       "</div>"
      ],
      "text/plain": [
       "    edge_start    edge_stop       distance  sailing_duration      R_tot  \\\n",
       "0  POINT (0 0)  POINT (4 0)  445277.963173      98950.658483  11.024539   \n",
       "\n",
       "       P_tot  total_energy  total_emission_CO2  total_emission_PM10  \\\n",
       "0  62.497387   1717.821568        1.368820e+06          1005.944631   \n",
       "\n",
       "   total_emission_NOX  \n",
       "0        24782.837037  "
      ]
     },
     "execution_count": 13,
     "metadata": {},
     "output_type": "execute_result"
    }
   ],
   "source": [
    "# create dataframe from energy calculation computation\n",
    "df_results = pd.DataFrame.from_dict(energycalculation_upstream.energy_use)\n",
    "selected = ['edge_start','edge_stop','distance','sailing_duration','R_tot','P_tot','total_energy',\n",
    "            'total_emission_CO2','total_emission_PM10','total_emission_NOX']\n",
    "            \n",
    "df_results= df_results[selected]\n",
    "df_results"
   ]
  },
  {
   "cell_type": "markdown",
   "id": "e69c63fa-fecb-44e8-aa7a-3a405a1dc060",
   "metadata": {},
   "source": [
    "## Assignment 1"
   ]
  },
  {
   "cell_type": "markdown",
   "id": "132314c9-fe0d-4b6f-9fdf-c9e2ee8cdd16",
   "metadata": {},
   "source": [
    "#### Extract the emissions(CO2, PM10, NOx) indicators in g/km, g/s, g/ton-km"
   ]
  },
  {
   "cell_type": "markdown",
   "id": "48d4f7b8-ebd1-4db1-902f-e383e161411e",
   "metadata": {},
   "source": [
    "### g"
   ]
  },
  {
   "cell_type": "code",
   "execution_count": null,
   "id": "b7505995-0512-4c8c-baee-c63f4ba61e00",
   "metadata": {},
   "outputs": [],
   "source": []
  },
  {
   "cell_type": "markdown",
   "id": "1bd38c84-69dd-45ec-8336-6d1ef71c6ac8",
   "metadata": {},
   "source": [
    "### g/m"
   ]
  },
  {
   "cell_type": "code",
   "execution_count": null,
   "id": "9c22bf3a-471d-4c08-a997-9df965a76db8",
   "metadata": {},
   "outputs": [],
   "source": []
  },
  {
   "cell_type": "markdown",
   "id": "47bbed23-329b-4506-83c6-a499292742d2",
   "metadata": {},
   "source": [
    "### g/s"
   ]
  },
  {
   "cell_type": "code",
   "execution_count": null,
   "id": "01188f4c-8bc5-41ed-93de-cf6e45efbeb9",
   "metadata": {},
   "outputs": [],
   "source": []
  },
  {
   "cell_type": "markdown",
   "id": "cf908f69-2807-4115-b955-442e883807b7",
   "metadata": {},
   "source": [
    "### g/ton-km  \n",
    "(reference vessel payload: 1500 ton)"
   ]
  },
  {
   "cell_type": "code",
   "execution_count": null,
   "id": "6210d652-7107-421b-aa59-dc4c7a963142",
   "metadata": {},
   "outputs": [],
   "source": []
  }
 ],
 "metadata": {
  "kernelspec": {
   "display_name": "Python 3 (ipykernel)",
   "language": "python",
   "name": "python3"
  },
  "language_info": {
   "codemirror_mode": {
    "name": "ipython",
    "version": 3
   },
   "file_extension": ".py",
   "mimetype": "text/x-python",
   "name": "python",
   "nbconvert_exporter": "python",
   "pygments_lexer": "ipython3",
   "version": "3.9.10"
  }
 },
 "nbformat": 4,
 "nbformat_minor": 5
}
