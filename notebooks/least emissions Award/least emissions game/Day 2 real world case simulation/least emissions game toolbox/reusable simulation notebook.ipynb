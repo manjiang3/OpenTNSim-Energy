{
 "cells": [
  {
   "cell_type": "markdown",
   "id": "5dece8b4-3289-4500-843a-8d78c0843a6b",
   "metadata": {},
   "source": [
    "## This notebook is used for simulating the real world inland shipping emissions"
   ]
  },
  {
   "cell_type": "markdown",
   "id": "9d78ebbc-8a03-4321-b008-9e1ea6cc5d02",
   "metadata": {},
   "source": [
    "### Imports\n",
    "Import the required libraries"
   ]
  },
  {
   "cell_type": "code",
   "execution_count": 1,
   "id": "cc10a288-4231-44ec-a0c7-b9373a46c877",
   "metadata": {},
   "outputs": [],
   "source": [
    "# package(s) related to time, space and id\n",
    "import logging\n",
    "import datetime, time\n",
    "import platform\n",
    "import itertools\n",
    "\n",
    "# package(s) related to the simulation\n",
    "import simpy\n",
    "import pandas as pd\n",
    "pd.options.display.max_columns = None\n",
    "pd.options.display.max_rows = None\n",
    "\n",
    "# spatial libraries \n",
    "import pyproj\n",
    "import shapely.geometry\n",
    "from simplekml import Kml, Style\n",
    "\n",
    "# package(s) for data handling\n",
    "import numpy as np\n",
    "import matplotlib.pyplot as plt\n",
    "\n",
    "# OpenTNSim\n",
    "import opentnsim\n",
    "\n",
    "# Used for mathematical functions\n",
    "import math             \n",
    "import tqdm\n",
    "# Used for making the graph \n",
    "import networkx as nx   \n",
    "\n",
    "import plotly.express as px\n",
    "from plotly.subplots import make_subplots\n",
    "\n",
    "#logging.basicConfig(level=logging.DEBUG) #turn on all the debug messages\n",
    "logging.basicConfig(level=logging.INFO)# turn off all the debug messages\n"
   ]
  },
  {
   "cell_type": "markdown",
   "id": "2ba3d587-2fcf-41be-9836-3fdc57a1f82f",
   "metadata": {},
   "source": [
    "\n",
    "### create graph with navigation info"
   ]
  },
  {
   "cell_type": "code",
   "execution_count": 2,
   "id": "c0fcf9d7-e56e-4597-961b-a583c47193f0",
   "metadata": {},
   "outputs": [],
   "source": [
    "# specify a number of coordinate along your route (coords are: lon, lat)\n",
    "coords = [\n",
    "    [0,0],\n",
    "    [0.4492,0],\n",
    "    [1.1678,0], \n",
    "    [1.6619,0]  \n",
    "] \n",
    "\n",
    "# for each edge (between above coordinates) specify the depth [m] and current speed [m/s]\n",
    "depths = [6, 4.5, 3.5]\n",
    "\n",
    "current_speeds = [-0.75,\n",
    "                  -1.25,\n",
    "                  -1.5]  # [m/s]\n",
    "\n",
    "\n",
    "V_g_profile_up = [1,1,1] # [m/s], ship velocity over ground for upstream, if this is not used, set to'none' in vessel data dictionary below\n",
    "\n",
    "V_g_profile_down = [3,3,3] # [m/s], ship velocity over ground for downstream\n",
    "\n",
    "# check of nr of coords and nr of depths align\n",
    "assert len(coords) == len(depths) + 1, 'nr of depths does not correspond to nr of coords'"
   ]
  },
  {
   "cell_type": "code",
   "execution_count": 3,
   "id": "5e7b7ae7-2bc6-463c-82a8-c9dec3e13a61",
   "metadata": {},
   "outputs": [],
   "source": [
    "# create a graph based on coords and depths\n",
    "FG = nx.DiGraph()\n",
    "nodes = []\n",
    "path = []\n",
    "\n",
    "# add nodes\n",
    "Node = type('Site', (opentnsim.core.Identifiable, opentnsim.core.Locatable), {})\n",
    "\n",
    "for index, coord in enumerate(coords):\n",
    "    data_node = {\"name\": \"Node \" + str(index), \"geometry\": shapely.geometry.Point(coord[0], coord[1])}\n",
    "    nodes.append(Node(**data_node))\n",
    "    \n",
    "positions = {}\n",
    "for node in nodes:\n",
    "    positions[node.name] = (node.geometry.x, node.geometry.y)\n",
    "    FG.add_node(node.name, geometry = node.geometry)\n",
    "\n",
    "# add edges\n",
    "path = [[nodes[i], nodes[i+1]] for i in range(len(nodes)-1)]\n",
    "\n",
    "for index, edge in enumerate(path):\n",
    "\n",
    "    FG.add_edge(edge[0].name, edge[1].name, weight = 1, Info = {\n",
    "        \"GeneralDepth\": depths[index],\n",
    "        \"CurrentSpeed\": current_speeds[index],\n",
    "        \"VesselSpeedToGroundProfile_upstream\": V_g_profile_up[index],\n",
    "        \"VesselSpeedToGroundProfile_downstream\": V_g_profile_down[index]\n",
    "    })\n",
    "\n",
    "FG = FG.to_undirected() \n",
    "FG = FG.to_directed() "
   ]
  },
  {
   "cell_type": "code",
   "execution_count": 4,
   "id": "af6fa92d-aa4d-495e-ac1c-47cf0d7a17ed",
   "metadata": {},
   "outputs": [
    {
     "data": {
      "image/png": "[encoded data removed]",
      "text/plain": [
       "<Figure size 432x288 with 1 Axes>"
      ]
     },
     "metadata": {},
     "output_type": "display_data"
    }
   ],
   "source": [
    "# show graph\n",
    "nx.draw(FG, positions, node_size=200)\n",
    "\n",
    "plt.show()"
   ]
  },
  {
   "cell_type": "code",
   "execution_count": 5,
   "id": "547b826c-9c42-4bb4-b430-50399360468d",
   "metadata": {
    "tags": []
   },
   "outputs": [
    {
     "name": "stdout",
     "output_type": "stream",
     "text": [
      "General depth for edge ('Node 0', 'Node 1') is 6 m\n",
      "Current speed for edge ('Node 0', 'Node 1') is 0.75 m/s\n",
      "Vessel Speed To Ground for edge ('Node 0', 'Node 1') is 1 m/s while sailing upstream\n",
      "Vessel Speed To Ground for edge ('Node 0', 'Node 1') is 3 m/s while sailing downstream\n",
      "General depth for edge ('Node 1', 'Node 0') is 6 m\n",
      "Current speed for edge ('Node 1', 'Node 0') is 0.75 m/s\n",
      "Vessel Speed To Ground for edge ('Node 1', 'Node 0') is 1 m/s while sailing upstream\n",
      "Vessel Speed To Ground for edge ('Node 1', 'Node 0') is 3 m/s while sailing downstream\n",
      "General depth for edge ('Node 1', 'Node 2') is 4.5 m\n",
      "Current speed for edge ('Node 1', 'Node 2') is 1.25 m/s\n",
      "Vessel Speed To Ground for edge ('Node 1', 'Node 2') is 1 m/s while sailing upstream\n",
      "Vessel Speed To Ground for edge ('Node 1', 'Node 2') is 3 m/s while sailing downstream\n",
      "General depth for edge ('Node 2', 'Node 1') is 4.5 m\n",
      "Current speed for edge ('Node 2', 'Node 1') is 1.25 m/s\n",
      "Vessel Speed To Ground for edge ('Node 2', 'Node 1') is 1 m/s while sailing upstream\n",
      "Vessel Speed To Ground for edge ('Node 2', 'Node 1') is 3 m/s while sailing downstream\n",
      "General depth for edge ('Node 2', 'Node 3') is 3.5 m\n",
      "Current speed for edge ('Node 2', 'Node 3') is 1.5 m/s\n",
      "Vessel Speed To Ground for edge ('Node 2', 'Node 3') is 1 m/s while sailing upstream\n",
      "Vessel Speed To Ground for edge ('Node 2', 'Node 3') is 3 m/s while sailing downstream\n",
      "General depth for edge ('Node 3', 'Node 2') is 3.5 m\n",
      "Current speed for edge ('Node 3', 'Node 2') is 1.5 m/s\n",
      "Vessel Speed To Ground for edge ('Node 3', 'Node 2') is 1 m/s while sailing upstream\n",
      "Vessel Speed To Ground for edge ('Node 3', 'Node 2') is 3 m/s while sailing downstream\n"
     ]
    }
   ],
   "source": [
    "#  Note that edges are made bi-directional for upstream and downstream  \n",
    "for edge in FG.edges:\n",
    "    print('General depth for edge {} is {} m'.format(edge, FG.get_edge_data(edge[0], edge[1])[\"Info\"][\"GeneralDepth\"]))\n",
    "    print('Current speed for edge {} is {} m/s'.format(edge, -FG.get_edge_data(edge[0], edge[1])[\"Info\"][\"CurrentSpeed\"]))\n",
    "    print('Vessel Speed To Ground for edge {} is {} m/s while sailing upstream'.format(edge, FG.get_edge_data(edge[0], edge[1])[\"Info\"][\"VesselSpeedToGroundProfile_upstream\"]))\n",
    "    print('Vessel Speed To Ground for edge {} is {} m/s while sailing downstream'.format(edge, FG.get_edge_data(edge[0], edge[1])[\"Info\"][\"VesselSpeedToGroundProfile_downstream\"]))"
   ]
  },
  {
   "cell_type": "markdown",
   "id": "dd99c668-ba67-4d9b-9132-3a9fcd5d234c",
   "metadata": {
    "tags": []
   },
   "source": [
    "### Create vessel - add VesselProperties and ConsumesEnergy mixins"
   ]
  },
  {
   "cell_type": "code",
   "execution_count": 6,
   "id": "206fe4b7-e85c-4ab0-b1e4-53277d897723",
   "metadata": {},
   "outputs": [],
   "source": [
    "# Make your preferred class out of available mix-ins.\n",
    "TransportResource = type(\n",
    "    \"Vessel\",\n",
    "    (\n",
    "        opentnsim.core.Identifiable,\n",
    "        opentnsim.core.Movable,\n",
    "        opentnsim.core.VesselProperties,  # needed to add vessel properties\n",
    "        opentnsim.energy.ConsumesEnergy,\n",
    "        opentnsim.core.ExtraMetadata,\n",
    "    ),\n",
    "    {},\n",
    ")  # needed to calculate resistances"
   ]
  },
  {
   "cell_type": "code",
   "execution_count": 7,
   "id": "1f57ac4b-9fdb-4602-9e70-cd7f05dd0473",
   "metadata": {},
   "outputs": [],
   "source": [
    "# Create a dict with all important settings\n",
    "\n",
    "data_vessel_up = {\n",
    "    \"env\": None,\n",
    "    \"name\": 'Vessel M6',\n",
    "    \"route\": None,\n",
    "    \"geometry\": None,\n",
    "    \"v\": None,  # m/s\n",
    "    \"V_g_ave\":4.4,\n",
    "    \"use_V_g_profile\":True,\n",
    "    \"type\": None,\n",
    "    \"B\": 9.5,\n",
    "    \"L\": 85,\n",
    "    \"H_e\": None, \n",
    "    \"H_f\": None, \n",
    "    \"T\": 2,\n",
    "    \"safety_margin\": 0.3, # for tanker vessel with rocky bed the safety margin is recommended as 0.3 m\n",
    "    \"h_squat\": False, # if consider the ship squatting while moving, set to True, otherwise set to False. Note that here we have disabled h_squat calculation since we regard the water depth h_0 is already reduced by squat effect. This applies to figures 3, 5, 7, 8 and 9.\n",
    "    \"payload\":None,\n",
    "    \"vessel_type\":\"Dry_DH\", #vessel types: \"Container\",\"Dry_SH\",\"Dry_DH\",\"Barge\",\"Tanker\". (\"Dry_SH\" means dry bulk single hull, \"Dry_DH\" means dry bulk double hull)    \n",
    "    \"P_installed\": 780.0,   \n",
    "    \"P_tot_given\": None, # kW\n",
    "    \"P_tot_given_profile\":False,\n",
    "    \"bulbous_bow\": False, # if a vessel has no bulbous_bow, set to False; otherwise set to True.\n",
    "    \"sailing_on_power\": False,\n",
    "    \"sailing_upstream\":True,\n",
    "    \"wind_influence\": False,\n",
    "    \"P_hotel_perc\": 0,\n",
    "    \"P_hotel\": None, # None: calculate P_hotel from percentage\n",
    "    \"x\": 1,# number of propellers\n",
    "    \"L_w\": 2.0 ,\n",
    "    \"C_B\":0.85, \n",
    "    \"C_year\": 2000,\n",
    "}             \n",
    "\n"
   ]
  },
  {
   "cell_type": "code",
   "execution_count": 8,
   "id": "70828b2b-a8ff-4e72-b98e-79c8132b75b5",
   "metadata": {},
   "outputs": [],
   "source": [
    "# Create a dict with all important settings\n",
    "\n",
    "data_vessel_down = {\n",
    "    \"env\": None,\n",
    "    \"name\": 'Vessel M6',\n",
    "    \"route\": None,\n",
    "    \"geometry\": None,\n",
    "    \"v\": None,  # m/s\n",
    "    \"V_g_ave\":4.44,\n",
    "    \"use_V_g_profile\":True,\n",
    "    \"type\": None,\n",
    "    \"B\": 9.5,\n",
    "    \"L\": 85,\n",
    "    \"H_e\": None, \n",
    "    \"H_f\": None, \n",
    "    \"T\": 2,\n",
    "    \"safety_margin\": 0.3, # for tanker vessel with rocky bed the safety margin is recommended as 0.3 m\n",
    "    \"h_squat\": False, # if consider the ship squatting while moving, set to True, otherwise set to False. Note that here we have disabled h_squat calculation since we regard the water depth h_0 is already reduced by squat effect. This applies to figures 3, 5, 7, 8 and 9.\n",
    "    \"payload\":None,\n",
    "    \"vessel_type\":\"Dry_DH\", #vessel types: \"Container\",\"Dry_SH\",\"Dry_DH\",\"Barge\",\"Tanker\". (\"Dry_SH\" means dry bulk single hull, \"Dry_DH\" means dry bulk double hull)    \n",
    "    \"P_installed\": 780.0,   \n",
    "    \"P_tot_given\": None, # kW\n",
    "    \"P_tot_given_profile\":False,\n",
    "    \"bulbous_bow\": False, # if a vessel has no bulbous_bow, set to False; otherwise set to True.\n",
    "    \"sailing_on_power\": False,\n",
    "    \"sailing_upstream\":False,\n",
    "    \"wind_influence\": False,\n",
    "    \"P_hotel_perc\": 0,\n",
    "    \"P_hotel\": None, # None: calculate P_hotel from percentage\n",
    "    \"x\": 1,# number of propellers\n",
    "    \"L_w\": 2.0 ,\n",
    "    \"C_B\":0.85, \n",
    "    \"C_year\": 2000, # although the construction year of Herso 1 is 1961, checking with the SFC used in the paper,it is similar as year of 2000\n",
    "}             \n",
    "\n"
   ]
  },
  {
   "cell_type": "markdown",
   "id": "2a765004-55f5-4f0c-82eb-397d10ee3892",
   "metadata": {},
   "source": [
    "### define sailing paths"
   ]
  },
  {
   "cell_type": "code",
   "execution_count": 9,
   "id": "54cbee1b-b1f0-4d0c-87d5-9d3382d69e8c",
   "metadata": {},
   "outputs": [],
   "source": [
    "path_upstream = nx.dijkstra_path(FG, nodes[0].name, nodes[3].name)\n",
    "path_downstream = nx.dijkstra_path(FG, nodes[3].name, nodes[0].name)"
   ]
  },
  {
   "cell_type": "markdown",
   "id": "ce163b80-a9ac-4cdb-8e35-eb0b6f279c16",
   "metadata": {},
   "source": [
    "### define simulation \"Vessel sailing upstream and downstream\""
   ]
  },
  {
   "cell_type": "code",
   "execution_count": 10,
   "id": "73101513-130a-472e-8eca-486de7dbfad8",
   "metadata": {},
   "outputs": [],
   "source": [
    "def run_simulation(path,**data_vessel):\n",
    "    \n",
    "    # Start simpy environment\n",
    "    simulation_start = datetime.datetime.now()\n",
    "    env = simpy.Environment(initial_time = time.mktime(simulation_start.timetuple()))\n",
    "    env.epoch = time.mktime(simulation_start.timetuple())\n",
    "\n",
    "    # Add graph to environment\n",
    "    env.FG = FG\n",
    "\n",
    "    # Add environment and path to the vessel\n",
    "    # create a fresh instance of vessel\n",
    "    vessel = TransportResource(**data_vessel)\n",
    "    vessel.env = env                                        #the created environment\n",
    "    vessel.name = 'Vessel No.1'                     \n",
    "    vessel.route = path                                     #the route (the sequence of nodes, as stored as the second column in the path)\n",
    "    vessel.geometry = env.FG.nodes[path[0]]['geometry']     #a shapely.geometry.Point(lon,lat) (here taken as the starting node of the vessel)\n",
    "    # vessel.V_g_ave = V_g_ave\n",
    "    # vessel.sailing_upstream = sailing_upstream\n",
    "    # vessel.P_tot_given = P_tot_given\n",
    "    # Start the simulation\n",
    "    env.process(vessel.move())\n",
    "    env.run()\n",
    "    \n",
    "    return vessel"
   ]
  },
  {
   "cell_type": "markdown",
   "id": "2156376c-edf1-450c-9fc8-ccca621d8316",
   "metadata": {},
   "source": [
    "### run upstream simulation to get emissions results"
   ]
  },
  {
   "cell_type": "code",
   "execution_count": 11,
   "id": "0d9241f8-8d84-486e-aacc-d6cfa9a73fdd",
   "metadata": {},
   "outputs": [
    {
     "name": "stderr",
     "output_type": "stream",
     "text": [
      "C:\\ANACONDA2021\\envs\\sim\\lib\\site-packages\\pandas\\core\\dtypes\\cast.py:122: ShapelyDeprecationWarning:\n",
      "\n",
      "The array interface is deprecated and will no longer work in Shapely 2.0. Convert the '.coords' to a numpy array instead.\n",
      "\n"
     ]
    },
    {
     "data": {
      "text/html": [
       "<div>\n",
       "<style scoped>\n",
       "    .dataframe tbody tr th:only-of-type {\n",
       "        vertical-align: middle;\n",
       "    }\n",
       "\n",
       "    .dataframe tbody tr th {\n",
       "        vertical-align: top;\n",
       "    }\n",
       "\n",
       "    .dataframe thead th {\n",
       "        text-align: right;\n",
       "    }\n",
       "</style>\n",
       "<table border=\"1\" class=\"dataframe\">\n",
       "  <thead>\n",
       "    <tr style=\"text-align: right;\">\n",
       "      <th></th>\n",
       "      <th>edge_start</th>\n",
       "      <th>edge_stop</th>\n",
       "      <th>P_tot</th>\n",
       "      <th>P_installed</th>\n",
       "      <th>total_emission_CO2</th>\n",
       "      <th>total_emission_PM10</th>\n",
       "      <th>total_emission_NOX</th>\n",
       "    </tr>\n",
       "  </thead>\n",
       "  <tbody>\n",
       "    <tr>\n",
       "      <th>0</th>\n",
       "      <td>POINT (0 0)</td>\n",
       "      <td>POINT (0.4492 0)</td>\n",
       "      <td>22.602555</td>\n",
       "      <td>780.0</td>\n",
       "      <td>255087.606909</td>\n",
       "      <td>229.814312</td>\n",
       "      <td>5400.636325</td>\n",
       "    </tr>\n",
       "    <tr>\n",
       "      <th>1</th>\n",
       "      <td>POINT (0.4492 0)</td>\n",
       "      <td>POINT (1.1678 0)</td>\n",
       "      <td>49.125877</td>\n",
       "      <td>780.0</td>\n",
       "      <td>879561.561876</td>\n",
       "      <td>730.184533</td>\n",
       "      <td>17472.376669</td>\n",
       "    </tr>\n",
       "    <tr>\n",
       "      <th>2</th>\n",
       "      <td>POINT (1.1678 0)</td>\n",
       "      <td>POINT (1.6619 0)</td>\n",
       "      <td>72.977811</td>\n",
       "      <td>780.0</td>\n",
       "      <td>880679.703406</td>\n",
       "      <td>580.125063</td>\n",
       "      <td>14705.867783</td>\n",
       "    </tr>\n",
       "  </tbody>\n",
       "</table>\n",
       "</div>"
      ],
      "text/plain": [
       "         edge_start         edge_stop      P_tot  P_installed  \\\n",
       "0       POINT (0 0)  POINT (0.4492 0)  22.602555        780.0   \n",
       "1  POINT (0.4492 0)  POINT (1.1678 0)  49.125877        780.0   \n",
       "2  POINT (1.1678 0)  POINT (1.6619 0)  72.977811        780.0   \n",
       "\n",
       "   total_emission_CO2  total_emission_PM10  total_emission_NOX  \n",
       "0       255087.606909           229.814312         5400.636325  \n",
       "1       879561.561876           730.184533        17472.376669  \n",
       "2       880679.703406           580.125063        14705.867783  "
      ]
     },
     "execution_count": 11,
     "metadata": {},
     "output_type": "execute_result"
    }
   ],
   "source": [
    "vessel_upstream = run_simulation(path = path_upstream, **data_vessel_up)\n",
    "# create an EnergyCalculation object and perform energy consumption calculation\n",
    "energycalculation_upstream = opentnsim.energy.EnergyCalculation(FG, vessel_upstream)\n",
    "energycalculation_upstream.calculate_energy_consumption()\n",
    "\n",
    "# create dataframe from energy calculation computation\n",
    "df_upstream = pd.DataFrame.from_dict(energycalculation_upstream.energy_use)\n",
    "selected = ['edge_start','edge_stop',\n",
    "            'P_tot','P_installed',\n",
    "            'total_emission_CO2','total_emission_PM10','total_emission_NOX']\n",
    "df_upstream = df_upstream[selected]\n",
    "df_upstream"
   ]
  },
  {
   "cell_type": "markdown",
   "id": "9a2d5220-b619-42f9-a594-0778d3939aac",
   "metadata": {},
   "source": [
    "#### upstream emissions"
   ]
  },
  {
   "cell_type": "code",
   "execution_count": 12,
   "id": "8b3e9f63-134d-47fa-b21b-da04e179a6aa",
   "metadata": {},
   "outputs": [
    {
     "data": {
      "text/html": [
       "<div>\n",
       "<style scoped>\n",
       "    .dataframe tbody tr th:only-of-type {\n",
       "        vertical-align: middle;\n",
       "    }\n",
       "\n",
       "    .dataframe tbody tr th {\n",
       "        vertical-align: top;\n",
       "    }\n",
       "\n",
       "    .dataframe thead th {\n",
       "        text-align: right;\n",
       "    }\n",
       "</style>\n",
       "<table border=\"1\" class=\"dataframe\">\n",
       "  <thead>\n",
       "    <tr style=\"text-align: right;\">\n",
       "      <th></th>\n",
       "      <th>single upstream trip</th>\n",
       "    </tr>\n",
       "  </thead>\n",
       "  <tbody>\n",
       "    <tr>\n",
       "      <th>CO2 [kg]</th>\n",
       "      <td>2015.328872</td>\n",
       "    </tr>\n",
       "    <tr>\n",
       "      <th>PM10 [kg]</th>\n",
       "      <td>1.540124</td>\n",
       "    </tr>\n",
       "    <tr>\n",
       "      <th>NOx [kg]</th>\n",
       "      <td>37.578881</td>\n",
       "    </tr>\n",
       "  </tbody>\n",
       "</table>\n",
       "</div>"
      ],
      "text/plain": [
       "           single upstream trip\n",
       "CO2 [kg]            2015.328872\n",
       "PM10 [kg]              1.540124\n",
       "NOx [kg]              37.578881"
      ]
     },
     "execution_count": 12,
     "metadata": {},
     "output_type": "execute_result"
    }
   ],
   "source": [
    "upstream_single_trip_CO2 = (df_upstream['total_emission_CO2']/1000).sum() #kg\n",
    "upstream_single_trip_PM10 = (df_upstream['total_emission_PM10']/1000).sum() #kg\n",
    "upstream_single_trip_NOx = (df_upstream['total_emission_NOX']/1000).sum() #kg\n",
    "upstream_single_trip_emissions = [upstream_single_trip_CO2,upstream_single_trip_PM10,upstream_single_trip_NOx]\n",
    "upstream_single_trip_emissions = pd.DataFrame(upstream_single_trip_emissions, \n",
    "                                               index=['CO2 [kg]','PM10 [kg]','NOx [kg]'],\n",
    "                                              columns = ['single upstream trip'])\n",
    "upstream_single_trip_emissions\n"
   ]
  },
  {
   "cell_type": "markdown",
   "id": "ddc44a42-22c8-47db-b407-c0864cf98b91",
   "metadata": {},
   "source": [
    "### run downstream simulation to get emissions results"
   ]
  },
  {
   "cell_type": "code",
   "execution_count": 13,
   "id": "79b1f158-e4c4-42c9-8ded-cc8676c6f5a5",
   "metadata": {
    "tags": []
   },
   "outputs": [
    {
     "name": "stderr",
     "output_type": "stream",
     "text": [
      "C:\\ANACONDA2021\\envs\\sim\\lib\\site-packages\\pandas\\core\\dtypes\\cast.py:122: ShapelyDeprecationWarning:\n",
      "\n",
      "The array interface is deprecated and will no longer work in Shapely 2.0. Convert the '.coords' to a numpy array instead.\n",
      "\n"
     ]
    },
    {
     "data": {
      "text/html": [
       "<div>\n",
       "<style scoped>\n",
       "    .dataframe tbody tr th:only-of-type {\n",
       "        vertical-align: middle;\n",
       "    }\n",
       "\n",
       "    .dataframe tbody tr th {\n",
       "        vertical-align: top;\n",
       "    }\n",
       "\n",
       "    .dataframe thead th {\n",
       "        text-align: right;\n",
       "    }\n",
       "</style>\n",
       "<table border=\"1\" class=\"dataframe\">\n",
       "  <thead>\n",
       "    <tr style=\"text-align: right;\">\n",
       "      <th></th>\n",
       "      <th>edge_start</th>\n",
       "      <th>edge_stop</th>\n",
       "      <th>P_tot</th>\n",
       "      <th>P_installed</th>\n",
       "      <th>total_emission_CO2</th>\n",
       "      <th>total_emission_PM10</th>\n",
       "      <th>total_emission_NOX</th>\n",
       "    </tr>\n",
       "  </thead>\n",
       "  <tbody>\n",
       "    <tr>\n",
       "      <th>0</th>\n",
       "      <td>POINT (1.6619 0)</td>\n",
       "      <td>POINT (1.1678 0)</td>\n",
       "      <td>16.818947</td>\n",
       "      <td>780.0</td>\n",
       "      <td>69596.032069</td>\n",
       "      <td>62.700671</td>\n",
       "      <td>1473.465777</td>\n",
       "    </tr>\n",
       "    <tr>\n",
       "      <th>1</th>\n",
       "      <td>POINT (1.1678 0)</td>\n",
       "      <td>POINT (0.4492 0)</td>\n",
       "      <td>23.945337</td>\n",
       "      <td>780.0</td>\n",
       "      <td>144104.983478</td>\n",
       "      <td>129.827505</td>\n",
       "      <td>3050.946370</td>\n",
       "    </tr>\n",
       "    <tr>\n",
       "      <th>2</th>\n",
       "      <td>POINT (0.4492 0)</td>\n",
       "      <td>POINT (0 0)</td>\n",
       "      <td>46.281219</td>\n",
       "      <td>780.0</td>\n",
       "      <td>173066.478305</td>\n",
       "      <td>147.135099</td>\n",
       "      <td>3501.862094</td>\n",
       "    </tr>\n",
       "  </tbody>\n",
       "</table>\n",
       "</div>"
      ],
      "text/plain": [
       "         edge_start         edge_stop      P_tot  P_installed  \\\n",
       "0  POINT (1.6619 0)  POINT (1.1678 0)  16.818947        780.0   \n",
       "1  POINT (1.1678 0)  POINT (0.4492 0)  23.945337        780.0   \n",
       "2  POINT (0.4492 0)       POINT (0 0)  46.281219        780.0   \n",
       "\n",
       "   total_emission_CO2  total_emission_PM10  total_emission_NOX  \n",
       "0        69596.032069            62.700671         1473.465777  \n",
       "1       144104.983478           129.827505         3050.946370  \n",
       "2       173066.478305           147.135099         3501.862094  "
      ]
     },
     "execution_count": 13,
     "metadata": {},
     "output_type": "execute_result"
    }
   ],
   "source": [
    "vessel_downstream = run_simulation(path = path_downstream, **data_vessel_down)\n",
    "# create an EnergyCalculation object and perform energy consumption calculation\n",
    "energycalculation_downstream = opentnsim.energy.EnergyCalculation(FG, vessel_downstream)\n",
    "energycalculation_downstream.calculate_energy_consumption()\n",
    "\n",
    "# create dataframe from energy calculation computation\n",
    "df_downstream = pd.DataFrame.from_dict(energycalculation_downstream.energy_use)\n",
    "selected = ['edge_start','edge_stop',\n",
    "            'P_tot','P_installed',\n",
    "            'total_emission_CO2','total_emission_PM10','total_emission_NOX']\n",
    "df_downstream = df_downstream[selected]\n",
    "df_downstream"
   ]
  },
  {
   "cell_type": "markdown",
   "id": "b866e945-736e-42af-b9a9-3d5c870da435",
   "metadata": {},
   "source": [
    "#### downstream emissions"
   ]
  },
  {
   "cell_type": "code",
   "execution_count": 14,
   "id": "b46e29a5-27c5-4c24-9800-540f62b765bf",
   "metadata": {},
   "outputs": [
    {
     "data": {
      "text/html": [
       "<div>\n",
       "<style scoped>\n",
       "    .dataframe tbody tr th:only-of-type {\n",
       "        vertical-align: middle;\n",
       "    }\n",
       "\n",
       "    .dataframe tbody tr th {\n",
       "        vertical-align: top;\n",
       "    }\n",
       "\n",
       "    .dataframe thead th {\n",
       "        text-align: right;\n",
       "    }\n",
       "</style>\n",
       "<table border=\"1\" class=\"dataframe\">\n",
       "  <thead>\n",
       "    <tr style=\"text-align: right;\">\n",
       "      <th></th>\n",
       "      <th>single downstream trip</th>\n",
       "    </tr>\n",
       "  </thead>\n",
       "  <tbody>\n",
       "    <tr>\n",
       "      <th>CO2 [kg]</th>\n",
       "      <td>386.767494</td>\n",
       "    </tr>\n",
       "    <tr>\n",
       "      <th>PM10 [kg]</th>\n",
       "      <td>0.339663</td>\n",
       "    </tr>\n",
       "    <tr>\n",
       "      <th>NOx [kg]</th>\n",
       "      <td>8.026274</td>\n",
       "    </tr>\n",
       "  </tbody>\n",
       "</table>\n",
       "</div>"
      ],
      "text/plain": [
       "           single downstream trip\n",
       "CO2 [kg]               386.767494\n",
       "PM10 [kg]                0.339663\n",
       "NOx [kg]                 8.026274"
      ]
     },
     "execution_count": 14,
     "metadata": {},
     "output_type": "execute_result"
    }
   ],
   "source": [
    "downstream_single_trip_CO2 = (df_downstream['total_emission_CO2']/1000).sum() #kg\n",
    "downstream_single_trip_PM10 = (df_downstream['total_emission_PM10']/1000).sum() #kg\n",
    "downstream_single_trip_NOx = (df_downstream['total_emission_NOX']/1000).sum() #kg\n",
    "downstream_single_trip_emissions = [downstream_single_trip_CO2,downstream_single_trip_PM10,downstream_single_trip_NOx]\n",
    "downstream_single_trip_emissions = pd.DataFrame(downstream_single_trip_emissions, \n",
    "                                               index=['CO2 [kg]','PM10 [kg]','NOx [kg]'],\n",
    "                                               columns = ['single downstream trip'])\n",
    "downstream_single_trip_emissions\n"
   ]
  }
 ],
 "metadata": {
  "kernelspec": {
   "display_name": "Python 3 (ipykernel)",
   "language": "python",
   "name": "python3"
  },
  "language_info": {
   "codemirror_mode": {
    "name": "ipython",
    "version": 3
   },
   "file_extension": ".py",
   "mimetype": "text/x-python",
   "name": "python",
   "nbconvert_exporter": "python",
   "pygments_lexer": "ipython3",
   "version": "3.9.10"
  }
 },
 "nbformat": 4,
 "nbformat_minor": 5
}
