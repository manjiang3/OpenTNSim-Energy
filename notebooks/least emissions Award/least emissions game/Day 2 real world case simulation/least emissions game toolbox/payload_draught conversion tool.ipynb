{
 "cells": [
  {
   "cell_type": "markdown",
   "id": "ddadc1fc-f104-4562-9536-685e2870517d",
   "metadata": {},
   "source": [
    "## Calculate payload"
   ]
  },
  {
   "cell_type": "markdown",
   "id": "a2804c79-c5ff-44dc-8ebb-fa673035c1a2",
   "metadata": {},
   "source": [
    "#### This notebook is used for calculating the actual payload given actual draught and vessel type. "
   ]
  },
  {
   "cell_type": "markdown",
   "id": "b74c4dd3-5511-492c-855a-991fa198a439",
   "metadata": {},
   "source": [
    "- The algorithm is base on Van Dorsser et al's method (2020) (https://www.researchgate.net/publication/344340126_The_effect_of_low_water_on_loading_capacity_of_inland_ships)\n",
    "- vessel types in this algorithm refer to \"Container\",\"Dry_SH\",\"Dry_DH\",\"Barge\", and \"Tanker\".\n",
    "- besides vessel actual draguht and type, the vessel length and breath are also required input."
   ]
  },
  {
   "cell_type": "markdown",
   "id": "ada24b28-adb7-4597-b822-138612e9fb2f",
   "metadata": {},
   "source": [
    " "
   ]
  },
  {
   "cell_type": "markdown",
   "id": "0e4f3cd3-84c6-4f4f-87ca-9efac435d218",
   "metadata": {},
   "source": [
    "### Imports\n",
    "Import the required libraries"
   ]
  },
  {
   "cell_type": "code",
   "execution_count": 1,
   "id": "c8f99438-92d3-4db6-84de-10fba502047c",
   "metadata": {},
   "outputs": [],
   "source": [
    "# package(s) related to time, space and id\n",
    "import logging\n",
    "import datetime, time\n",
    "import platform\n",
    "import itertools\n",
    "# you need these dependencies (you can get these from anaconda)\n",
    "# package(s) related to the simulation\n",
    "import simpy\n",
    "import pandas as pd\n",
    "pd.options.display.max_columns = None\n",
    "pd.options.display.max_rows = None\n",
    "\n",
    "# spatial libraries \n",
    "import pyproj\n",
    "import shapely.geometry\n",
    "from simplekml import Kml, Style\n",
    "\n",
    "# package(s) for data handling\n",
    "import numpy as np\n",
    "import matplotlib.pyplot as plt\n",
    "\n",
    "# OpenTNSim\n",
    "import opentnsim\n",
    "\n",
    "# Used for mathematical functions\n",
    "import math             \n",
    "import tqdm\n",
    "# Used for making the graph to visualize our problem\n",
    "import networkx as nx   \n",
    "\n",
    "import plotly.express as px\n",
    "from plotly.subplots import make_subplots\n",
    "\n",
    "#logging.basicConfig(level=logging.DEBUG) #turn on all the debug messages\n",
    "logging.basicConfig(level=logging.INFO)# turn off all the debug messages\n"
   ]
  },
  {
   "cell_type": "code",
   "execution_count": 2,
   "id": "15f4b98d-9354-4166-bc96-ed06e5aa2e5b",
   "metadata": {},
   "outputs": [],
   "source": [
    "# Make your preferred class out of available mix-ins.\n",
    "TransportResource = type(\n",
    "    \"Vessel\",\n",
    "    (\n",
    "        opentnsim.core.Identifiable,\n",
    "        opentnsim.core.Movable,\n",
    "        opentnsim.core.VesselProperties,  # needed to add vessel properties\n",
    "        opentnsim.energy.ConsumesEnergy,\n",
    "        opentnsim.core.ExtraMetadata,\n",
    "    ),\n",
    "    {},\n",
    ")  # needed to calculate resistances"
   ]
  },
  {
   "cell_type": "code",
   "execution_count": 3,
   "id": "238ce9a7-7fd4-4fbd-ba07-6bdb140267bf",
   "metadata": {},
   "outputs": [],
   "source": [
    "## Create a dict with all important settings\n",
    "\n",
    "data_vessel = {\n",
    "    \"env\": None,\n",
    "    \"name\": 'Vessel M9',\n",
    "    \"route\": None,\n",
    "    \"geometry\": None,\n",
    "    \"v\": None,  # m/s\n",
    "    \"V_g_ave\":4.4,\n",
    "    \"use_V_g_profile\":True,\n",
    "    \"type\": None,\n",
    "    \"B\": 11.45,\n",
    "    \"L\": 135,\n",
    "    \"H_e\": None, \n",
    "    \"H_f\": None, \n",
    "    \"T\": 3,\n",
    "    \"safety_margin\": 0.3, # for tanker vessel with rocky bed the safety margin is recommended as 0.3 m\n",
    "    \"h_squat\": False, # if consider the ship squatting while moving, set to True, otherwise set to False. Note that here we have disabled h_squat calculation since we regard the water depth h_0 is already reduced by squat effect. This applies to figures 3, 5, 7, 8 and 9.\n",
    "    \"payload\":None,\n",
    "    \"vessel_type\":\"Dry_DH\", #vessel types: \"Container\",\"Dry_SH\",\"Dry_DH\",\"Barge\",\"Tanker\". (\"Dry_SH\" means dry bulk single hull, \"Dry_DH\" means dry bulk double hull)    \n",
    "    \"P_installed\": 2200.0,   \n",
    "    \"P_tot_given\": None, # kW\n",
    "    \"P_tot_given_profile\":False,\n",
    "    \"bulbous_bow\": False, # if a vessel has no bulbous_bow, set to False; otherwise set to True.\n",
    "    \"narrow\": False,\n",
    "    \"sailing_on_power\": False,\n",
    "    \"sailing_upstream\":True,\n",
    "    \"wind_influence\": False,\n",
    "    \"P_hotel_perc\": 0,\n",
    "    \"P_hotel\": None, # None: calculate P_hotel from percentage\n",
    "    \"x\": 1,# number of propellers\n",
    "    \"L_w\": 2.0 ,\n",
    "    \"C_B\":0.85, \n",
    "    \"C_year\": 2000,\n",
    "}             \n",
    "\n",
    "data_vessel_i = data_vessel.copy()\n",
    "vessel = TransportResource(**data_vessel_i)"
   ]
  },
  {
   "cell_type": "code",
   "execution_count": 4,
   "id": "75f56889-2673-47a9-a85b-bc07c0170dc5",
   "metadata": {},
   "outputs": [
    {
     "name": "stdout",
     "output_type": "stream",
     "text": [
      "the computed payload for this draguht is 3022.783559915641 ton\n"
     ]
    }
   ],
   "source": [
    "Payload_comupted = opentnsim.strategy.T2Payload(vessel= vessel, T_strategy = 3 , vessel_type = 'Dry_DH')\n",
    "print('the computed payload for this draguht is',Payload_comupted, 'ton')"
   ]
  }
 ],
 "metadata": {
  "kernelspec": {
   "display_name": "Python 3 (ipykernel)",
   "language": "python",
   "name": "python3"
  },
  "language_info": {
   "codemirror_mode": {
    "name": "ipython",
    "version": 3
   },
   "file_extension": ".py",
   "mimetype": "text/x-python",
   "name": "python",
   "nbconvert_exporter": "python",
   "pygments_lexer": "ipython3",
   "version": "3.9.10"
  }
 },
 "nbformat": 4,
 "nbformat_minor": 5
}
