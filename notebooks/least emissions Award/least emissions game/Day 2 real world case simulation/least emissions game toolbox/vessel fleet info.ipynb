{
 "cells": [
  {
   "cell_type": "markdown",
   "id": "b481e8b5-0d31-4f37-8785-ad23def61ec1",
   "metadata": {},
   "source": [
    "## Choose your vessel from the vessel fleet"
   ]
  },
  {
   "cell_type": "markdown",
   "id": "5a8686df-b063-49d2-a44b-a9e1acbdb439",
   "metadata": {},
   "source": [
    "The vessel fleet contains vessel types of M12, M11, M10, M9, M8, M7, M6, M5, M4, M3, M2, M1\n",
    "<br> reference https://nl.wikipedia.org/wiki/CEMT-klasse"
   ]
  },
  {
   "cell_type": "markdown",
   "id": "3b654b31-6b84-4be3-96c6-79903b406db9",
   "metadata": {},
   "source": [
    "Note that the vessel properties is slightly different while sailing upstream and downstream. You need to use the right vessel properities for upstream and downstream sailing cases."
   ]
  },
  {
   "cell_type": "markdown",
   "id": "6eb39dd5-35db-4c79-bf8a-e74ea10c3c76",
   "metadata": {},
   "source": [
    "The vessel is loaded while sailing upstream from Rotterdam to Wesel, and unloaded (empty) sailing downstream from Wesel to Rotterdam.\n",
    "<br> - the draught (T) in upstream configuration is the suggested maximum draguht to use considering vessel maximum design draguht, navigation conditions and safety. \n",
    "<br> - the draught (T) in downstream configuration is the unloaded draguht."
   ]
  },
  {
   "cell_type": "code",
   "execution_count": 1,
   "id": "8c0514b9-d58a-43cf-9c42-3ac22d1c54f3",
   "metadata": {},
   "outputs": [],
   "source": [
    "# package(s) related to time, space and id\n",
    "import logging\n",
    "import datetime, time\n",
    "import platform\n",
    "import itertools\n",
    "# you need these dependencies (you can get these from anaconda)\n",
    "# package(s) related to the simulation\n",
    "import simpy\n",
    "import pandas as pd\n",
    "pd.options.display.max_columns = None\n",
    "pd.options.display.max_rows = None\n",
    "\n",
    "# spatial libraries \n",
    "import pyproj\n",
    "import shapely.geometry\n",
    "from simplekml import Kml, Style\n",
    "\n",
    "# package(s) for data handling\n",
    "import numpy as np\n",
    "import matplotlib.pyplot as plt\n",
    "\n",
    "# OpenTNSim\n",
    "import opentnsim\n",
    "\n",
    "# Used for mathematical functions\n",
    "import math             \n",
    "import tqdm\n",
    "# Used for making the graph to visualize our problem\n",
    "import networkx as nx   \n",
    "\n",
    "import plotly.express as px\n",
    "from plotly.subplots import make_subplots\n",
    "\n",
    "#logging.basicConfig(level=logging.DEBUG) #turn on all the debug messages\n",
    "logging.basicConfig(level=logging.INFO)# turn off all the debug messages\n"
   ]
  },
  {
   "cell_type": "code",
   "execution_count": 2,
   "id": "cbfadb94-4ebc-4efb-b842-b1dd5bd0dd76",
   "metadata": {},
   "outputs": [],
   "source": [
    "# Make your preferred class out of available mix-ins.\n",
    "TransportResource = type(\n",
    "    \"Vessel\",\n",
    "    (\n",
    "        opentnsim.core.Identifiable,\n",
    "        opentnsim.core.Movable,\n",
    "        opentnsim.core.VesselProperties,  # needed to add vessel properties\n",
    "        opentnsim.energy.ConsumesEnergy,\n",
    "        opentnsim.core.ExtraMetadata,\n",
    "    ),\n",
    "    {},\n",
    ")  # needed to calculate resistances"
   ]
  },
  {
   "cell_type": "markdown",
   "id": "01bf533f-d43b-4221-889d-3e6a757096d9",
   "metadata": {},
   "source": [
    "#### M12"
   ]
  },
  {
   "cell_type": "markdown",
   "id": "28a934f0-14c9-427f-9940-f6010c01c446",
   "metadata": {},
   "source": [
    "upstream"
   ]
  },
  {
   "cell_type": "code",
   "execution_count": 3,
   "id": "66709737-0a92-46d3-9f1d-a3a80fde3d35",
   "metadata": {},
   "outputs": [],
   "source": [
    "# vessel dict with all important settings\n",
    "\n",
    "data_vessel_up = {\n",
    "    \"env\": None,\n",
    "    \"name\": 'M12_up',\n",
    "    \"route\": None,\n",
    "    \"geometry\": None,\n",
    "    \"v\": None,  # m/s\n",
    "    \"V_g_ave\":3.53,\n",
    "    \"use_V_g_profile\":True,\n",
    "    \"type\": None,\n",
    "    \"B\": 17,\n",
    "    \"L\": 135,\n",
    "    \"T\": 2.95,\n",
    "    \"safety_margin\": 0.3, # for tanker vessel with rocky bed the safety margin is recommended as 0.3 m\n",
    "    \"h_squat\": False, # if consider the ship squatting while moving, set to True, otherwise set to False. Note that here we have disabled h_squat calculation since we regard the water depth h_0 is already reduced by squat effect. This applies to figures 3, 5, 7, 8 and 9.\n",
    "    \"payload\":None,\n",
    "    \"vessel_type\":\"Dry_DH\", #vessel types: \"Container\",\"Dry_SH\",\"Dry_DH\",\"Barge\",\"Tanker\". (\"Dry_SH\" means dry bulk single hull, \"Dry_DH\" means dry bulk double hull)    \n",
    "    \"P_installed\":3000,   \n",
    "    \"P_tot_given\": None, # kW\n",
    "    \"bulbous_bow\": False, # if a vessel has no bulbous_bow, set to False; otherwise set to True.\n",
    "    \"sailing_on_power\": False,\n",
    "    \"sailing_upstream\":True,\n",
    "    \"wind_influence\": False,\n",
    "    \"P_hotel_perc\": 0.08,\n",
    "    \"P_hotel\": None, # None: calculate P_hotel from percentage\n",
    "    \"x\": 2,# number of propellers\n",
    "    \"L_w\": 3.0 ,\n",
    "    \"C_B\":0.85, \n",
    "    \"C_year\": 2000, # the engine construction year is only used for diesel use and emissions quantification\n",
    "}             \n"
   ]
  },
  {
   "cell_type": "code",
   "execution_count": 4,
   "id": "21cb7e22-4d5e-42ff-afe1-48c55db0e6d4",
   "metadata": {},
   "outputs": [
    {
     "name": "stdout",
     "output_type": "stream",
     "text": [
      "the computed payload for this draguht is 4169 ton\n"
     ]
    }
   ],
   "source": [
    "data_vessel_i = data_vessel_up.copy()\n",
    "vessel = TransportResource(**data_vessel_i)\n",
    "Payload_comupted = round(opentnsim.strategy.T2Payload(vessel= vessel, T_strategy = 2.95 , vessel_type = 'Dry_DH'))\n",
    "print('the computed payload for this draguht is',Payload_comupted, 'ton')"
   ]
  },
  {
   "cell_type": "markdown",
   "id": "42646651-d615-4d67-8f11-202d61d1fb96",
   "metadata": {},
   "source": [
    "downstream"
   ]
  },
  {
   "cell_type": "code",
   "execution_count": 5,
   "id": "a6145b56-d2a5-4478-9075-e089026353c6",
   "metadata": {},
   "outputs": [],
   "source": [
    "\n",
    "data_vessel_down = {\n",
    "    \"env\": None,\n",
    "    \"name\": 'M12_down',\n",
    "    \"route\": None,\n",
    "    \"geometry\": None,\n",
    "    \"v\": None,  # m/s\n",
    "    \"V_g_ave\":3.53,\n",
    "    \"use_V_g_profile\":True,\n",
    "    \"type\": None,\n",
    "    \"B\": 17,\n",
    "    \"L\": 135,\n",
    "    \"T\": 2,\n",
    "    \"safety_margin\": 0.3, # for tanker vessel with rocky bed the safety margin is recommended as 0.3 m\n",
    "    \"h_squat\": False, # if consider the ship squatting while moving, set to True, otherwise set to False. Note that here we have disabled h_squat calculation since we regard the water depth h_0 is already reduced by squat effect. This applies to figures 3, 5, 7, 8 and 9.\n",
    "    \"payload\":None,\n",
    "    \"vessel_type\":\"Dry_DH\", #vessel types: \"Container\",\"Dry_SH\",\"Dry_DH\",\"Barge\",\"Tanker\". (\"Dry_SH\" means dry bulk single hull, \"Dry_DH\" means dry bulk double hull)    \n",
    "    \"P_installed\":3000,   \n",
    "    \"P_tot_given\": None, # kW\n",
    "    \"bulbous_bow\": False, # if a vessel has no bulbous_bow, set to False; otherwise set to True.\n",
    "    \"sailing_on_power\": False,\n",
    "    \"sailing_upstream\":False,\n",
    "    \"wind_influence\": False,\n",
    "    \"P_hotel_perc\": 0.08,\n",
    "    \"P_hotel\": None, # None: calculate P_hotel from percentage\n",
    "    \"x\": 2,# number of propellers\n",
    "    \"L_w\": 3.0 ,\n",
    "    \"C_B\":0.85, \n",
    "    \"C_year\": 2000, # the engine construction year is only used for diesel use and emissions quantification\n",
    "}             \n",
    "\n"
   ]
  },
  {
   "cell_type": "markdown",
   "id": "63d7be16-44c7-495c-a5c9-2a3e21385a48",
   "metadata": {},
   "source": [
    "#### M11"
   ]
  },
  {
   "cell_type": "markdown",
   "id": "72f0d014-05e2-4d95-942e-acbcd890f755",
   "metadata": {},
   "source": [
    "upstream"
   ]
  },
  {
   "cell_type": "code",
   "execution_count": 6,
   "id": "985e41ad-3d6e-4dd4-b801-86e8b5e5cf40",
   "metadata": {},
   "outputs": [],
   "source": [
    "# vessel dict with all important settings\n",
    "\n",
    "data_vessel_up = {\n",
    "    \"env\": None,\n",
    "    \"name\": 'M11_up',\n",
    "    \"route\": None,\n",
    "    \"geometry\": None,\n",
    "    \"v\": None,  # m/s\n",
    "    \"V_g_ave\":3.53,\n",
    "    \"use_V_g_profile\":True,\n",
    "    \"type\": None,\n",
    "    \"B\": 14.2,\n",
    "    \"L\": 135,\n",
    "    \"T\": 3,\n",
    "    \"safety_margin\": 0.3, # for tanker vessel with rocky bed the safety margin is recommended as 0.3 m\n",
    "    \"h_squat\": False, # if consider the ship squatting while moving, set to True, otherwise set to False. Note that here we have disabled h_squat calculation since we regard the water depth h_0 is already reduced by squat effect. This applies to figures 3, 5, 7, 8 and 9.\n",
    "    \"payload\":None,\n",
    "    \"vessel_type\":\"Dry_DH\", #vessel types: \"Container\",\"Dry_SH\",\"Dry_DH\",\"Barge\",\"Tanker\". (\"Dry_SH\" means dry bulk single hull, \"Dry_DH\" means dry bulk double hull)    \n",
    "    \"P_installed\":2400,   \n",
    "    \"P_tot_given\": None, # kW\n",
    "    \"bulbous_bow\": False, # if a vessel has no bulbous_bow, set to False; otherwise set to True.\n",
    "    \"sailing_on_power\": False,\n",
    "    \"sailing_upstream\":True,\n",
    "    \"wind_influence\": False,\n",
    "    \"P_hotel_perc\": 0.08,\n",
    "    \"P_hotel\": None, # None: calculate P_hotel from percentage\n",
    "    \"x\": 2,# number of propellers\n",
    "    \"L_w\": 3.0 ,\n",
    "    \"C_B\":0.85, \n",
    "    \"C_year\": 2000, # the engine construction year is only used for diesel use and emissions quantification\n",
    "}             \n",
    "\n"
   ]
  },
  {
   "cell_type": "code",
   "execution_count": 7,
   "id": "51a10660-700b-4329-81fc-c796b1a3bcf7",
   "metadata": {},
   "outputs": [
    {
     "name": "stdout",
     "output_type": "stream",
     "text": [
      "the computed payload for this draguht is 3646 ton\n"
     ]
    }
   ],
   "source": [
    "data_vessel_i = data_vessel_up.copy()\n",
    "vessel = TransportResource(**data_vessel_i)\n",
    "Payload_comupted = round(opentnsim.strategy.T2Payload(vessel= vessel, T_strategy = 3 , vessel_type = 'Dry_DH'))\n",
    "print('the computed payload for this draguht is',Payload_comupted, 'ton')"
   ]
  },
  {
   "cell_type": "markdown",
   "id": "511bd979-6e73-43c4-9e09-b96d1e7e5d8a",
   "metadata": {},
   "source": [
    "downstream"
   ]
  },
  {
   "cell_type": "code",
   "execution_count": 8,
   "id": "f668cd50-e470-474c-b162-bdc31c3bcd5e",
   "metadata": {},
   "outputs": [],
   "source": [
    "\n",
    "data_vessel_down = {\n",
    "    \"env\": None,\n",
    "    \"name\": 'M11_down',\n",
    "    \"route\": None,\n",
    "    \"geometry\": None,\n",
    "    \"v\": None,  # m/s\n",
    "    \"V_g_ave\":3.53,\n",
    "    \"use_V_g_profile\":True,\n",
    "    \"type\": None,\n",
    "    \"B\": 14.2,\n",
    "    \"L\": 135,\n",
    "    \"T\": 2,\n",
    "    \"safety_margin\": 0.3, # for tanker vessel with rocky bed the safety margin is recommended as 0.3 m\n",
    "    \"h_squat\": False, # if consider the ship squatting while moving, set to True, otherwise set to False. Note that here we have disabled h_squat calculation since we regard the water depth h_0 is already reduced by squat effect. This applies to figures 3, 5, 7, 8 and 9.\n",
    "    \"payload\":None,\n",
    "    \"vessel_type\":\"Dry_DH\", #vessel types: \"Container\",\"Dry_SH\",\"Dry_DH\",\"Barge\",\"Tanker\". (\"Dry_SH\" means dry bulk single hull, \"Dry_DH\" means dry bulk double hull)    \n",
    "    \"P_installed\":2400,   \n",
    "    \"P_tot_given\": None, # kW\n",
    "    \"bulbous_bow\": False, # if a vessel has no bulbous_bow, set to False; otherwise set to True.\n",
    "    \"sailing_on_power\": False,\n",
    "    \"sailing_upstream\":False,\n",
    "    \"wind_influence\": False,\n",
    "    \"P_hotel_perc\": 0.08,\n",
    "    \"P_hotel\": None, # None: calculate P_hotel from percentage\n",
    "    \"x\": 2,# number of propellers\n",
    "    \"L_w\": 3.0 ,\n",
    "    \"C_B\":0.85, \n",
    "    \"C_year\": 2000, # the engine construction year is only used for diesel use and emissions quantification\n",
    "}             \n",
    "\n"
   ]
  },
  {
   "cell_type": "markdown",
   "id": "329d6797-640d-490b-b660-7bc9a30ee662",
   "metadata": {},
   "source": [
    "#### M10"
   ]
  },
  {
   "cell_type": "markdown",
   "id": "f6d78c1e-9c0a-43d8-bc34-9cfa0af638e8",
   "metadata": {},
   "source": [
    "upstream"
   ]
  },
  {
   "cell_type": "code",
   "execution_count": 9,
   "id": "bdbc5707-79c6-4667-833f-5220109e0909",
   "metadata": {},
   "outputs": [],
   "source": [
    "# vessel dict with all important settings\n",
    "\n",
    "data_vessel_up = {\n",
    "    \"env\": None,\n",
    "    \"name\": 'M10_up',\n",
    "    \"route\": None,\n",
    "    \"geometry\": None,\n",
    "    \"v\": None,  # m/s\n",
    "    \"V_g_ave\":3.53,\n",
    "    \"use_V_g_profile\":True,\n",
    "    \"type\": None,\n",
    "    \"B\": 13.5,\n",
    "    \"L\": 110,\n",
    "    \"T\": 3,\n",
    "    \"safety_margin\": 0.3, # for tanker vessel with rocky bed the safety margin is recommended as 0.3 m\n",
    "    \"h_squat\": False, # if consider the ship squatting while moving, set to True, otherwise set to False. Note that here we have disabled h_squat calculation since we regard the water depth h_0 is already reduced by squat effect. This applies to figures 3, 5, 7, 8 and 9.\n",
    "    \"payload\":None,\n",
    "    \"vessel_type\":\"Dry_DH\", #vessel types: \"Container\",\"Dry_SH\",\"Dry_DH\",\"Barge\",\"Tanker\". (\"Dry_SH\" means dry bulk single hull, \"Dry_DH\" means dry bulk double hull)    \n",
    "    \"P_installed\":2400,   \n",
    "    \"P_tot_given\": None, # kW\n",
    "    \"bulbous_bow\": False, # if a vessel has no bulbous_bow, set to False; otherwise set to True.\n",
    "    \"sailing_on_power\": False,\n",
    "    \"sailing_upstream\":True,\n",
    "    \"wind_influence\": False,\n",
    "    \"P_hotel_perc\": 0.08,\n",
    "    \"P_hotel\": None, # None: calculate P_hotel from percentage\n",
    "    \"x\": 2,# number of propellers\n",
    "    \"L_w\": 3.0 ,\n",
    "    \"C_B\":0.85, \n",
    "    \"C_year\": 2000, # the engine construction year is only used for diesel use and emissions quantification\n",
    "}             \n",
    "\n"
   ]
  },
  {
   "cell_type": "code",
   "execution_count": 10,
   "id": "e8499063-7159-4261-af49-658f55f7fe3f",
   "metadata": {},
   "outputs": [
    {
     "name": "stdout",
     "output_type": "stream",
     "text": [
      "the computed payload for this draguht is 2791 ton\n"
     ]
    }
   ],
   "source": [
    "data_vessel_i = data_vessel_up.copy()\n",
    "vessel = TransportResource(**data_vessel_i)\n",
    "Payload_comupted = round(opentnsim.strategy.T2Payload(vessel= vessel, T_strategy = 3 , vessel_type = 'Dry_DH'))\n",
    "print('the computed payload for this draguht is',Payload_comupted, 'ton')"
   ]
  },
  {
   "cell_type": "markdown",
   "id": "993ac54c-93e1-4707-8338-95e5296bc2f3",
   "metadata": {},
   "source": [
    "downstream"
   ]
  },
  {
   "cell_type": "code",
   "execution_count": 11,
   "id": "80d2d6ef-80c7-42e6-abba-d771b15a3bdb",
   "metadata": {},
   "outputs": [],
   "source": [
    "\n",
    "data_vessel_down = {\n",
    "    \"env\": None,\n",
    "    \"name\": 'M10_down',\n",
    "    \"route\": None,\n",
    "    \"geometry\": None,\n",
    "    \"v\": None,  # m/s\n",
    "    \"V_g_ave\":3.53,\n",
    "    \"use_V_g_profile\":True,\n",
    "    \"type\": None,\n",
    "    \"B\": 13.5,\n",
    "    \"L\": 110,\n",
    "    \"T\": 2,\n",
    "    \"safety_margin\": 0.3, # for tanker vessel with rocky bed the safety margin is recommended as 0.3 m\n",
    "    \"h_squat\": False, # if consider the ship squatting while moving, set to True, otherwise set to False. Note that here we have disabled h_squat calculation since we regard the water depth h_0 is already reduced by squat effect. This applies to figures 3, 5, 7, 8 and 9.\n",
    "    \"payload\":None,\n",
    "    \"vessel_type\":\"Dry_DH\", #vessel types: \"Container\",\"Dry_SH\",\"Dry_DH\",\"Barge\",\"Tanker\". (\"Dry_SH\" means dry bulk single hull, \"Dry_DH\" means dry bulk double hull)    \n",
    "    \"P_installed\":2400,   \n",
    "    \"P_tot_given\": None, # kW\n",
    "    \"bulbous_bow\": False, # if a vessel has no bulbous_bow, set to False; otherwise set to True.\n",
    "    \"sailing_on_power\": False,\n",
    "    \"sailing_upstream\":False,\n",
    "    \"wind_influence\": False,\n",
    "    \"P_hotel_perc\": 0.08,\n",
    "    \"P_hotel\": None, # None: calculate P_hotel from percentage\n",
    "    \"x\": 2,# number of propellers\n",
    "    \"L_w\": 3.0 ,\n",
    "    \"C_B\":0.85, \n",
    "    \"C_year\": 2000, # the engine construction year is only used for diesel use and emissions quantification\n",
    "}             \n",
    "\n"
   ]
  },
  {
   "cell_type": "markdown",
   "id": "ff926a7f-5c2e-4760-954c-2ef2b033d224",
   "metadata": {},
   "source": [
    "#### M9"
   ]
  },
  {
   "cell_type": "markdown",
   "id": "daefcc41-bd85-4819-88e8-8b1dc77395ca",
   "metadata": {},
   "source": [
    "upstream"
   ]
  },
  {
   "cell_type": "code",
   "execution_count": 12,
   "id": "9bf3120d-0eb9-4721-83d7-d5556215c01a",
   "metadata": {},
   "outputs": [],
   "source": [
    "# vessel dict with all important settings\n",
    "\n",
    "data_vessel_up = {\n",
    "    \"env\": None,\n",
    "    \"name\": 'M9_up',\n",
    "    \"route\": None,\n",
    "    \"geometry\": None,\n",
    "    \"v\": None,  # m/s\n",
    "    \"V_g_ave\":3.53,\n",
    "    \"use_V_g_profile\":True,\n",
    "    \"type\": None,\n",
    "    \"B\": 11.45,\n",
    "    \"L\": 135,\n",
    "    \"T\": 3,\n",
    "    \"safety_margin\": 0.3, # for tanker vessel with rocky bed the safety margin is recommended as 0.3 m\n",
    "    \"h_squat\": False, # if consider the ship squatting while moving, set to True, otherwise set to False. Note that here we have disabled h_squat calculation since we regard the water depth h_0 is already reduced by squat effect. This applies to figures 3, 5, 7, 8 and 9.\n",
    "    \"payload\":None,\n",
    "    \"vessel_type\":\"Dry_DH\", #vessel types: \"Container\",\"Dry_SH\",\"Dry_DH\",\"Barge\",\"Tanker\". (\"Dry_SH\" means dry bulk single hull, \"Dry_DH\" means dry bulk double hull)    \n",
    "    \"P_installed\":2200,   \n",
    "    \"P_tot_given\": None, # kW\n",
    "    \"bulbous_bow\": False, # if a vessel has no bulbous_bow, set to False; otherwise set to True.\n",
    "    \"sailing_on_power\": False,\n",
    "    \"sailing_upstream\":True,\n",
    "    \"wind_influence\": False,\n",
    "    \"P_hotel_perc\": 0.08,\n",
    "    \"P_hotel\": None, # None: calculate P_hotel from percentage\n",
    "    \"x\": 2,# number of propellers\n",
    "    \"L_w\": 3.0 ,\n",
    "    \"C_B\":0.85, \n",
    "    \"C_year\": 2000, # the engine construction year is only used for diesel use and emissions quantification\n",
    "}             \n",
    "\n"
   ]
  },
  {
   "cell_type": "code",
   "execution_count": 13,
   "id": "d47e32c8-88b9-4744-8c35-536e0a7adee8",
   "metadata": {},
   "outputs": [
    {
     "name": "stdout",
     "output_type": "stream",
     "text": [
      "the computed payload for this draguht is 3023 ton\n"
     ]
    }
   ],
   "source": [
    "data_vessel_i = data_vessel_up.copy()\n",
    "vessel = TransportResource(**data_vessel_i)\n",
    "Payload_comupted = round(opentnsim.strategy.T2Payload(vessel= vessel, T_strategy = 3 , vessel_type = 'Dry_DH'))\n",
    "print('the computed payload for this draguht is',Payload_comupted, 'ton')"
   ]
  },
  {
   "cell_type": "markdown",
   "id": "d37aa3be-c806-41ad-8622-0b9829ec83d6",
   "metadata": {},
   "source": [
    "downstream"
   ]
  },
  {
   "cell_type": "code",
   "execution_count": 14,
   "id": "a618f5ad-19a4-469b-9fd7-997b973a76b3",
   "metadata": {},
   "outputs": [],
   "source": [
    "\n",
    "data_vessel_down = {\n",
    "    \"env\": None,\n",
    "    \"name\": 'M9_down',\n",
    "    \"route\": None,\n",
    "    \"geometry\": None,\n",
    "    \"v\": None,  # m/s\n",
    "    \"V_g_ave\":3.53,\n",
    "    \"use_V_g_profile\":True,\n",
    "    \"type\": None,\n",
    "    \"B\": 11.45,\n",
    "    \"L\": 135,\n",
    "    \"T\": 1.8,\n",
    "    \"safety_margin\": 0.3, # for tanker vessel with rocky bed the safety margin is recommended as 0.3 m\n",
    "    \"h_squat\": False, # if consider the ship squatting while moving, set to True, otherwise set to False. Note that here we have disabled h_squat calculation since we regard the water depth h_0 is already reduced by squat effect. This applies to figures 3, 5, 7, 8 and 9.\n",
    "    \"payload\":None,\n",
    "    \"vessel_type\":\"Dry_DH\", #vessel types: \"Container\",\"Dry_SH\",\"Dry_DH\",\"Barge\",\"Tanker\". (\"Dry_SH\" means dry bulk single hull, \"Dry_DH\" means dry bulk double hull)    \n",
    "    \"P_installed\":2200,   \n",
    "    \"P_tot_given\": None, # kW\n",
    "    \"bulbous_bow\": False, # if a vessel has no bulbous_bow, set to False; otherwise set to True.\n",
    "    \"sailing_on_power\": False,\n",
    "    \"sailing_upstream\":False,\n",
    "    \"wind_influence\": False,\n",
    "    \"P_hotel_perc\": 0.08,\n",
    "    \"P_hotel\": None, # None: calculate P_hotel from percentage\n",
    "    \"x\": 2,# number of propellers\n",
    "    \"L_w\": 3.0 ,\n",
    "    \"C_B\":0.85, \n",
    "    \"C_year\": 2000, # the engine construction year is only used for diesel use and emissions quantification\n",
    "}             \n",
    "\n"
   ]
  },
  {
   "cell_type": "markdown",
   "id": "4809905f-b2d8-4d68-8dcb-dc992c35432d",
   "metadata": {},
   "source": [
    "#### M8"
   ]
  },
  {
   "cell_type": "markdown",
   "id": "2528fc16-49e4-40e6-8a9d-89ad6f89de82",
   "metadata": {},
   "source": [
    "upstream"
   ]
  },
  {
   "cell_type": "code",
   "execution_count": 15,
   "id": "039969f7-e312-47dc-985b-9987de3c3577",
   "metadata": {},
   "outputs": [],
   "source": [
    "# Create a dict with all important settings\n",
    "\n",
    "data_vessel_up = {\n",
    "    \"env\": None,\n",
    "    \"name\": 'M8_up',\n",
    "    \"route\": None,\n",
    "    \"geometry\": None,\n",
    "    \"v\": None,  # m/s\n",
    "    \"V_g_ave\":3.53,\n",
    "    \"use_V_g_profile\":True,\n",
    "    \"type\": None,\n",
    "    \"B\": 11.45,\n",
    "    \"L\": 110,\n",
    "    \"T\": 3,\n",
    "    \"safety_margin\": 0.3, # for tanker vessel with rocky bed the safety margin is recommended as 0.3 m\n",
    "    \"h_squat\": False, # if consider the ship squatting while moving, set to True, otherwise set to False. Note that here we have disabled h_squat calculation since we regard the water depth h_0 is already reduced by squat effect. This applies to figures 3, 5, 7, 8 and 9.\n",
    "    \"payload\":None,\n",
    "    \"vessel_type\":\"Dry_DH\", #vessel types: \"Container\",\"Dry_SH\",\"Dry_DH\",\"Barge\",\"Tanker\". (\"Dry_SH\" means dry bulk single hull, \"Dry_DH\" means dry bulk double hull)    \n",
    "    \"P_installed\":1750,   \n",
    "    \"P_tot_given\": None, # kW\n",
    "    \"bulbous_bow\": False, # if a vessel has no bulbous_bow, set to False; otherwise set to True.\n",
    "    \"sailing_on_power\": False,\n",
    "    \"sailing_upstream\":True,\n",
    "    \"wind_influence\": False,\n",
    "    \"P_hotel_perc\": 0.08,\n",
    "    \"P_hotel\": None, # None: calculate P_hotel from percentage\n",
    "    \"x\": 2,# number of propellers\n",
    "    \"L_w\": 3.0 ,\n",
    "    \"C_B\":0.85, \n",
    "    \"C_year\": 2000, # the engine construction year is only used for diesel use and emissions quantification\n",
    "}             \n",
    "\n"
   ]
  },
  {
   "cell_type": "code",
   "execution_count": 16,
   "id": "36f247c3-4572-41a8-b594-ed0bf50e7901",
   "metadata": {},
   "outputs": [
    {
     "name": "stdout",
     "output_type": "stream",
     "text": [
      "the computed payload for this draguht is 2450 ton\n"
     ]
    }
   ],
   "source": [
    "data_vessel_i = data_vessel_up.copy()\n",
    "vessel = TransportResource(**data_vessel_i)\n",
    "Payload_comupted = round(opentnsim.strategy.T2Payload(vessel= vessel, T_strategy = 3 , vessel_type = 'Dry_DH'))\n",
    "print('the computed payload for this draguht is',Payload_comupted, 'ton')"
   ]
  },
  {
   "cell_type": "markdown",
   "id": "7fa4195d-19dd-42b5-a12b-489b5d5019c6",
   "metadata": {},
   "source": [
    "downstream"
   ]
  },
  {
   "cell_type": "code",
   "execution_count": 17,
   "id": "c2229038-5aac-4dc5-86a0-0b06a9695e45",
   "metadata": {},
   "outputs": [],
   "source": [
    "# Create a dict with all important settings\n",
    "\n",
    "data_vessel_down = {\n",
    "    \"env\": None,\n",
    "    \"name\": 'M8_down',\n",
    "    \"route\": None,\n",
    "    \"geometry\": None,\n",
    "    \"v\": None,  # m/s\n",
    "    \"V_g_ave\":3.53,\n",
    "    \"use_V_g_profile\":True,\n",
    "    \"type\": None,\n",
    "    \"B\": 11.45,\n",
    "    \"L\": 110,\n",
    "    \"T\": 1.8,\n",
    "    \"safety_margin\": 0.3, # for tanker vessel with rocky bed the safety margin is recommended as 0.3 m\n",
    "    \"h_squat\": False, # if consider the ship squatting while moving, set to True, otherwise set to False. Note that here we have disabled h_squat calculation since we regard the water depth h_0 is already reduced by squat effect. This applies to figures 3, 5, 7, 8 and 9.\n",
    "    \"payload\":None,\n",
    "    \"vessel_type\":\"Dry_DH\", #vessel types: \"Container\",\"Dry_SH\",\"Dry_DH\",\"Barge\",\"Tanker\". (\"Dry_SH\" means dry bulk single hull, \"Dry_DH\" means dry bulk double hull)    \n",
    "    \"P_installed\":1750,   \n",
    "    \"P_tot_given\": None, # kW\n",
    "    \"bulbous_bow\": False, # if a vessel has no bulbous_bow, set to False; otherwise set to True.\n",
    "    \"sailing_on_power\": False,\n",
    "    \"sailing_upstream\":False,\n",
    "    \"wind_influence\": False,\n",
    "    \"P_hotel_perc\": 0.08,\n",
    "    \"P_hotel\": None, # None: calculate P_hotel from percentage\n",
    "    \"x\": 2,# number of propellers\n",
    "    \"L_w\": 3.0 ,\n",
    "    \"C_B\":0.85, \n",
    "    \"C_year\": 2000, # the engine construction year is only used for diesel use and emissions quantification\n",
    "}             \n",
    "\n"
   ]
  },
  {
   "cell_type": "markdown",
   "id": "4e56ce74-0aad-44ef-b207-ec95810d8405",
   "metadata": {},
   "source": [
    "#### M7"
   ]
  },
  {
   "cell_type": "markdown",
   "id": "80d6e5f9-eeb6-413a-983c-5e35b43bb656",
   "metadata": {},
   "source": [
    "upstream"
   ]
  },
  {
   "cell_type": "code",
   "execution_count": 18,
   "id": "c2b85f7c-3dea-464c-b59d-030f2b6d97b7",
   "metadata": {},
   "outputs": [],
   "source": [
    "# Create a dict with all important settings\n",
    "\n",
    "data_vessel_up = {\n",
    "    \"env\": None,\n",
    "    \"name\": 'M7_up',\n",
    "    \"route\": None,\n",
    "    \"geometry\": None,\n",
    "    \"v\": None,  # m/s\n",
    "    \"V_g_ave\":3.53,\n",
    "    \"use_V_g_profile\":True,\n",
    "    \"type\": None,\n",
    "    \"B\": 9.5,\n",
    "    \"L\": 105,\n",
    "    \"T\": 3,\n",
    "    \"safety_margin\": 0.3, # for tanker vessel with rocky bed the safety margin is recommended as 0.3 m\n",
    "    \"h_squat\": False, # if consider the ship squatting while moving, set to True, otherwise set to False. Note that here we have disabled h_squat calculation since we regard the water depth h_0 is already reduced by squat effect. This applies to figures 3, 5, 7, 8 and 9.\n",
    "    \"payload\":None,\n",
    "    \"vessel_type\":\"Dry_DH\", #vessel types: \"Container\",\"Dry_SH\",\"Dry_DH\",\"Barge\",\"Tanker\". (\"Dry_SH\" means dry bulk single hull, \"Dry_DH\" means dry bulk double hull)    \n",
    "    \"P_installed\":1070,   \n",
    "    \"P_tot_given\": None, # kW\n",
    "    \"bulbous_bow\": False, # if a vessel has no bulbous_bow, set to False; otherwise set to True.\n",
    "    \"sailing_on_power\": False,\n",
    "    \"sailing_upstream\":True,\n",
    "    \"wind_influence\": False,\n",
    "    \"P_hotel_perc\": 0.08,\n",
    "    \"P_hotel\": None, # None: calculate P_hotel from percentage\n",
    "    \"x\": 1,# number of propellers\n",
    "    \"L_w\": 2.0 ,\n",
    "    \"C_B\":0.85, \n",
    "    \"C_year\": 2000, # the engine construction year is only used for diesel use and emissions quantification\n",
    "}             \n",
    "\n"
   ]
  },
  {
   "cell_type": "code",
   "execution_count": 19,
   "id": "5da48939-526a-4c34-a0b2-a27ef42aa284",
   "metadata": {},
   "outputs": [
    {
     "name": "stdout",
     "output_type": "stream",
     "text": [
      "the computed payload for this draguht is 1966 ton\n"
     ]
    }
   ],
   "source": [
    "data_vessel_i = data_vessel_up.copy()\n",
    "vessel = TransportResource(**data_vessel_i)\n",
    "Payload_comupted = round(opentnsim.strategy.T2Payload(vessel= vessel, T_strategy = 3 , vessel_type = 'Dry_DH'))\n",
    "print('the computed payload for this draguht is',Payload_comupted, 'ton')"
   ]
  },
  {
   "cell_type": "markdown",
   "id": "a61ddcb3-53f4-4c02-94bb-d21d0e61e79a",
   "metadata": {},
   "source": [
    "downstream"
   ]
  },
  {
   "cell_type": "code",
   "execution_count": 20,
   "id": "89e73475-7a52-458b-a735-cccf972d4463",
   "metadata": {},
   "outputs": [],
   "source": [
    "# Create a dict with all important settings\n",
    "\n",
    "data_vessel_down = {\n",
    "    \"env\": None,\n",
    "    \"name\": 'M7_down',\n",
    "    \"route\": None,\n",
    "    \"geometry\": None,\n",
    "    \"v\": None,  # m/s\n",
    "    \"V_g_ave\":3.53,\n",
    "    \"use_V_g_profile\":True,\n",
    "    \"type\": None,\n",
    "    \"B\": 9.5,\n",
    "    \"L\": 105,\n",
    "    \"T\": 1.8,\n",
    "    \"safety_margin\": 0.3, # for tanker vessel with rocky bed the safety margin is recommended as 0.3 m\n",
    "    \"h_squat\": False, # if consider the ship squatting while moving, set to True, otherwise set to False. Note that here we have disabled h_squat calculation since we regard the water depth h_0 is already reduced by squat effect. This applies to figures 3, 5, 7, 8 and 9.\n",
    "    \"payload\":None,\n",
    "    \"vessel_type\":\"Dry_DH\", #vessel types: \"Container\",\"Dry_SH\",\"Dry_DH\",\"Barge\",\"Tanker\". (\"Dry_SH\" means dry bulk single hull, \"Dry_DH\" means dry bulk double hull)    \n",
    "    \"P_installed\":1070,   \n",
    "    \"P_tot_given\": None, # kW\n",
    "    \"bulbous_bow\": False, # if a vessel has no bulbous_bow, set to False; otherwise set to True.\n",
    "    \"sailing_on_power\": False,\n",
    "    \"sailing_upstream\":False,\n",
    "    \"wind_influence\": False,\n",
    "    \"P_hotel_perc\": 0.08,\n",
    "    \"P_hotel\": None, # None: calculate P_hotel from percentage\n",
    "    \"x\": 1,# number of propellers\n",
    "    \"L_w\": 2.0 ,\n",
    "    \"C_B\":0.85, \n",
    "    \"C_year\": 2000, # the engine construction year is only used for diesel use and emissions quantification\n",
    "}             \n",
    "\n"
   ]
  },
  {
   "cell_type": "markdown",
   "id": "9da843ee-dbaa-483a-b349-2a8f87f91f9e",
   "metadata": {},
   "source": [
    "#### M6"
   ]
  },
  {
   "cell_type": "markdown",
   "id": "ee60e0d0-4a1f-4743-8855-800658ae53b9",
   "metadata": {},
   "source": [
    "upstream"
   ]
  },
  {
   "cell_type": "code",
   "execution_count": 21,
   "id": "f1ae81a4-469c-46a0-8faa-345e178f852e",
   "metadata": {},
   "outputs": [],
   "source": [
    "# Create a dict with all important settings\n",
    "\n",
    "data_vessel_up = {\n",
    "    \"env\": None,\n",
    "    \"name\": 'M6_up',\n",
    "    \"route\": None,\n",
    "    \"geometry\": None,\n",
    "    \"v\": None,  # m/s\n",
    "    \"V_g_ave\":3.53,\n",
    "    \"use_V_g_profile\":True,\n",
    "    \"type\": None,\n",
    "    \"B\": 9.5,\n",
    "    \"L\": 85,\n",
    "    \"T\": 2.9,\n",
    "    \"safety_margin\": 0.3, # for tanker vessel with rocky bed the safety margin is recommended as 0.3 m\n",
    "    \"h_squat\": False, # if consider the ship squatting while moving, set to True, otherwise set to False. Note that here we have disabled h_squat calculation since we regard the water depth h_0 is already reduced by squat effect. This applies to figures 3, 5, 7, 8 and 9.\n",
    "    \"payload\":None,\n",
    "    \"vessel_type\":\"Dry_DH\", #vessel types: \"Container\",\"Dry_SH\",\"Dry_DH\",\"Barge\",\"Tanker\". (\"Dry_SH\" means dry bulk single hull, \"Dry_DH\" means dry bulk double hull)    \n",
    "    \"P_installed\":1070,   \n",
    "    \"P_tot_given\": None, # kW\n",
    "    \"bulbous_bow\": False, # if a vessel has no bulbous_bow, set to False; otherwise set to True.\n",
    "    \"sailing_on_power\": False,\n",
    "    \"sailing_upstream\":True,\n",
    "    \"wind_influence\": False,\n",
    "    \"P_hotel_perc\": 0.08,\n",
    "    \"P_hotel\": None, # None: calculate P_hotel from percentage\n",
    "    \"x\": 1,# number of propellers\n",
    "    \"L_w\": 2.0 ,\n",
    "    \"C_B\":0.85, \n",
    "    \"C_year\": 2000, # the engine construction year is only used for diesel use and emissions quantification\n",
    "}             \n",
    "\n"
   ]
  },
  {
   "cell_type": "code",
   "execution_count": 22,
   "id": "62193fb3-566c-407c-84c4-bc8e99be2043",
   "metadata": {},
   "outputs": [
    {
     "name": "stdout",
     "output_type": "stream",
     "text": [
      "the computed payload for this draguht is 1513 ton\n"
     ]
    }
   ],
   "source": [
    "data_vessel_i = data_vessel_up.copy()\n",
    "vessel = TransportResource(**data_vessel_i)\n",
    "Payload_comupted = round(opentnsim.strategy.T2Payload(vessel= vessel, T_strategy = 2.9 , vessel_type = 'Dry_DH'))\n",
    "print('the computed payload for this draguht is',Payload_comupted, 'ton')"
   ]
  },
  {
   "cell_type": "markdown",
   "id": "8c8ede7a-845e-4a10-b201-7cb8b552c9ad",
   "metadata": {},
   "source": [
    "downstream"
   ]
  },
  {
   "cell_type": "code",
   "execution_count": 23,
   "id": "49892e26-dc68-4c49-8d95-8b935be2c855",
   "metadata": {},
   "outputs": [],
   "source": [
    "# Create a dict with all important settings\n",
    "\n",
    "data_vessel_M6_down = {\n",
    "    \"env\": None,\n",
    "    \"name\": 'M6_down',\n",
    "    \"route\": None,\n",
    "    \"geometry\": None,\n",
    "    \"v\": None,  # m/s\n",
    "    \"V_g_ave\":3.53,\n",
    "    \"use_V_g_profile\":True,\n",
    "    \"type\": None,\n",
    "    \"B\": 9.5,\n",
    "    \"L\": 85,\n",
    "    \"T\": 1.6,\n",
    "    \"safety_margin\": 0.3, # for tanker vessel with rocky bed the safety margin is recommended as 0.3 m\n",
    "    \"h_squat\": False, # if consider the ship squatting while moving, set to True, otherwise set to False. Note that here we have disabled h_squat calculation since we regard the water depth h_0 is already reduced by squat effect. This applies to figures 3, 5, 7, 8 and 9.\n",
    "    \"payload\":None,\n",
    "    \"vessel_type\":\"Dry_DH\", #vessel types: \"Container\",\"Dry_SH\",\"Dry_DH\",\"Barge\",\"Tanker\". (\"Dry_SH\" means dry bulk single hull, \"Dry_DH\" means dry bulk double hull)    \n",
    "    \"P_installed\":1070,   \n",
    "    \"P_tot_given\": None, # kW\n",
    "    \"bulbous_bow\": False, # if a vessel has no bulbous_bow, set to False; otherwise set to True.\n",
    "    \"sailing_on_power\": False,\n",
    "    \"sailing_upstream\":False,\n",
    "    \"wind_influence\": False,\n",
    "    \"P_hotel_perc\": 0.08,\n",
    "    \"P_hotel\": None, # None: calculate P_hotel from percentage\n",
    "    \"x\": 1,# number of propellers\n",
    "    \"L_w\": 2.0 ,\n",
    "    \"C_B\":0.85, \n",
    "    \"C_year\": 2000, # the engine construction year is only used for diesel use and emissions quantification\n",
    "}             \n",
    "\n"
   ]
  },
  {
   "cell_type": "markdown",
   "id": "7a29d094-e4f2-4dba-9a3e-80bb346f542c",
   "metadata": {},
   "source": [
    "#### M5"
   ]
  },
  {
   "cell_type": "markdown",
   "id": "22fda4e2-e637-4ea3-88c0-0c749ee06146",
   "metadata": {},
   "source": [
    "upstream"
   ]
  },
  {
   "cell_type": "code",
   "execution_count": 24,
   "id": "d649ee82-ff56-470f-a275-9cedffa64b14",
   "metadata": {},
   "outputs": [],
   "source": [
    "# Create a dict with all important settings\n",
    "\n",
    "data_vessel_up = {\n",
    "    \"env\": None,\n",
    "    \"name\": 'M5_up',\n",
    "    \"route\": None,\n",
    "    \"geometry\": None,\n",
    "    \"v\": None,  # m/s\n",
    "    \"V_g_ave\":3.53,\n",
    "    \"use_V_g_profile\":True,\n",
    "    \"type\": None,\n",
    "    \"B\": 8.2,\n",
    "    \"L\": 80,\n",
    "    \"T\": 2.7,\n",
    "    \"safety_margin\": 0.3, # for tanker vessel with rocky bed the safety margin is recommended as 0.3 m\n",
    "    \"h_squat\": False, # if consider the ship squatting while moving, set to True, otherwise set to False. Note that here we have disabled h_squat calculation since we regard the water depth h_0 is already reduced by squat effect. This applies to figures 3, 5, 7, 8 and 9.\n",
    "    \"payload\":None,\n",
    "    \"vessel_type\":\"Dry_DH\", #vessel types: \"Container\",\"Dry_SH\",\"Dry_DH\",\"Barge\",\"Tanker\". (\"Dry_SH\" means dry bulk single hull, \"Dry_DH\" means dry bulk double hull)    \n",
    "    \"P_installed\":640,   \n",
    "    \"P_tot_given\": None, # kW\n",
    "    \"bulbous_bow\": False, # if a vessel has no bulbous_bow, set to False; otherwise set to True.\n",
    "    \"sailing_on_power\": False,\n",
    "    \"sailing_upstream\":True,\n",
    "    \"wind_influence\": False,\n",
    "    \"P_hotel_perc\": 0.08,\n",
    "    \"P_hotel\": None, # None: calculate P_hotel from percentage\n",
    "    \"x\": 1,# number of propellers\n",
    "    \"L_w\": 2.0 ,\n",
    "    \"C_B\":0.85, \n",
    "    \"C_year\": 2000, # the engine construction year is only used for diesel use and emissions quantification\n",
    "}             \n",
    "\n"
   ]
  },
  {
   "cell_type": "code",
   "execution_count": 25,
   "id": "76c94444-a734-4e45-8f75-a9e1dab27fbf",
   "metadata": {},
   "outputs": [
    {
     "name": "stdout",
     "output_type": "stream",
     "text": [
      "the computed payload for this draguht is 1121 ton\n"
     ]
    }
   ],
   "source": [
    "data_vessel_i = data_vessel_up.copy()\n",
    "vessel = TransportResource(**data_vessel_i)\n",
    "Payload_comupted = round(opentnsim.strategy.T2Payload(vessel= vessel, T_strategy = 2.7 , vessel_type = 'Dry_DH'))\n",
    "print('the computed payload for this draguht is',Payload_comupted, 'ton')"
   ]
  },
  {
   "cell_type": "markdown",
   "id": "9422deef-2ca9-41cf-b926-7950c2f12bd4",
   "metadata": {},
   "source": [
    "downstream"
   ]
  },
  {
   "cell_type": "code",
   "execution_count": 26,
   "id": "3adea106-2003-4f39-b2c9-6edd35a3a813",
   "metadata": {},
   "outputs": [],
   "source": [
    "# Create a dict with all important settings\n",
    "\n",
    "data_vessel_down = {\n",
    "    \"env\": None,\n",
    "    \"name\": 'M5_down',\n",
    "    \"route\": None,\n",
    "    \"geometry\": None,\n",
    "    \"v\": None,  # m/s\n",
    "    \"V_g_ave\":3.53,\n",
    "    \"use_V_g_profile\":True,\n",
    "    \"type\": None,\n",
    "    \"B\": 8.2,\n",
    "    \"L\": 80,\n",
    "    \"T\": 1.5,\n",
    "    \"safety_margin\": 0.3, # for tanker vessel with rocky bed the safety margin is recommended as 0.3 m\n",
    "    \"h_squat\": False, # if consider the ship squatting while moving, set to True, otherwise set to False. Note that here we have disabled h_squat calculation since we regard the water depth h_0 is already reduced by squat effect. This applies to figures 3, 5, 7, 8 and 9.\n",
    "    \"payload\":None,\n",
    "    \"vessel_type\":\"Dry_DH\", #vessel types: \"Container\",\"Dry_SH\",\"Dry_DH\",\"Barge\",\"Tanker\". (\"Dry_SH\" means dry bulk single hull, \"Dry_DH\" means dry bulk double hull)    \n",
    "    \"P_installed\":640,   \n",
    "    \"P_tot_given\": None, # kW\n",
    "    \"bulbous_bow\": False, # if a vessel has no bulbous_bow, set to False; otherwise set to True.\n",
    "    \"sailing_on_power\": False,\n",
    "    \"sailing_upstream\":False,\n",
    "    \"wind_influence\": False,\n",
    "    \"P_hotel_perc\": 0.08,\n",
    "    \"P_hotel\": None, # None: calculate P_hotel from percentage\n",
    "    \"x\": 1,# number of propellers\n",
    "    \"L_w\": 2.0 ,\n",
    "    \"C_B\":0.85, \n",
    "    \"C_year\": 2000, # the engine construction year is only used for diesel use and emissions quantification\n",
    "}             \n",
    "\n"
   ]
  },
  {
   "cell_type": "markdown",
   "id": "36c5ad2d-b317-48c0-9f48-c87a0f562ec9",
   "metadata": {},
   "source": [
    "#### M4"
   ]
  },
  {
   "cell_type": "markdown",
   "id": "4f034efe-c3ac-4e0e-9674-46e84192d7df",
   "metadata": {},
   "source": [
    "upstream"
   ]
  },
  {
   "cell_type": "code",
   "execution_count": 27,
   "id": "a2b85705-dbbf-4d0a-ace4-d27af3e6536f",
   "metadata": {},
   "outputs": [],
   "source": [
    "# Create a dict with all important settings\n",
    "\n",
    "data_vessel_up = {\n",
    "    \"env\": None,\n",
    "    \"name\": 'M4_up',\n",
    "    \"route\": None,\n",
    "    \"geometry\": None,\n",
    "    \"v\": None,  # m/s\n",
    "    \"V_g_ave\":3.53,\n",
    "    \"use_V_g_profile\":True,\n",
    "    \"type\": None,\n",
    "    \"B\": 8.2,\n",
    "    \"L\": 67,\n",
    "    \"T\": 2.7,\n",
    "    \"safety_margin\": 0.3, # for tanker vessel with rocky bed the safety margin is recommended as 0.3 m\n",
    "    \"h_squat\": False, # if consider the ship squatting while moving, set to True, otherwise set to False. Note that here we have disabled h_squat calculation since we regard the water depth h_0 is already reduced by squat effect. This applies to figures 3, 5, 7, 8 and 9.\n",
    "    \"payload\":None,\n",
    "    \"vessel_type\":\"Dry_DH\", #vessel types: \"Container\",\"Dry_SH\",\"Dry_DH\",\"Barge\",\"Tanker\". (\"Dry_SH\" means dry bulk single hull, \"Dry_DH\" means dry bulk double hull)    \n",
    "    \"P_installed\":640,   \n",
    "    \"P_tot_given\": None, # kW\n",
    "    \"bulbous_bow\": False, # if a vessel has no bulbous_bow, set to False; otherwise set to True.\n",
    "    \"sailing_on_power\": False,\n",
    "    \"sailing_upstream\":True,\n",
    "    \"wind_influence\": False,\n",
    "    \"P_hotel_perc\": 0.08,\n",
    "    \"P_hotel\": None, # None: calculate P_hotel from percentage\n",
    "    \"x\": 1,# number of propellers\n",
    "    \"L_w\": 1.0 ,\n",
    "    \"C_B\":0.85, \n",
    "    \"C_year\": 2000, # the engine construction year is only used for diesel use and emissions quantification\n",
    "}             \n",
    "\n"
   ]
  },
  {
   "cell_type": "code",
   "execution_count": 28,
   "id": "f47f4fce-82b5-4b3b-b2d8-641128307b6a",
   "metadata": {},
   "outputs": [
    {
     "name": "stdout",
     "output_type": "stream",
     "text": [
      "the computed payload for this draguht is 913 ton\n"
     ]
    }
   ],
   "source": [
    "data_vessel_i = data_vessel_up.copy()\n",
    "vessel = TransportResource(**data_vessel_i)\n",
    "Payload_comupted = round(opentnsim.strategy.T2Payload(vessel= vessel, T_strategy = 2.7 , vessel_type = 'Dry_DH'))\n",
    "print('the computed payload for this draguht is',Payload_comupted, 'ton')"
   ]
  },
  {
   "cell_type": "markdown",
   "id": "ab8034d3-b629-4c7c-9183-913be644952b",
   "metadata": {},
   "source": [
    "downstream"
   ]
  },
  {
   "cell_type": "code",
   "execution_count": 29,
   "id": "1e238c83-8a09-4291-bac7-668923951b8b",
   "metadata": {},
   "outputs": [],
   "source": [
    "# Create a dict with all important settings\n",
    "\n",
    "data_vessel_down = {\n",
    "    \"env\": None,\n",
    "    \"name\": 'M4_down',\n",
    "    \"route\": None,\n",
    "    \"geometry\": None,\n",
    "    \"v\": None,  # m/s\n",
    "    \"V_g_ave\":3.53,\n",
    "    \"use_V_g_profile\":True,\n",
    "    \"type\": None,\n",
    "    \"B\": 8.2,\n",
    "    \"L\": 67,\n",
    "    \"T\": 1.5,\n",
    "    \"safety_margin\": 0.3, # for tanker vessel with rocky bed the safety margin is recommended as 0.3 m\n",
    "    \"h_squat\": False, # if consider the ship squatting while moving, set to True, otherwise set to False. Note that here we have disabled h_squat calculation since we regard the water depth h_0 is already reduced by squat effect. This applies to figures 3, 5, 7, 8 and 9.\n",
    "    \"payload\":None,\n",
    "    \"vessel_type\":\"Dry_DH\", #vessel types: \"Container\",\"Dry_SH\",\"Dry_DH\",\"Barge\",\"Tanker\". (\"Dry_SH\" means dry bulk single hull, \"Dry_DH\" means dry bulk double hull)    \n",
    "    \"P_installed\":640,   \n",
    "    \"P_tot_given\": None, # kW\n",
    "    \"bulbous_bow\": False, # if a vessel has no bulbous_bow, set to False; otherwise set to True.\n",
    "    \"sailing_on_power\": False,\n",
    "    \"sailing_upstream\":False,\n",
    "    \"wind_influence\": False,\n",
    "    \"P_hotel_perc\": 0.08,\n",
    "    \"P_hotel\": None, # None: calculate P_hotel from percentage\n",
    "    \"x\": 1,# number of propellers\n",
    "    \"L_w\": 1.0 ,\n",
    "    \"C_B\":0.85, \n",
    "    \"C_year\": 2000, # the engine construction year is only used for diesel use and emissions quantification\n",
    "}             \n",
    "\n"
   ]
  },
  {
   "cell_type": "markdown",
   "id": "d374ee85-032a-4221-8f70-d9644da64f6b",
   "metadata": {},
   "source": [
    "#### M3"
   ]
  },
  {
   "cell_type": "markdown",
   "id": "0a795bfd-c02f-4fc1-b449-07abc968be66",
   "metadata": {},
   "source": [
    "upstream"
   ]
  },
  {
   "cell_type": "code",
   "execution_count": 30,
   "id": "c650002b-b7cb-4455-b26c-95591b9bfb4a",
   "metadata": {},
   "outputs": [],
   "source": [
    "# Create a dict with all important settings\n",
    "\n",
    "data_vessel_up = {\n",
    "    \"env\": None,\n",
    "    \"name\": 'M3_up',\n",
    "    \"route\": None,\n",
    "    \"geometry\": None,\n",
    "    \"v\": None,  # m/s\n",
    "    \"V_g_ave\":3.53,\n",
    "    \"use_V_g_profile\":True,\n",
    "    \"type\": None,\n",
    "    \"B\": 7.2,\n",
    "    \"L\": 63,\n",
    "    \"T\": 2.6,\n",
    "    \"safety_margin\": 0.3, # for tanker vessel with rocky bed the safety margin is recommended as 0.3 m\n",
    "    \"h_squat\": False, # if consider the ship squatting while moving, set to True, otherwise set to False. Note that here we have disabled h_squat calculation since we regard the water depth h_0 is already reduced by squat effect. This applies to figures 3, 5, 7, 8 and 9.\n",
    "    \"payload\":None,\n",
    "    \"vessel_type\":\"Dry_DH\", #vessel types: \"Container\",\"Dry_SH\",\"Dry_DH\",\"Barge\",\"Tanker\". (\"Dry_SH\" means dry bulk single hull, \"Dry_DH\" means dry bulk double hull)    \n",
    "    \"P_installed\":640,   \n",
    "    \"P_tot_given\": None, # kW\n",
    "    \"bulbous_bow\": False, # if a vessel has no bulbous_bow, set to False; otherwise set to True.\n",
    "    \"sailing_on_power\": False,\n",
    "    \"sailing_upstream\":True,\n",
    "    \"wind_influence\": False,\n",
    "    \"P_hotel_perc\": 0.08,\n",
    "    \"P_hotel\": None, # None: calculate P_hotel from percentage\n",
    "    \"x\": 1,# number of propellers\n",
    "    \"L_w\": 1.0 ,\n",
    "    \"C_B\":0.85, \n",
    "    \"C_year\": 2000, # the engine construction year is only used for diesel use and emissions quantification\n",
    "}             \n",
    "\n"
   ]
  },
  {
   "cell_type": "code",
   "execution_count": 31,
   "id": "4a26639a-ebbe-44e4-b43c-c763de92e9d7",
   "metadata": {},
   "outputs": [
    {
     "name": "stdout",
     "output_type": "stream",
     "text": [
      "the computed payload for this draguht is 719 ton\n"
     ]
    }
   ],
   "source": [
    "data_vessel_i = data_vessel_up.copy()\n",
    "vessel = TransportResource(**data_vessel_i)\n",
    "Payload_comupted = round(opentnsim.strategy.T2Payload(vessel= vessel, T_strategy = 2.6 , vessel_type = 'Dry_DH'))\n",
    "print('the computed payload for this draguht is',Payload_comupted, 'ton')"
   ]
  },
  {
   "cell_type": "markdown",
   "id": "177fdb13-bc12-4403-8d43-bdd8a8925266",
   "metadata": {},
   "source": [
    "downstream"
   ]
  },
  {
   "cell_type": "code",
   "execution_count": 32,
   "id": "d0053a96-7af1-40f2-8c63-5b531b6151c6",
   "metadata": {},
   "outputs": [],
   "source": [
    "# Create a dict with all important settings\n",
    "\n",
    "data_vessel_down = {\n",
    "    \"env\": None,\n",
    "    \"name\": 'M3_down',\n",
    "    \"route\": None,\n",
    "    \"geometry\": None,\n",
    "    \"v\": None,  # m/s\n",
    "    \"V_g_ave\":3.53,\n",
    "    \"use_V_g_profile\":True,\n",
    "    \"type\": None,\n",
    "    \"B\": 7.2,\n",
    "    \"L\": 63,\n",
    "    \"T\": 1.5,\n",
    "    \"safety_margin\": 0.3, # for tanker vessel with rocky bed the safety margin is recommended as 0.3 m\n",
    "    \"h_squat\": False, # if consider the ship squatting while moving, set to True, otherwise set to False. Note that here we have disabled h_squat calculation since we regard the water depth h_0 is already reduced by squat effect. This applies to figures 3, 5, 7, 8 and 9.\n",
    "    \"payload\":None,\n",
    "    \"vessel_type\":\"Dry_DH\", #vessel types: \"Container\",\"Dry_SH\",\"Dry_DH\",\"Barge\",\"Tanker\". (\"Dry_SH\" means dry bulk single hull, \"Dry_DH\" means dry bulk double hull)    \n",
    "    \"P_installed\":640,   \n",
    "    \"P_tot_given\": None, # kW\n",
    "    \"bulbous_bow\": False, # if a vessel has no bulbous_bow, set to False; otherwise set to True.\n",
    "    \"sailing_on_power\": False,\n",
    "    \"sailing_upstream\":False,\n",
    "    \"wind_influence\": False,\n",
    "    \"P_hotel_perc\": 0.08,\n",
    "    \"P_hotel\": None, # None: calculate P_hotel from percentage\n",
    "    \"x\": 1,# number of propellers\n",
    "    \"L_w\": 1.0 ,\n",
    "    \"C_B\":0.85, \n",
    "    \"C_year\": 2000, # the engine construction year is only used for diesel use and emissions quantification\n",
    "}             \n",
    "\n"
   ]
  },
  {
   "cell_type": "markdown",
   "id": "7917bab2-8209-43d2-9a89-29eb4da46737",
   "metadata": {},
   "source": [
    "#### M2"
   ]
  },
  {
   "cell_type": "markdown",
   "id": "c4e3d35d-b69f-42fe-9b82-f15221c08ae1",
   "metadata": {},
   "source": [
    "upstream"
   ]
  },
  {
   "cell_type": "code",
   "execution_count": 33,
   "id": "30e7feb9-afe7-4e33-bcf6-48d59d3c378e",
   "metadata": {},
   "outputs": [],
   "source": [
    "# Create a dict with all important settings\n",
    "\n",
    "data_vessel_up = {\n",
    "    \"env\": None,\n",
    "    \"name\": 'M2_up',\n",
    "    \"route\": None,\n",
    "    \"geometry\": None,\n",
    "    \"v\": None,  # m/s\n",
    "    \"V_g_ave\":3.53,\n",
    "    \"use_V_g_profile\":True,\n",
    "    \"type\": None,\n",
    "    \"B\": 6.6,\n",
    "    \"L\": 55,\n",
    "    \"T\": 2.6,\n",
    "    \"safety_margin\": 0.3, # for tanker vessel with rocky bed the safety margin is recommended as 0.3 m\n",
    "    \"h_squat\": False, # if consider the ship squatting while moving, set to True, otherwise set to False. Note that here we have disabled h_squat calculation since we regard the water depth h_0 is already reduced by squat effect. This applies to figures 3, 5, 7, 8 and 9.\n",
    "    \"payload\":None,\n",
    "    \"vessel_type\":\"Dry_DH\", #vessel types: \"Container\",\"Dry_SH\",\"Dry_DH\",\"Barge\",\"Tanker\". (\"Dry_SH\" means dry bulk single hull, \"Dry_DH\" means dry bulk double hull)    \n",
    "    \"P_installed\":300,   \n",
    "    \"P_tot_given\": None, # kW\n",
    "    \"bulbous_bow\": False, # if a vessel has no bulbous_bow, set to False; otherwise set to True.\n",
    "    \"sailing_on_power\": False,\n",
    "    \"sailing_upstream\":True,\n",
    "    \"wind_influence\": False,\n",
    "    \"P_hotel_perc\": 0.08,\n",
    "    \"P_hotel\": None, # None: calculate P_hotel from percentage\n",
    "    \"x\": 1,# number of propellers\n",
    "    \"L_w\": 1.0 ,\n",
    "    \"C_B\":0.85, \n",
    "    \"C_year\": 2000, # the engine construction year is only used for diesel use and emissions quantification\n",
    "}             \n",
    "\n"
   ]
  },
  {
   "cell_type": "code",
   "execution_count": 34,
   "id": "a3615521-0111-48c1-af9a-475ccdad68b4",
   "metadata": {},
   "outputs": [
    {
     "name": "stdout",
     "output_type": "stream",
     "text": [
      "the computed payload for this draguht is 557 ton\n"
     ]
    }
   ],
   "source": [
    "data_vessel_i = data_vessel_up.copy()\n",
    "vessel = TransportResource(**data_vessel_i)\n",
    "Payload_comupted = round(opentnsim.strategy.T2Payload(vessel= vessel, T_strategy = 2.6 , vessel_type = 'Dry_DH'))\n",
    "print('the computed payload for this draguht is',Payload_comupted, 'ton')"
   ]
  },
  {
   "cell_type": "markdown",
   "id": "8aff56ab-827e-4f16-b8b4-1357262d0b9f",
   "metadata": {},
   "source": [
    "downstream"
   ]
  },
  {
   "cell_type": "code",
   "execution_count": 35,
   "id": "02a787f1-bda9-49ef-bc16-775e6db30346",
   "metadata": {},
   "outputs": [],
   "source": [
    "# Create a dict with all important settings\n",
    "\n",
    "data_vessel_down = {\n",
    "    \"env\": None,\n",
    "    \"name\": 'M2_down',\n",
    "    \"route\": None,\n",
    "    \"geometry\": None,\n",
    "    \"v\": None,  # m/s\n",
    "    \"V_g_ave\":3.53,\n",
    "    \"use_V_g_profile\":True,\n",
    "    \"type\": None,\n",
    "    \"B\": 6.6,\n",
    "    \"L\": 55,\n",
    "    \"T\": 1.4,\n",
    "    \"safety_margin\": 0.3, # for tanker vessel with rocky bed the safety margin is recommended as 0.3 m\n",
    "    \"h_squat\": False, # if consider the ship squatting while moving, set to True, otherwise set to False. Note that here we have disabled h_squat calculation since we regard the water depth h_0 is already reduced by squat effect. This applies to figures 3, 5, 7, 8 and 9.\n",
    "    \"payload\":None,\n",
    "    \"vessel_type\":\"Dry_DH\", #vessel types: \"Container\",\"Dry_SH\",\"Dry_DH\",\"Barge\",\"Tanker\". (\"Dry_SH\" means dry bulk single hull, \"Dry_DH\" means dry bulk double hull)    \n",
    "    \"P_installed\":300,   \n",
    "    \"P_tot_given\": None, # kW\n",
    "    \"bulbous_bow\": False, # if a vessel has no bulbous_bow, set to False; otherwise set to True.\n",
    "    \"sailing_on_power\": False,\n",
    "    \"sailing_upstream\":False,\n",
    "    \"wind_influence\": False,\n",
    "    \"P_hotel_perc\": 0.08,\n",
    "    \"P_hotel\": None, # None: calculate P_hotel from percentage\n",
    "    \"x\": 1,# number of propellers\n",
    "    \"L_w\": 1.0 ,\n",
    "    \"C_B\":0.85, \n",
    "    \"C_year\": 2000, # the engine construction year is only used for diesel use and emissions quantification\n",
    "}             \n",
    "\n"
   ]
  },
  {
   "cell_type": "markdown",
   "id": "7f79e0a2-5cce-46fe-94c2-187586114d9e",
   "metadata": {},
   "source": [
    "#### M1"
   ]
  },
  {
   "cell_type": "markdown",
   "id": "ffef067e-5ff4-432d-b83f-1281301f7027",
   "metadata": {},
   "source": [
    "upstream"
   ]
  },
  {
   "cell_type": "code",
   "execution_count": 36,
   "id": "16ea9247-f5c9-4fc5-8756-807b50e0da4f",
   "metadata": {},
   "outputs": [],
   "source": [
    "# Create a dict with all important settings\n",
    "\n",
    "data_vessel_up = {\n",
    "    \"env\": None,\n",
    "    \"name\": 'M1_up',\n",
    "    \"route\": None,\n",
    "    \"geometry\": None,\n",
    "    \"v\": None,  # m/s\n",
    "    \"V_g_ave\":3.53,\n",
    "    \"use_V_g_profile\":True,\n",
    "    \"type\": None,\n",
    "    \"B\": 5.1,\n",
    "    \"L\": 38.5,\n",
    "    \"T\": 2.5,\n",
    "    \"safety_margin\": 0.3, # for tanker vessel with rocky bed the safety margin is recommended as 0.3 m\n",
    "    \"h_squat\": False, # if consider the ship squatting while moving, set to True, otherwise set to False. Note that here we have disabled h_squat calculation since we regard the water depth h_0 is already reduced by squat effect. This applies to figures 3, 5, 7, 8 and 9.\n",
    "    \"payload\":None,\n",
    "    \"vessel_type\":\"Dry_DH\", #vessel types: \"Container\",\"Dry_SH\",\"Dry_DH\",\"Barge\",\"Tanker\". (\"Dry_SH\" means dry bulk single hull, \"Dry_DH\" means dry bulk double hull)    \n",
    "    \"P_installed\":175,   \n",
    "    \"P_tot_given\": None, # kW\n",
    "    \"bulbous_bow\": False, # if a vessel has no bulbous_bow, set to False; otherwise set to True.\n",
    "    \"sailing_on_power\": False,\n",
    "    \"sailing_upstream\":True,\n",
    "    \"wind_influence\": False,\n",
    "    \"P_hotel_perc\": 0.08,\n",
    "    \"P_hotel\": None, # None: calculate P_hotel from percentage\n",
    "    \"x\": 1,# number of propellers\n",
    "    \"L_w\": 1.0 ,\n",
    "    \"C_B\":0.85, \n",
    "    \"C_year\": 2000, # the engine construction year is only used for diesel use and emissions quantification\n",
    "}             \n",
    "\n"
   ]
  },
  {
   "cell_type": "code",
   "execution_count": 37,
   "id": "e41ed937-9abd-4ae1-910f-ca2883d0370d",
   "metadata": {},
   "outputs": [
    {
     "name": "stdout",
     "output_type": "stream",
     "text": [
      "the computed payload for this draguht is 287 ton\n"
     ]
    }
   ],
   "source": [
    "data_vessel_i = data_vessel_up.copy()\n",
    "vessel = TransportResource(**data_vessel_i)\n",
    "Payload_comupted = round(opentnsim.strategy.T2Payload(vessel= vessel, T_strategy = 2.5 , vessel_type = 'Dry_DH'))\n",
    "print('the computed payload for this draguht is',Payload_comupted, 'ton')"
   ]
  },
  {
   "cell_type": "markdown",
   "id": "912a6f19-de59-484f-a77b-cf3c762bc340",
   "metadata": {},
   "source": [
    "downstream"
   ]
  },
  {
   "cell_type": "code",
   "execution_count": 38,
   "id": "46c3c200-0802-43ad-95a3-77d2298571b8",
   "metadata": {},
   "outputs": [],
   "source": [
    "# Create a dict with all important settings\n",
    "\n",
    "data_vessel_down = {\n",
    "    \"env\": None,\n",
    "    \"name\": 'M1_down',\n",
    "    \"route\": None,\n",
    "    \"geometry\": None,\n",
    "    \"v\": None,  # m/s\n",
    "    \"V_g_ave\":3.53,\n",
    "    \"use_V_g_profile\":True,\n",
    "    \"type\": None,\n",
    "    \"B\": 5.1,\n",
    "    \"L\": 38.5,\n",
    "    \"T\": 1.2,\n",
    "    \"safety_margin\": 0.3, # for tanker vessel with rocky bed the safety margin is recommended as 0.3 m\n",
    "    \"h_squat\": False, # if consider the ship squatting while moving, set to True, otherwise set to False. Note that here we have disabled h_squat calculation since we regard the water depth h_0 is already reduced by squat effect. This applies to figures 3, 5, 7, 8 and 9.\n",
    "    \"payload\":None,\n",
    "    \"vessel_type\":\"Dry_DH\", #vessel types: \"Container\",\"Dry_SH\",\"Dry_DH\",\"Barge\",\"Tanker\". (\"Dry_SH\" means dry bulk single hull, \"Dry_DH\" means dry bulk double hull)    \n",
    "    \"P_installed\":175,   \n",
    "    \"P_tot_given\": None, # kW\n",
    "    \"bulbous_bow\": False, # if a vessel has no bulbous_bow, set to False; otherwise set to True.\n",
    "    \"sailing_on_power\": False,\n",
    "    \"sailing_upstream\":False,\n",
    "    \"wind_influence\": False,\n",
    "    \"P_hotel_perc\": 0.08,\n",
    "    \"P_hotel\": None, # None: calculate P_hotel from percentage\n",
    "    \"x\": 1,# number of propellers\n",
    "    \"L_w\": 1.0 ,\n",
    "    \"C_B\":0.85, \n",
    "    \"C_year\": 2000, # the engine construction year is only used for diesel use and emissions quantification\n",
    "}             \n",
    "\n"
   ]
  }
 ],
 "metadata": {
  "kernelspec": {
   "display_name": "Python 3 (ipykernel)",
   "language": "python",
   "name": "python3"
  },
  "language_info": {
   "codemirror_mode": {
    "name": "ipython",
    "version": 3
   },
   "file_extension": ".py",
   "mimetype": "text/x-python",
   "name": "python",
   "nbconvert_exporter": "python",
   "pygments_lexer": "ipython3",
   "version": "3.9.10"
  }
 },
 "nbformat": 4,
 "nbformat_minor": 5
}
