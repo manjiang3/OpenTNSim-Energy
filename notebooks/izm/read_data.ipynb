{
 "cells": [
  {
   "cell_type": "code",
   "execution_count": 1,
   "id": "a3da2914-b4f2-44f6-9ea0-e6b6dcbd521c",
   "metadata": {},
   "outputs": [],
   "source": [
    "import pandas as pd\n",
    "pd.options.display.max_columns = None\n",
    "pd.options.display.max_rows = None"
   ]
  },
  {
   "cell_type": "code",
   "execution_count": 16,
   "id": "cd7ef91e-f05b-4cf2-a4ce-679d5aabe41c",
   "metadata": {
    "tags": []
   },
   "outputs": [],
   "source": [
    "  \n",
    "Izm = pd.read_csv(\"C:\\\\Users\\\\manjiang\\\\OpenTNSim-Energy\\\\data\\\\XXX.csv\")\n"
   ]
  },
  {
   "cell_type": "code",
   "execution_count": 12,
   "id": "a5e3dfe3-ac49-457f-bace-5ff424bf944e",
   "metadata": {},
   "outputs": [],
   "source": [
    "a = []\n",
    "for i in range(0,len(mpg),179*20):\n",
    "    a.append(i)\n",
    "file = mpg.iloc[a]\n",
    "f = pd.DataFrame(file)"
   ]
  },
  {
   "cell_type": "code",
   "execution_count": null,
   "id": "3b3635c3-f401-4cf6-97fa-3df6b865c01d",
   "metadata": {},
   "outputs": [],
   "source": [
    "f.head(72)"
   ]
  },
  {
   "cell_type": "code",
   "execution_count": null,
   "id": "7cbd0606-0326-4e14-bf82-de62c938de9c",
   "metadata": {},
   "outputs": [],
   "source": []
  }
 ],
 "metadata": {
  "kernelspec": {
   "display_name": "Python 3 (ipykernel)",
   "language": "python",
   "name": "python3"
  },
  "language_info": {
   "codemirror_mode": {
    "name": "ipython",
    "version": 3
   },
   "file_extension": ".py",
   "mimetype": "text/x-python",
   "name": "python",
   "nbconvert_exporter": "python",
   "pygments_lexer": "ipython3",
   "version": "3.9.10"
  }
 },
 "nbformat": 4,
 "nbformat_minor": 5
}
