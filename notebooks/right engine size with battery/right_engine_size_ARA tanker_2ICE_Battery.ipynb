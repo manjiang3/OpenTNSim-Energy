{
 "cells": [
  {
   "cell_type": "code",
   "execution_count": 1,
   "id": "485dc3d0-4e7f-4c00-a13c-3087e851f284",
   "metadata": {},
   "outputs": [],
   "source": [
    "\n",
    "# spatial libraries\n",
    "import shapely.geometry\n",
    "import pyproj\n",
    "\n",
    "# package(s) for data handling\n",
    "import numpy as np\n",
    "import matplotlib.pyplot as plt\n",
    "import requests\n",
    "import plotly.express as px\n",
    "import pandas as pd\n",
    "pd.options.display.max_rows = None\n",
    "import plotly.graph_objects as go\n",
    "\n",
    "import functools\n",
    "import itertools\n",
    "import warnings\n",
    "warnings.filterwarnings('ignore')\n",
    "import sys\n",
    "sys.tracebacklimit=0\n",
    "# package(s) related to time, space and id\n",
    "import logging\n",
    "import datetime, time\n",
    "import platform\n",
    "\n",
    "# package(s) related to the simulation\n",
    "import simpy\n",
    "import pandas as pd\n",
    "\n",
    "# spatial libraries \n",
    "import pyproj\n",
    "import shapely.geometry\n",
    "from simplekml import Kml, Style\n",
    "\n",
    "# package(s) for data handling\n",
    "\n",
    "import scipy.optimize\n",
    "import matplotlib.pyplot as plt\n",
    "from matplotlib.ticker import StrMethodFormatter\n",
    "import tqdm\n",
    "\n",
    "# Used for mathematical functions\n",
    "import math             \n",
    "\n",
    "import plotly.express as px\n",
    "from plotly.subplots import make_subplots\n",
    "\n",
    "#logging.basicConfig(level=logging.DEBUG) #turn on all the debug messages\n",
    "#logging.basicConfig(level=logging.INFO)# turn off all the debug messages\n",
    "\n",
    "logger = logging.getLogger('notebook')\n",
    "\n",
    "# Used for making the graph\n",
    "import networkx as nx\n",
    "\n",
    "# new OpenTNSim module\n",
    "import powertrain"
   ]
  },
  {
   "cell_type": "code",
   "execution_count": null,
   "id": "8ccfdc47-b17d-4e37-a495-f8802fdd64ea",
   "metadata": {},
   "outputs": [],
   "source": []
  },
  {
   "cell_type": "code",
   "execution_count": 2,
   "id": "643ae47a-cf05-4487-ab8a-bd450bba3cb1",
   "metadata": {},
   "outputs": [],
   "source": [
    "# MCR_me_1"
   ]
  },
  {
   "cell_type": "code",
   "execution_count": 3,
   "id": "d4acbae9-39be-4450-8b7e-6f7b4de35ef6",
   "metadata": {},
   "outputs": [],
   "source": [
    "# MCR_me_2"
   ]
  },
  {
   "cell_type": "code",
   "execution_count": 4,
   "id": "dc39d1ee-9622-44a8-a731-5b71594d12fa",
   "metadata": {},
   "outputs": [],
   "source": [
    "# load_factor_me_2"
   ]
  },
  {
   "cell_type": "code",
   "execution_count": 5,
   "id": "6ec005aa-ee9e-4fec-9153-79559c1ccfea",
   "metadata": {},
   "outputs": [],
   "source": [
    "# trip_total_energy = powertrain.calculate_trip_total_energy(power_percentage, MCR_oversize, time_percentage, trip_total_time_hr)\n",
    "# trip_total_energy"
   ]
  },
  {
   "cell_type": "code",
   "execution_count": 6,
   "id": "ac913490-080d-4850-b24b-6b1124c05539",
   "metadata": {},
   "outputs": [],
   "source": [
    "# power_applied = [86,147,208,270,331,392,453,515,576,637,698,760,821,882,943,1005,1066] # exclude stationary\n",
    "power_applied = [86*0.5,147*0.5,208*0.5,270*0.5,331*0.5,392*0.5,453*0.5,515*0.5,576*0.5,637*0.5,698*0.5,760*0.5,821*0.5,882*0.5,943*0.5,1005*0.5,1066*0.5]\n",
    "MCR_smallsize_1 = [450,500,550,600] \n",
    "MCR_smallsize_2 = [250,300,350,400]                                                                                    \n",
    "\n",
    "\n",
    "time_percentage = [0.046,0.059,0.074,0.067,0.093,0.117,0.118,0.067,0.058,0.04,0.03,0.027,0.013,0.007,0.004,0.004,0.002] # exclude stationary\n",
    "MCR_oversize = [1225]\n",
    "\n",
    "peaktime_percentage = [0.057]\n",
    "peakpower_load_oversize = [0.77] #ARA_tanker ave\n",
    "\n",
    "stationarytime_percentage = [0.174]\n",
    "stationarypower_load_oversize = [0.025] #ARA_tanker ave\n",
    "\n",
    "trip_total_time_hr = [27] # ARA tanker, AMS-RTD\n",
    "\n"
   ]
  },
  {
   "cell_type": "code",
   "execution_count": 7,
   "id": "618d0fff-d68a-4dcf-ad8b-86dc82316bdb",
   "metadata": {
    "tags": []
   },
   "outputs": [
    {
     "data": {
      "text/html": [
       "<div>\n",
       "<style scoped>\n",
       "    .dataframe tbody tr th:only-of-type {\n",
       "        vertical-align: middle;\n",
       "    }\n",
       "\n",
       "    .dataframe tbody tr th {\n",
       "        vertical-align: top;\n",
       "    }\n",
       "\n",
       "    .dataframe thead th {\n",
       "        text-align: right;\n",
       "    }\n",
       "</style>\n",
       "<table border=\"1\" class=\"dataframe\">\n",
       "  <thead>\n",
       "    <tr style=\"text-align: right;\">\n",
       "      <th></th>\n",
       "      <th>MCR_smallsize_1</th>\n",
       "      <th>MCR_smallsize_2</th>\n",
       "      <th>trip_total_time_hr</th>\n",
       "      <th>peaktime_percentage</th>\n",
       "      <th>stationarytime_percentage</th>\n",
       "      <th>MCR_oversize</th>\n",
       "      <th>peakpower_load_oversize</th>\n",
       "      <th>stationarypower_load_oversize</th>\n",
       "    </tr>\n",
       "  </thead>\n",
       "  <tbody>\n",
       "    <tr>\n",
       "      <th>0</th>\n",
       "      <td>450</td>\n",
       "      <td>250</td>\n",
       "      <td>27</td>\n",
       "      <td>0.057</td>\n",
       "      <td>0.174</td>\n",
       "      <td>1225</td>\n",
       "      <td>0.77</td>\n",
       "      <td>0.025</td>\n",
       "    </tr>\n",
       "    <tr>\n",
       "      <th>1</th>\n",
       "      <td>450</td>\n",
       "      <td>300</td>\n",
       "      <td>27</td>\n",
       "      <td>0.057</td>\n",
       "      <td>0.174</td>\n",
       "      <td>1225</td>\n",
       "      <td>0.77</td>\n",
       "      <td>0.025</td>\n",
       "    </tr>\n",
       "    <tr>\n",
       "      <th>2</th>\n",
       "      <td>450</td>\n",
       "      <td>350</td>\n",
       "      <td>27</td>\n",
       "      <td>0.057</td>\n",
       "      <td>0.174</td>\n",
       "      <td>1225</td>\n",
       "      <td>0.77</td>\n",
       "      <td>0.025</td>\n",
       "    </tr>\n",
       "    <tr>\n",
       "      <th>3</th>\n",
       "      <td>450</td>\n",
       "      <td>400</td>\n",
       "      <td>27</td>\n",
       "      <td>0.057</td>\n",
       "      <td>0.174</td>\n",
       "      <td>1225</td>\n",
       "      <td>0.77</td>\n",
       "      <td>0.025</td>\n",
       "    </tr>\n",
       "    <tr>\n",
       "      <th>4</th>\n",
       "      <td>500</td>\n",
       "      <td>250</td>\n",
       "      <td>27</td>\n",
       "      <td>0.057</td>\n",
       "      <td>0.174</td>\n",
       "      <td>1225</td>\n",
       "      <td>0.77</td>\n",
       "      <td>0.025</td>\n",
       "    </tr>\n",
       "    <tr>\n",
       "      <th>5</th>\n",
       "      <td>500</td>\n",
       "      <td>300</td>\n",
       "      <td>27</td>\n",
       "      <td>0.057</td>\n",
       "      <td>0.174</td>\n",
       "      <td>1225</td>\n",
       "      <td>0.77</td>\n",
       "      <td>0.025</td>\n",
       "    </tr>\n",
       "    <tr>\n",
       "      <th>6</th>\n",
       "      <td>500</td>\n",
       "      <td>350</td>\n",
       "      <td>27</td>\n",
       "      <td>0.057</td>\n",
       "      <td>0.174</td>\n",
       "      <td>1225</td>\n",
       "      <td>0.77</td>\n",
       "      <td>0.025</td>\n",
       "    </tr>\n",
       "    <tr>\n",
       "      <th>7</th>\n",
       "      <td>500</td>\n",
       "      <td>400</td>\n",
       "      <td>27</td>\n",
       "      <td>0.057</td>\n",
       "      <td>0.174</td>\n",
       "      <td>1225</td>\n",
       "      <td>0.77</td>\n",
       "      <td>0.025</td>\n",
       "    </tr>\n",
       "    <tr>\n",
       "      <th>8</th>\n",
       "      <td>550</td>\n",
       "      <td>250</td>\n",
       "      <td>27</td>\n",
       "      <td>0.057</td>\n",
       "      <td>0.174</td>\n",
       "      <td>1225</td>\n",
       "      <td>0.77</td>\n",
       "      <td>0.025</td>\n",
       "    </tr>\n",
       "    <tr>\n",
       "      <th>9</th>\n",
       "      <td>550</td>\n",
       "      <td>300</td>\n",
       "      <td>27</td>\n",
       "      <td>0.057</td>\n",
       "      <td>0.174</td>\n",
       "      <td>1225</td>\n",
       "      <td>0.77</td>\n",
       "      <td>0.025</td>\n",
       "    </tr>\n",
       "    <tr>\n",
       "      <th>10</th>\n",
       "      <td>550</td>\n",
       "      <td>350</td>\n",
       "      <td>27</td>\n",
       "      <td>0.057</td>\n",
       "      <td>0.174</td>\n",
       "      <td>1225</td>\n",
       "      <td>0.77</td>\n",
       "      <td>0.025</td>\n",
       "    </tr>\n",
       "    <tr>\n",
       "      <th>11</th>\n",
       "      <td>550</td>\n",
       "      <td>400</td>\n",
       "      <td>27</td>\n",
       "      <td>0.057</td>\n",
       "      <td>0.174</td>\n",
       "      <td>1225</td>\n",
       "      <td>0.77</td>\n",
       "      <td>0.025</td>\n",
       "    </tr>\n",
       "    <tr>\n",
       "      <th>12</th>\n",
       "      <td>600</td>\n",
       "      <td>250</td>\n",
       "      <td>27</td>\n",
       "      <td>0.057</td>\n",
       "      <td>0.174</td>\n",
       "      <td>1225</td>\n",
       "      <td>0.77</td>\n",
       "      <td>0.025</td>\n",
       "    </tr>\n",
       "    <tr>\n",
       "      <th>13</th>\n",
       "      <td>600</td>\n",
       "      <td>300</td>\n",
       "      <td>27</td>\n",
       "      <td>0.057</td>\n",
       "      <td>0.174</td>\n",
       "      <td>1225</td>\n",
       "      <td>0.77</td>\n",
       "      <td>0.025</td>\n",
       "    </tr>\n",
       "    <tr>\n",
       "      <th>14</th>\n",
       "      <td>600</td>\n",
       "      <td>350</td>\n",
       "      <td>27</td>\n",
       "      <td>0.057</td>\n",
       "      <td>0.174</td>\n",
       "      <td>1225</td>\n",
       "      <td>0.77</td>\n",
       "      <td>0.025</td>\n",
       "    </tr>\n",
       "    <tr>\n",
       "      <th>15</th>\n",
       "      <td>600</td>\n",
       "      <td>400</td>\n",
       "      <td>27</td>\n",
       "      <td>0.057</td>\n",
       "      <td>0.174</td>\n",
       "      <td>1225</td>\n",
       "      <td>0.77</td>\n",
       "      <td>0.025</td>\n",
       "    </tr>\n",
       "  </tbody>\n",
       "</table>\n",
       "</div>"
      ],
      "text/plain": [
       "    MCR_smallsize_1  MCR_smallsize_2  trip_total_time_hr  peaktime_percentage  \\\n",
       "0               450              250                  27                0.057   \n",
       "1               450              300                  27                0.057   \n",
       "2               450              350                  27                0.057   \n",
       "3               450              400                  27                0.057   \n",
       "4               500              250                  27                0.057   \n",
       "5               500              300                  27                0.057   \n",
       "6               500              350                  27                0.057   \n",
       "7               500              400                  27                0.057   \n",
       "8               550              250                  27                0.057   \n",
       "9               550              300                  27                0.057   \n",
       "10              550              350                  27                0.057   \n",
       "11              550              400                  27                0.057   \n",
       "12              600              250                  27                0.057   \n",
       "13              600              300                  27                0.057   \n",
       "14              600              350                  27                0.057   \n",
       "15              600              400                  27                0.057   \n",
       "\n",
       "    stationarytime_percentage  MCR_oversize  peakpower_load_oversize  \\\n",
       "0                       0.174          1225                     0.77   \n",
       "1                       0.174          1225                     0.77   \n",
       "2                       0.174          1225                     0.77   \n",
       "3                       0.174          1225                     0.77   \n",
       "4                       0.174          1225                     0.77   \n",
       "5                       0.174          1225                     0.77   \n",
       "6                       0.174          1225                     0.77   \n",
       "7                       0.174          1225                     0.77   \n",
       "8                       0.174          1225                     0.77   \n",
       "9                       0.174          1225                     0.77   \n",
       "10                      0.174          1225                     0.77   \n",
       "11                      0.174          1225                     0.77   \n",
       "12                      0.174          1225                     0.77   \n",
       "13                      0.174          1225                     0.77   \n",
       "14                      0.174          1225                     0.77   \n",
       "15                      0.174          1225                     0.77   \n",
       "\n",
       "    stationarypower_load_oversize  \n",
       "0                           0.025  \n",
       "1                           0.025  \n",
       "2                           0.025  \n",
       "3                           0.025  \n",
       "4                           0.025  \n",
       "5                           0.025  \n",
       "6                           0.025  \n",
       "7                           0.025  \n",
       "8                           0.025  \n",
       "9                           0.025  \n",
       "10                          0.025  \n",
       "11                          0.025  \n",
       "12                          0.025  \n",
       "13                          0.025  \n",
       "14                          0.025  \n",
       "15                          0.025  "
      ]
     },
     "execution_count": 7,
     "metadata": {},
     "output_type": "execute_result"
    }
   ],
   "source": [
    "# prepare the work to be done by creating a list of all combinations\n",
    "work = list(itertools.product(\n",
    "        MCR_smallsize_1, \n",
    "        MCR_smallsize_2,\n",
    "        trip_total_time_hr,\n",
    "        peaktime_percentage,\n",
    "        stationarytime_percentage,\n",
    "        MCR_oversize,\n",
    "        peakpower_load_oversize,\n",
    "        stationarypower_load_oversize))\n",
    "\n",
    "# prepare a list of dictionaries for pandas\n",
    "rows = []\n",
    "for item in work:\n",
    "    row = {\"MCR_smallsize_1\":item[0],\"MCR_smallsize_2\":item[1], \n",
    "           \"trip_total_time_hr\":item[2],\"peaktime_percentage\":item[3], \"stationarytime_percentage\": item[4], \n",
    "           \"MCR_oversize\":item[5], \"peakpower_load_oversize\": item[6], \"stationarypower_load_oversize\":item[7]\n",
    "        }\n",
    "    rows.append(row)\n",
    "\n",
    "    # these are all the simulations that we want to run\n",
    "\n",
    "# convert them to dataframe, so that we can apply a function and monitor progress\n",
    "work_df = pd.DataFrame(rows)\n",
    "\n",
    "work_df"
   ]
  },
  {
   "cell_type": "code",
   "execution_count": 8,
   "id": "c87b756a-cbe3-4137-8965-a692f34b41ed",
   "metadata": {},
   "outputs": [],
   "source": [
    "feasibilities = []\n",
    "\n",
    "for i, row in tqdm.tqdm(work_df.iterrows(),disable=True):\n",
    "\n",
    "\n",
    "    (\n",
    "        battery_capacity_for_trip_kwh, \n",
    "        battery_capacity_for_peakpower_kwh,                \n",
    "        load_factor_tw_ave_ARA_smallsize\n",
    "    ) = powertrain.calculate_battery_capacity_forARA2smallICE(\n",
    "        \n",
    "        peakpower_load_oversize = row['peakpower_load_oversize'],\n",
    "        stationarypower_load_oversize = row['stationarypower_load_oversize'],\n",
    "        MCR_oversize = row['MCR_oversize'],                                                                                \n",
    "        peaktime_percentage = row['peaktime_percentage'], \n",
    "        stationarytime_percentage = row['stationarytime_percentage'], \n",
    "        trip_total_time_hr = row['trip_total_time_hr'],                                                                                    \n",
    "        MCR_smallsize_1 = row['MCR_smallsize_1'], \n",
    "        MCR_smallsize_2 = row['MCR_smallsize_2'],        \n",
    "        )    \n",
    "\n",
    "    \n",
    "    feasibility ={}\n",
    "    feasibility.update(row)\n",
    "    feasibility['battery_capacity_for_trip (kwh)'] = battery_capacity_for_trip_kwh #\n",
    "    feasibility['battery_capacity_for_peakpower (kwh)'] = battery_capacity_for_peakpower_kwh\n",
    "    feasibility['load_factor_tw_ave_ARA_smallsize'] = load_factor_tw_ave_ARA_smallsize\n",
    "    # feasibility['load_factor_tw_ave_ARA_smallsize_2'] = load_factor_tw_ave_ARA_smallsize_2\n",
    "\n",
    "    \n",
    "    feasibilities.append(feasibility)"
   ]
  },
  {
   "cell_type": "code",
   "execution_count": 9,
   "id": "61f77dc4-326a-45f2-9a14-a422a1bf739b",
   "metadata": {
    "tags": []
   },
   "outputs": [
    {
     "data": {
      "text/html": [
       "<div>\n",
       "<style scoped>\n",
       "    .dataframe tbody tr th:only-of-type {\n",
       "        vertical-align: middle;\n",
       "    }\n",
       "\n",
       "    .dataframe tbody tr th {\n",
       "        vertical-align: top;\n",
       "    }\n",
       "\n",
       "    .dataframe thead th {\n",
       "        text-align: right;\n",
       "    }\n",
       "</style>\n",
       "<table border=\"1\" class=\"dataframe\">\n",
       "  <thead>\n",
       "    <tr style=\"text-align: right;\">\n",
       "      <th></th>\n",
       "      <th>load_factor_tw_ave_ARA_smallsize</th>\n",
       "      <th>MCR_smallsize_1</th>\n",
       "      <th>MCR_smallsize_2</th>\n",
       "      <th>battery_capacity_for_trip (kwh)</th>\n",
       "      <th>battery_capacity_for_peakpower (kwh)</th>\n",
       "    </tr>\n",
       "  </thead>\n",
       "  <tbody>\n",
       "    <tr>\n",
       "      <th>0</th>\n",
       "      <td>0.602578</td>\n",
       "      <td>450.0</td>\n",
       "      <td>250.0</td>\n",
       "      <td>849.791250</td>\n",
       "      <td>535.95675</td>\n",
       "    </tr>\n",
       "    <tr>\n",
       "      <th>1</th>\n",
       "      <td>0.591690</td>\n",
       "      <td>450.0</td>\n",
       "      <td>300.0</td>\n",
       "      <td>768.031875</td>\n",
       "      <td>470.54925</td>\n",
       "    </tr>\n",
       "    <tr>\n",
       "      <th>2</th>\n",
       "      <td>0.582162</td>\n",
       "      <td>450.0</td>\n",
       "      <td>350.0</td>\n",
       "      <td>686.272500</td>\n",
       "      <td>405.14175</td>\n",
       "    </tr>\n",
       "    <tr>\n",
       "      <th>3</th>\n",
       "      <td>0.573755</td>\n",
       "      <td>450.0</td>\n",
       "      <td>400.0</td>\n",
       "      <td>604.513125</td>\n",
       "      <td>339.73425</td>\n",
       "    </tr>\n",
       "    <tr>\n",
       "      <th>4</th>\n",
       "      <td>0.552610</td>\n",
       "      <td>500.0</td>\n",
       "      <td>250.0</td>\n",
       "      <td>768.031875</td>\n",
       "      <td>470.54925</td>\n",
       "    </tr>\n",
       "    <tr>\n",
       "      <th>5</th>\n",
       "      <td>0.543082</td>\n",
       "      <td>500.0</td>\n",
       "      <td>300.0</td>\n",
       "      <td>686.272500</td>\n",
       "      <td>405.14175</td>\n",
       "    </tr>\n",
       "    <tr>\n",
       "      <th>6</th>\n",
       "      <td>0.534675</td>\n",
       "      <td>500.0</td>\n",
       "      <td>350.0</td>\n",
       "      <td>604.513125</td>\n",
       "      <td>339.73425</td>\n",
       "    </tr>\n",
       "    <tr>\n",
       "      <th>7</th>\n",
       "      <td>0.527203</td>\n",
       "      <td>500.0</td>\n",
       "      <td>400.0</td>\n",
       "      <td>522.753750</td>\n",
       "      <td>274.32675</td>\n",
       "    </tr>\n",
       "    <tr>\n",
       "      <th>8</th>\n",
       "      <td>0.511108</td>\n",
       "      <td>550.0</td>\n",
       "      <td>250.0</td>\n",
       "      <td>686.272500</td>\n",
       "      <td>405.14175</td>\n",
       "    </tr>\n",
       "    <tr>\n",
       "      <th>9</th>\n",
       "      <td>0.502701</td>\n",
       "      <td>550.0</td>\n",
       "      <td>300.0</td>\n",
       "      <td>604.513125</td>\n",
       "      <td>339.73425</td>\n",
       "    </tr>\n",
       "    <tr>\n",
       "      <th>10</th>\n",
       "      <td>0.495228</td>\n",
       "      <td>550.0</td>\n",
       "      <td>350.0</td>\n",
       "      <td>522.753750</td>\n",
       "      <td>274.32675</td>\n",
       "    </tr>\n",
       "    <tr>\n",
       "      <th>11</th>\n",
       "      <td>0.488542</td>\n",
       "      <td>550.0</td>\n",
       "      <td>400.0</td>\n",
       "      <td>440.994375</td>\n",
       "      <td>208.91925</td>\n",
       "    </tr>\n",
       "    <tr>\n",
       "      <th>12</th>\n",
       "      <td>0.476056</td>\n",
       "      <td>600.0</td>\n",
       "      <td>250.0</td>\n",
       "      <td>604.513125</td>\n",
       "      <td>339.73425</td>\n",
       "    </tr>\n",
       "    <tr>\n",
       "      <th>13</th>\n",
       "      <td>0.468583</td>\n",
       "      <td>600.0</td>\n",
       "      <td>300.0</td>\n",
       "      <td>522.753750</td>\n",
       "      <td>274.32675</td>\n",
       "    </tr>\n",
       "    <tr>\n",
       "      <th>14</th>\n",
       "      <td>0.461897</td>\n",
       "      <td>600.0</td>\n",
       "      <td>350.0</td>\n",
       "      <td>440.994375</td>\n",
       "      <td>208.91925</td>\n",
       "    </tr>\n",
       "    <tr>\n",
       "      <th>15</th>\n",
       "      <td>0.455880</td>\n",
       "      <td>600.0</td>\n",
       "      <td>400.0</td>\n",
       "      <td>359.235000</td>\n",
       "      <td>143.51175</td>\n",
       "    </tr>\n",
       "  </tbody>\n",
       "</table>\n",
       "</div>"
      ],
      "text/plain": [
       "    load_factor_tw_ave_ARA_smallsize  MCR_smallsize_1  MCR_smallsize_2  \\\n",
       "0                           0.602578            450.0            250.0   \n",
       "1                           0.591690            450.0            300.0   \n",
       "2                           0.582162            450.0            350.0   \n",
       "3                           0.573755            450.0            400.0   \n",
       "4                           0.552610            500.0            250.0   \n",
       "5                           0.543082            500.0            300.0   \n",
       "6                           0.534675            500.0            350.0   \n",
       "7                           0.527203            500.0            400.0   \n",
       "8                           0.511108            550.0            250.0   \n",
       "9                           0.502701            550.0            300.0   \n",
       "10                          0.495228            550.0            350.0   \n",
       "11                          0.488542            550.0            400.0   \n",
       "12                          0.476056            600.0            250.0   \n",
       "13                          0.468583            600.0            300.0   \n",
       "14                          0.461897            600.0            350.0   \n",
       "15                          0.455880            600.0            400.0   \n",
       "\n",
       "    battery_capacity_for_trip (kwh)  battery_capacity_for_peakpower (kwh)  \n",
       "0                        849.791250                             535.95675  \n",
       "1                        768.031875                             470.54925  \n",
       "2                        686.272500                             405.14175  \n",
       "3                        604.513125                             339.73425  \n",
       "4                        768.031875                             470.54925  \n",
       "5                        686.272500                             405.14175  \n",
       "6                        604.513125                             339.73425  \n",
       "7                        522.753750                             274.32675  \n",
       "8                        686.272500                             405.14175  \n",
       "9                        604.513125                             339.73425  \n",
       "10                       522.753750                             274.32675  \n",
       "11                       440.994375                             208.91925  \n",
       "12                       604.513125                             339.73425  \n",
       "13                       522.753750                             274.32675  \n",
       "14                       440.994375                             208.91925  \n",
       "15                       359.235000                             143.51175  "
      ]
     },
     "execution_count": 9,
     "metadata": {},
     "output_type": "execute_result"
    }
   ],
   "source": [
    "feasibilities = pd.DataFrame(feasibilities)\n",
    "first_selected = ['load_factor_tw_ave_ARA_smallsize','MCR_smallsize_1','MCR_smallsize_2','battery_capacity_for_trip (kwh)','battery_capacity_for_peakpower (kwh)']\n",
    "feasibilities = feasibilities[first_selected]\n",
    "feasibilities = feasibilities[feasibilities['battery_capacity_for_trip (kwh)'] > 0 ] \n",
    "feasibilities = feasibilities[feasibilities['battery_capacity_for_peakpower (kwh)'] > 0] \n",
    "feasibilities = feasibilities[feasibilities['load_factor_tw_ave_ARA_smallsize'] < 1.01] \n",
    "# feasibilities = feasibilities[feasibilities['load_factor_tw_ave_ARA_smallsize_2'] < 1.01] \n",
    "feasibilities "
   ]
  },
  {
   "cell_type": "markdown",
   "id": "f4c0c6d9-d35f-477a-9494-a20182278054",
   "metadata": {},
   "source": [
    "### ARA tanker right engine sizing scenario of two smaller ICE engines and battery pack"
   ]
  },
  {
   "cell_type": "code",
   "execution_count": 14,
   "id": "9e0d89c6-0706-4406-9294-7accaa07c00e",
   "metadata": {},
   "outputs": [
    {
     "data": {
      "application/vnd.plotly.v1+json": {
       "config": {
        "plotlyServerURL": "https://plot.ly"
       },
       "data": [
        {
         "dimensions": [
          {
           "label": "LF (%)",
           "range": [
            0.35,
            0.65
           ],
           "ticktext": [
            "",
            "45",
            "49",
            "52",
            "55",
            "58",
            "61",
            ""
           ],
           "tickvals": [
            0.35,
            0.45,
            0.49,
            0.52,
            0.55,
            0.58,
            0.61,
            0.65
           ],
           "values": [
            0.6025784126984125,
            0.5916895555555554,
            0.5821618055555554,
            0.5737549673202613,
            0.5526099999999999,
            0.5430822499999999,
            0.5346754117647057,
            0.5272026666666666,
            0.5111080681818181,
            0.502701229946524,
            0.49522848484848475,
            0.48854234449760764,
            0.4760560784313724,
            0.4685833333333333,
            0.4618971929824561,
            0.4558796666666666
           ]
          },
          {
           "label": "ICE 1, MCR (kW)",
           "range": [
            450,
            600
           ],
           "ticktext": [
            "450",
            "500",
            "550",
            "600"
           ],
           "tickvals": [
            450,
            500,
            550,
            600
           ],
           "values": [
            450,
            450,
            450,
            450,
            500,
            500,
            500,
            500,
            550,
            550,
            550,
            550,
            600,
            600,
            600,
            600
           ]
          },
          {
           "label": "ICE 2, MCR (kW)",
           "range": [
            250,
            400
           ],
           "ticktext": [
            "250",
            "300",
            "350",
            "400"
           ],
           "tickvals": [
            250,
            300,
            350,
            400
           ],
           "values": [
            250,
            300,
            350,
            400,
            250,
            300,
            350,
            400,
            250,
            300,
            350,
            400,
            250,
            300,
            350,
            400
           ]
          },
          {
           "label": "BAT (kWh)",
           "range": [
            300,
            1000
           ],
           "ticktext": [
            "",
            "359",
            "441",
            "523",
            "605",
            "686",
            "768",
            "850",
            ""
           ],
           "tickvals": [
            300,
            359,
            441,
            523,
            605,
            686,
            768,
            850,
            1000
           ],
           "values": [
            849.7912500000002,
            768.0318750000001,
            686.2725,
            604.5131250000003,
            768.0318750000001,
            686.2725,
            604.5131250000003,
            522.7537500000002,
            686.2725,
            604.5131250000003,
            522.7537500000002,
            440.9943750000002,
            604.5131250000003,
            522.7537500000002,
            440.9943750000002,
            359.2350000000002
           ]
          }
         ],
         "line": {
          "cmax": 900,
          "cmin": 250,
          "color": [
           849.7912500000002,
           768.0318750000001,
           686.2725,
           604.5131250000003,
           768.0318750000001,
           686.2725,
           604.5131250000003,
           522.7537500000002,
           686.2725,
           604.5131250000003,
           522.7537500000002,
           440.9943750000002,
           604.5131250000003,
           522.7537500000002,
           440.9943750000002,
           359.2350000000002
          ],
          "colorscale": [
           [
            0,
            "rgb(247,252,245)"
           ],
           [
            0.125,
            "rgb(229,245,224)"
           ],
           [
            0.25,
            "rgb(199,233,192)"
           ],
           [
            0.375,
            "rgb(161,217,155)"
           ],
           [
            0.5,
            "rgb(116,196,118)"
           ],
           [
            0.625,
            "rgb(65,171,93)"
           ],
           [
            0.75,
            "rgb(35,139,69)"
           ],
           [
            0.875,
            "rgb(0,109,44)"
           ],
           [
            1,
            "rgb(0,68,27)"
           ]
          ],
          "showscale": true
         },
         "type": "parcoords",
         "unselected": {
          "line": {
           "color": "gainsboro",
           "opacity": 0.5
          }
         }
        }
       ],
       "layout": {
        "autosize": true,
        "template": {
         "data": {
          "bar": [
           {
            "error_x": {
             "color": "#2a3f5f"
            },
            "error_y": {
             "color": "#2a3f5f"
            },
            "marker": {
             "line": {
              "color": "#E5ECF6",
              "width": 0.5
             },
             "pattern": {
              "fillmode": "overlay",
              "size": 10,
              "solidity": 0.2
             }
            },
            "type": "bar"
           }
          ],
          "barpolar": [
           {
            "marker": {
             "line": {
              "color": "#E5ECF6",
              "width": 0.5
             },
             "pattern": {
              "fillmode": "overlay",
              "size": 10,
              "solidity": 0.2
             }
            },
            "type": "barpolar"
           }
          ],
          "carpet": [
           {
            "aaxis": {
             "endlinecolor": "#2a3f5f",
             "gridcolor": "white",
             "linecolor": "white",
             "minorgridcolor": "white",
             "startlinecolor": "#2a3f5f"
            },
            "baxis": {
             "endlinecolor": "#2a3f5f",
             "gridcolor": "white",
             "linecolor": "white",
             "minorgridcolor": "white",
             "startlinecolor": "#2a3f5f"
            },
            "type": "carpet"
           }
          ],
          "choropleth": [
           {
            "colorbar": {
             "outlinewidth": 0,
             "ticks": ""
            },
            "type": "choropleth"
           }
          ],
          "contour": [
           {
            "colorbar": {
             "outlinewidth": 0,
             "ticks": ""
            },
            "colorscale": [
             [
              0,
              "#0d0887"
             ],
             [
              0.1111111111111111,
              "#46039f"
             ],
             [
              0.2222222222222222,
              "#7201a8"
             ],
             [
              0.3333333333333333,
              "#9c179e"
             ],
             [
              0.4444444444444444,
              "#bd3786"
             ],
             [
              0.5555555555555556,
              "#d8576b"
             ],
             [
              0.6666666666666666,
              "#ed7953"
             ],
             [
              0.7777777777777778,
              "#fb9f3a"
             ],
             [
              0.8888888888888888,
              "#fdca26"
             ],
             [
              1,
              "#f0f921"
             ]
            ],
            "type": "contour"
           }
          ],
          "contourcarpet": [
           {
            "colorbar": {
             "outlinewidth": 0,
             "ticks": ""
            },
            "type": "contourcarpet"
           }
          ],
          "heatmap": [
           {
            "colorbar": {
             "outlinewidth": 0,
             "ticks": ""
            },
            "colorscale": [
             [
              0,
              "#0d0887"
             ],
             [
              0.1111111111111111,
              "#46039f"
             ],
             [
              0.2222222222222222,
              "#7201a8"
             ],
             [
              0.3333333333333333,
              "#9c179e"
             ],
             [
              0.4444444444444444,
              "#bd3786"
             ],
             [
              0.5555555555555556,
              "#d8576b"
             ],
             [
              0.6666666666666666,
              "#ed7953"
             ],
             [
              0.7777777777777778,
              "#fb9f3a"
             ],
             [
              0.8888888888888888,
              "#fdca26"
             ],
             [
              1,
              "#f0f921"
             ]
            ],
            "type": "heatmap"
           }
          ],
          "heatmapgl": [
           {
            "colorbar": {
             "outlinewidth": 0,
             "ticks": ""
            },
            "colorscale": [
             [
              0,
              "#0d0887"
             ],
             [
              0.1111111111111111,
              "#46039f"
             ],
             [
              0.2222222222222222,
              "#7201a8"
             ],
             [
              0.3333333333333333,
              "#9c179e"
             ],
             [
              0.4444444444444444,
              "#bd3786"
             ],
             [
              0.5555555555555556,
              "#d8576b"
             ],
             [
              0.6666666666666666,
              "#ed7953"
             ],
             [
              0.7777777777777778,
              "#fb9f3a"
             ],
             [
              0.8888888888888888,
              "#fdca26"
             ],
             [
              1,
              "#f0f921"
             ]
            ],
            "type": "heatmapgl"
           }
          ],
          "histogram": [
           {
            "marker": {
             "pattern": {
              "fillmode": "overlay",
              "size": 10,
              "solidity": 0.2
             }
            },
            "type": "histogram"
           }
          ],
          "histogram2d": [
           {
            "colorbar": {
             "outlinewidth": 0,
             "ticks": ""
            },
            "colorscale": [
             [
              0,
              "#0d0887"
             ],
             [
              0.1111111111111111,
              "#46039f"
             ],
             [
              0.2222222222222222,
              "#7201a8"
             ],
             [
              0.3333333333333333,
              "#9c179e"
             ],
             [
              0.4444444444444444,
              "#bd3786"
             ],
             [
              0.5555555555555556,
              "#d8576b"
             ],
             [
              0.6666666666666666,
              "#ed7953"
             ],
             [
              0.7777777777777778,
              "#fb9f3a"
             ],
             [
              0.8888888888888888,
              "#fdca26"
             ],
             [
              1,
              "#f0f921"
             ]
            ],
            "type": "histogram2d"
           }
          ],
          "histogram2dcontour": [
           {
            "colorbar": {
             "outlinewidth": 0,
             "ticks": ""
            },
            "colorscale": [
             [
              0,
              "#0d0887"
             ],
             [
              0.1111111111111111,
              "#46039f"
             ],
             [
              0.2222222222222222,
              "#7201a8"
             ],
             [
              0.3333333333333333,
              "#9c179e"
             ],
             [
              0.4444444444444444,
              "#bd3786"
             ],
             [
              0.5555555555555556,
              "#d8576b"
             ],
             [
              0.6666666666666666,
              "#ed7953"
             ],
             [
              0.7777777777777778,
              "#fb9f3a"
             ],
             [
              0.8888888888888888,
              "#fdca26"
             ],
             [
              1,
              "#f0f921"
             ]
            ],
            "type": "histogram2dcontour"
           }
          ],
          "mesh3d": [
           {
            "colorbar": {
             "outlinewidth": 0,
             "ticks": ""
            },
            "type": "mesh3d"
           }
          ],
          "parcoords": [
           {
            "line": {
             "colorbar": {
              "outlinewidth": 0,
              "ticks": ""
             }
            },
            "type": "parcoords"
           }
          ],
          "pie": [
           {
            "automargin": true,
            "type": "pie"
           }
          ],
          "scatter": [
           {
            "fillpattern": {
             "fillmode": "overlay",
             "size": 10,
             "solidity": 0.2
            },
            "type": "scatter"
           }
          ],
          "scatter3d": [
           {
            "line": {
             "colorbar": {
              "outlinewidth": 0,
              "ticks": ""
             }
            },
            "marker": {
             "colorbar": {
              "outlinewidth": 0,
              "ticks": ""
             }
            },
            "type": "scatter3d"
           }
          ],
          "scattercarpet": [
           {
            "marker": {
             "colorbar": {
              "outlinewidth": 0,
              "ticks": ""
             }
            },
            "type": "scattercarpet"
           }
          ],
          "scattergeo": [
           {
            "marker": {
             "colorbar": {
              "outlinewidth": 0,
              "ticks": ""
             }
            },
            "type": "scattergeo"
           }
          ],
          "scattergl": [
           {
            "marker": {
             "colorbar": {
              "outlinewidth": 0,
              "ticks": ""
             }
            },
            "type": "scattergl"
           }
          ],
          "scattermapbox": [
           {
            "marker": {
             "colorbar": {
              "outlinewidth": 0,
              "ticks": ""
             }
            },
            "type": "scattermapbox"
           }
          ],
          "scatterpolar": [
           {
            "marker": {
             "colorbar": {
              "outlinewidth": 0,
              "ticks": ""
             }
            },
            "type": "scatterpolar"
           }
          ],
          "scatterpolargl": [
           {
            "marker": {
             "colorbar": {
              "outlinewidth": 0,
              "ticks": ""
             }
            },
            "type": "scatterpolargl"
           }
          ],
          "scatterternary": [
           {
            "marker": {
             "colorbar": {
              "outlinewidth": 0,
              "ticks": ""
             }
            },
            "type": "scatterternary"
           }
          ],
          "surface": [
           {
            "colorbar": {
             "outlinewidth": 0,
             "ticks": ""
            },
            "colorscale": [
             [
              0,
              "#0d0887"
             ],
             [
              0.1111111111111111,
              "#46039f"
             ],
             [
              0.2222222222222222,
              "#7201a8"
             ],
             [
              0.3333333333333333,
              "#9c179e"
             ],
             [
              0.4444444444444444,
              "#bd3786"
             ],
             [
              0.5555555555555556,
              "#d8576b"
             ],
             [
              0.6666666666666666,
              "#ed7953"
             ],
             [
              0.7777777777777778,
              "#fb9f3a"
             ],
             [
              0.8888888888888888,
              "#fdca26"
             ],
             [
              1,
              "#f0f921"
             ]
            ],
            "type": "surface"
           }
          ],
          "table": [
           {
            "cells": {
             "fill": {
              "color": "#EBF0F8"
             },
             "line": {
              "color": "white"
             }
            },
            "header": {
             "fill": {
              "color": "#C8D4E3"
             },
             "line": {
              "color": "white"
             }
            },
            "type": "table"
           }
          ]
         },
         "layout": {
          "annotationdefaults": {
           "arrowcolor": "#2a3f5f",
           "arrowhead": 0,
           "arrowwidth": 1
          },
          "autotypenumbers": "strict",
          "coloraxis": {
           "colorbar": {
            "outlinewidth": 0,
            "ticks": ""
           }
          },
          "colorscale": {
           "diverging": [
            [
             0,
             "#8e0152"
            ],
            [
             0.1,
             "#c51b7d"
            ],
            [
             0.2,
             "#de77ae"
            ],
            [
             0.3,
             "#f1b6da"
            ],
            [
             0.4,
             "#fde0ef"
            ],
            [
             0.5,
             "#f7f7f7"
            ],
            [
             0.6,
             "#e6f5d0"
            ],
            [
             0.7,
             "#b8e186"
            ],
            [
             0.8,
             "#7fbc41"
            ],
            [
             0.9,
             "#4d9221"
            ],
            [
             1,
             "#276419"
            ]
           ],
           "sequential": [
            [
             0,
             "#0d0887"
            ],
            [
             0.1111111111111111,
             "#46039f"
            ],
            [
             0.2222222222222222,
             "#7201a8"
            ],
            [
             0.3333333333333333,
             "#9c179e"
            ],
            [
             0.4444444444444444,
             "#bd3786"
            ],
            [
             0.5555555555555556,
             "#d8576b"
            ],
            [
             0.6666666666666666,
             "#ed7953"
            ],
            [
             0.7777777777777778,
             "#fb9f3a"
            ],
            [
             0.8888888888888888,
             "#fdca26"
            ],
            [
             1,
             "#f0f921"
            ]
           ],
           "sequentialminus": [
            [
             0,
             "#0d0887"
            ],
            [
             0.1111111111111111,
             "#46039f"
            ],
            [
             0.2222222222222222,
             "#7201a8"
            ],
            [
             0.3333333333333333,
             "#9c179e"
            ],
            [
             0.4444444444444444,
             "#bd3786"
            ],
            [
             0.5555555555555556,
             "#d8576b"
            ],
            [
             0.6666666666666666,
             "#ed7953"
            ],
            [
             0.7777777777777778,
             "#fb9f3a"
            ],
            [
             0.8888888888888888,
             "#fdca26"
            ],
            [
             1,
             "#f0f921"
            ]
           ]
          },
          "colorway": [
           "#636efa",
           "#EF553B",
           "#00cc96",
           "#ab63fa",
           "#FFA15A",
           "#19d3f3",
           "#FF6692",
           "#B6E880",
           "#FF97FF",
           "#FECB52"
          ],
          "font": {
           "color": "#2a3f5f"
          },
          "geo": {
           "bgcolor": "white",
           "lakecolor": "white",
           "landcolor": "#E5ECF6",
           "showlakes": true,
           "showland": true,
           "subunitcolor": "white"
          },
          "hoverlabel": {
           "align": "left"
          },
          "hovermode": "closest",
          "mapbox": {
           "style": "light"
          },
          "paper_bgcolor": "white",
          "plot_bgcolor": "#E5ECF6",
          "polar": {
           "angularaxis": {
            "gridcolor": "white",
            "linecolor": "white",
            "ticks": ""
           },
           "bgcolor": "#E5ECF6",
           "radialaxis": {
            "gridcolor": "white",
            "linecolor": "white",
            "ticks": ""
           }
          },
          "scene": {
           "xaxis": {
            "backgroundcolor": "#E5ECF6",
            "gridcolor": "white",
            "gridwidth": 2,
            "linecolor": "white",
            "showbackground": true,
            "ticks": "",
            "zerolinecolor": "white"
           },
           "yaxis": {
            "backgroundcolor": "#E5ECF6",
            "gridcolor": "white",
            "gridwidth": 2,
            "linecolor": "white",
            "showbackground": true,
            "ticks": "",
            "zerolinecolor": "white"
           },
           "zaxis": {
            "backgroundcolor": "#E5ECF6",
            "gridcolor": "white",
            "gridwidth": 2,
            "linecolor": "white",
            "showbackground": true,
            "ticks": "",
            "zerolinecolor": "white"
           }
          },
          "shapedefaults": {
           "line": {
            "color": "#2a3f5f"
           }
          },
          "ternary": {
           "aaxis": {
            "gridcolor": "white",
            "linecolor": "white",
            "ticks": ""
           },
           "baxis": {
            "gridcolor": "white",
            "linecolor": "white",
            "ticks": ""
           },
           "bgcolor": "#E5ECF6",
           "caxis": {
            "gridcolor": "white",
            "linecolor": "white",
            "ticks": ""
           }
          },
          "title": {
           "x": 0.05
          },
          "xaxis": {
           "automargin": true,
           "gridcolor": "white",
           "linecolor": "white",
           "ticks": "",
           "title": {
            "standoff": 15
           },
           "zerolinecolor": "white",
           "zerolinewidth": 2
          },
          "yaxis": {
           "automargin": true,
           "gridcolor": "white",
           "linecolor": "white",
           "ticks": "",
           "title": {
            "standoff": 15
           },
           "zerolinecolor": "white",
           "zerolinewidth": 2
          }
         }
        }
       }
      },
      "image/png": "[encoded data removed]",
      "text/html": [
       "<div>                            <div id=\"186f4e10-a814-4289-a0a6-626d2151bcc1\" class=\"plotly-graph-div\" style=\"height:525px; width:100%;\"></div>            <script type=\"text/javascript\">                require([\"plotly\"], function(Plotly) {                    window.PLOTLYENV=window.PLOTLYENV || {};                                    if (document.getElementById(\"186f4e10-a814-4289-a0a6-626d2151bcc1\")) {                    Plotly.newPlot(                        \"186f4e10-a814-4289-a0a6-626d2151bcc1\",                        [{\"dimensions\":[{\"label\":\"LF (%)\",\"range\":[0.35,0.65],\"ticktext\":[\"\",\"61\",\"58\",\"55\",\"52\",\"49\",\"45\",\"\"],\"tickvals\":[0.65,0.61,0.58,0.55,0.52,0.49,0.45,0.35],\"values\":[0.6025784126984125,0.5916895555555554,0.5821618055555554,0.5737549673202613,0.5526099999999999,0.5430822499999999,0.5346754117647057,0.5272026666666666,0.5111080681818181,0.502701229946524,0.49522848484848475,0.48854234449760764,0.4760560784313724,0.4685833333333333,0.4618971929824561,0.4558796666666666]},{\"label\":\"ICE 1, MCR (kW)\",\"range\":[450,600],\"ticktext\":[\"450\",\"500\",\"550\",\"600\"],\"tickvals\":[450,500,550,600],\"values\":[450.0,450.0,450.0,450.0,500.0,500.0,500.0,500.0,550.0,550.0,550.0,550.0,600.0,600.0,600.0,600.0]},{\"label\":\"ICE 2, MCR (kW)\",\"range\":[250,400],\"ticktext\":[\"250\",\"300\",\"350\",\"400\"],\"tickvals\":[250,300,350,400],\"values\":[250.0,300.0,350.0,400.0,250.0,300.0,350.0,400.0,250.0,300.0,350.0,400.0,250.0,300.0,350.0,400.0]},{\"label\":\"BAT (kWh)\",\"range\":[300,1000],\"ticktext\":[\"\",\"850\",\"768\",\"686\",\"605\",\"523\",\"441\",\"359\",\"\"],\"tickvals\":[1000,850,768,686,605,523,441,359,300],\"values\":[849.7912500000002,768.0318750000001,686.2725,604.5131250000003,768.0318750000001,686.2725,604.5131250000003,522.7537500000002,686.2725,604.5131250000003,522.7537500000002,440.9943750000002,604.5131250000003,522.7537500000002,440.9943750000002,359.2350000000002]}],\"line\":{\"cmax\":900,\"cmin\":250,\"color\":[849.7912500000002,768.0318750000001,686.2725,604.5131250000003,768.0318750000001,686.2725,604.5131250000003,522.7537500000002,686.2725,604.5131250000003,522.7537500000002,440.9943750000002,604.5131250000003,522.7537500000002,440.9943750000002,359.2350000000002],\"colorscale\":[[0.0,\"rgb(247,252,245)\"],[0.125,\"rgb(229,245,224)\"],[0.25,\"rgb(199,233,192)\"],[0.375,\"rgb(161,217,155)\"],[0.5,\"rgb(116,196,118)\"],[0.625,\"rgb(65,171,93)\"],[0.75,\"rgb(35,139,69)\"],[0.875,\"rgb(0,109,44)\"],[1.0,\"rgb(0,68,27)\"]],\"showscale\":true},\"unselected\":{\"line\":{\"color\":\"gainsboro\",\"opacity\":0.5}},\"type\":\"parcoords\"}],                        {\"template\":{\"data\":{\"histogram2dcontour\":[{\"type\":\"histogram2dcontour\",\"colorbar\":{\"outlinewidth\":0,\"ticks\":\"\"},\"colorscale\":[[0.0,\"#0d0887\"],[0.1111111111111111,\"#46039f\"],[0.2222222222222222,\"#7201a8\"],[0.3333333333333333,\"#9c179e\"],[0.4444444444444444,\"#bd3786\"],[0.5555555555555556,\"#d8576b\"],[0.6666666666666666,\"#ed7953\"],[0.7777777777777778,\"#fb9f3a\"],[0.8888888888888888,\"#fdca26\"],[1.0,\"#f0f921\"]]}],\"choropleth\":[{\"type\":\"choropleth\",\"colorbar\":{\"outlinewidth\":0,\"ticks\":\"\"}}],\"histogram2d\":[{\"type\":\"histogram2d\",\"colorbar\":{\"outlinewidth\":0,\"ticks\":\"\"},\"colorscale\":[[0.0,\"#0d0887\"],[0.1111111111111111,\"#46039f\"],[0.2222222222222222,\"#7201a8\"],[0.3333333333333333,\"#9c179e\"],[0.4444444444444444,\"#bd3786\"],[0.5555555555555556,\"#d8576b\"],[0.6666666666666666,\"#ed7953\"],[0.7777777777777778,\"#fb9f3a\"],[0.8888888888888888,\"#fdca26\"],[1.0,\"#f0f921\"]]}],\"heatmap\":[{\"type\":\"heatmap\",\"colorbar\":{\"outlinewidth\":0,\"ticks\":\"\"},\"colorscale\":[[0.0,\"#0d0887\"],[0.1111111111111111,\"#46039f\"],[0.2222222222222222,\"#7201a8\"],[0.3333333333333333,\"#9c179e\"],[0.4444444444444444,\"#bd3786\"],[0.5555555555555556,\"#d8576b\"],[0.6666666666666666,\"#ed7953\"],[0.7777777777777778,\"#fb9f3a\"],[0.8888888888888888,\"#fdca26\"],[1.0,\"#f0f921\"]]}],\"heatmapgl\":[{\"type\":\"heatmapgl\",\"colorbar\":{\"outlinewidth\":0,\"ticks\":\"\"},\"colorscale\":[[0.0,\"#0d0887\"],[0.1111111111111111,\"#46039f\"],[0.2222222222222222,\"#7201a8\"],[0.3333333333333333,\"#9c179e\"],[0.4444444444444444,\"#bd3786\"],[0.5555555555555556,\"#d8576b\"],[0.6666666666666666,\"#ed7953\"],[0.7777777777777778,\"#fb9f3a\"],[0.8888888888888888,\"#fdca26\"],[1.0,\"#f0f921\"]]}],\"contourcarpet\":[{\"type\":\"contourcarpet\",\"colorbar\":{\"outlinewidth\":0,\"ticks\":\"\"}}],\"contour\":[{\"type\":\"contour\",\"colorbar\":{\"outlinewidth\":0,\"ticks\":\"\"},\"colorscale\":[[0.0,\"#0d0887\"],[0.1111111111111111,\"#46039f\"],[0.2222222222222222,\"#7201a8\"],[0.3333333333333333,\"#9c179e\"],[0.4444444444444444,\"#bd3786\"],[0.5555555555555556,\"#d8576b\"],[0.6666666666666666,\"#ed7953\"],[0.7777777777777778,\"#fb9f3a\"],[0.8888888888888888,\"#fdca26\"],[1.0,\"#f0f921\"]]}],\"surface\":[{\"type\":\"surface\",\"colorbar\":{\"outlinewidth\":0,\"ticks\":\"\"},\"colorscale\":[[0.0,\"#0d0887\"],[0.1111111111111111,\"#46039f\"],[0.2222222222222222,\"#7201a8\"],[0.3333333333333333,\"#9c179e\"],[0.4444444444444444,\"#bd3786\"],[0.5555555555555556,\"#d8576b\"],[0.6666666666666666,\"#ed7953\"],[0.7777777777777778,\"#fb9f3a\"],[0.8888888888888888,\"#fdca26\"],[1.0,\"#f0f921\"]]}],\"mesh3d\":[{\"type\":\"mesh3d\",\"colorbar\":{\"outlinewidth\":0,\"ticks\":\"\"}}],\"scatter\":[{\"fillpattern\":{\"fillmode\":\"overlay\",\"size\":10,\"solidity\":0.2},\"type\":\"scatter\"}],\"parcoords\":[{\"type\":\"parcoords\",\"line\":{\"colorbar\":{\"outlinewidth\":0,\"ticks\":\"\"}}}],\"scatterpolargl\":[{\"type\":\"scatterpolargl\",\"marker\":{\"colorbar\":{\"outlinewidth\":0,\"ticks\":\"\"}}}],\"bar\":[{\"error_x\":{\"color\":\"#2a3f5f\"},\"error_y\":{\"color\":\"#2a3f5f\"},\"marker\":{\"line\":{\"color\":\"#E5ECF6\",\"width\":0.5},\"pattern\":{\"fillmode\":\"overlay\",\"size\":10,\"solidity\":0.2}},\"type\":\"bar\"}],\"scattergeo\":[{\"type\":\"scattergeo\",\"marker\":{\"colorbar\":{\"outlinewidth\":0,\"ticks\":\"\"}}}],\"scatterpolar\":[{\"type\":\"scatterpolar\",\"marker\":{\"colorbar\":{\"outlinewidth\":0,\"ticks\":\"\"}}}],\"histogram\":[{\"marker\":{\"pattern\":{\"fillmode\":\"overlay\",\"size\":10,\"solidity\":0.2}},\"type\":\"histogram\"}],\"scattergl\":[{\"type\":\"scattergl\",\"marker\":{\"colorbar\":{\"outlinewidth\":0,\"ticks\":\"\"}}}],\"scatter3d\":[{\"type\":\"scatter3d\",\"line\":{\"colorbar\":{\"outlinewidth\":0,\"ticks\":\"\"}},\"marker\":{\"colorbar\":{\"outlinewidth\":0,\"ticks\":\"\"}}}],\"scattermapbox\":[{\"type\":\"scattermapbox\",\"marker\":{\"colorbar\":{\"outlinewidth\":0,\"ticks\":\"\"}}}],\"scatterternary\":[{\"type\":\"scatterternary\",\"marker\":{\"colorbar\":{\"outlinewidth\":0,\"ticks\":\"\"}}}],\"scattercarpet\":[{\"type\":\"scattercarpet\",\"marker\":{\"colorbar\":{\"outlinewidth\":0,\"ticks\":\"\"}}}],\"carpet\":[{\"aaxis\":{\"endlinecolor\":\"#2a3f5f\",\"gridcolor\":\"white\",\"linecolor\":\"white\",\"minorgridcolor\":\"white\",\"startlinecolor\":\"#2a3f5f\"},\"baxis\":{\"endlinecolor\":\"#2a3f5f\",\"gridcolor\":\"white\",\"linecolor\":\"white\",\"minorgridcolor\":\"white\",\"startlinecolor\":\"#2a3f5f\"},\"type\":\"carpet\"}],\"table\":[{\"cells\":{\"fill\":{\"color\":\"#EBF0F8\"},\"line\":{\"color\":\"white\"}},\"header\":{\"fill\":{\"color\":\"#C8D4E3\"},\"line\":{\"color\":\"white\"}},\"type\":\"table\"}],\"barpolar\":[{\"marker\":{\"line\":{\"color\":\"#E5ECF6\",\"width\":0.5},\"pattern\":{\"fillmode\":\"overlay\",\"size\":10,\"solidity\":0.2}},\"type\":\"barpolar\"}],\"pie\":[{\"automargin\":true,\"type\":\"pie\"}]},\"layout\":{\"autotypenumbers\":\"strict\",\"colorway\":[\"#636efa\",\"#EF553B\",\"#00cc96\",\"#ab63fa\",\"#FFA15A\",\"#19d3f3\",\"#FF6692\",\"#B6E880\",\"#FF97FF\",\"#FECB52\"],\"font\":{\"color\":\"#2a3f5f\"},\"hovermode\":\"closest\",\"hoverlabel\":{\"align\":\"left\"},\"paper_bgcolor\":\"white\",\"plot_bgcolor\":\"#E5ECF6\",\"polar\":{\"bgcolor\":\"#E5ECF6\",\"angularaxis\":{\"gridcolor\":\"white\",\"linecolor\":\"white\",\"ticks\":\"\"},\"radialaxis\":{\"gridcolor\":\"white\",\"linecolor\":\"white\",\"ticks\":\"\"}},\"ternary\":{\"bgcolor\":\"#E5ECF6\",\"aaxis\":{\"gridcolor\":\"white\",\"linecolor\":\"white\",\"ticks\":\"\"},\"baxis\":{\"gridcolor\":\"white\",\"linecolor\":\"white\",\"ticks\":\"\"},\"caxis\":{\"gridcolor\":\"white\",\"linecolor\":\"white\",\"ticks\":\"\"}},\"coloraxis\":{\"colorbar\":{\"outlinewidth\":0,\"ticks\":\"\"}},\"colorscale\":{\"sequential\":[[0.0,\"#0d0887\"],[0.1111111111111111,\"#46039f\"],[0.2222222222222222,\"#7201a8\"],[0.3333333333333333,\"#9c179e\"],[0.4444444444444444,\"#bd3786\"],[0.5555555555555556,\"#d8576b\"],[0.6666666666666666,\"#ed7953\"],[0.7777777777777778,\"#fb9f3a\"],[0.8888888888888888,\"#fdca26\"],[1.0,\"#f0f921\"]],\"sequentialminus\":[[0.0,\"#0d0887\"],[0.1111111111111111,\"#46039f\"],[0.2222222222222222,\"#7201a8\"],[0.3333333333333333,\"#9c179e\"],[0.4444444444444444,\"#bd3786\"],[0.5555555555555556,\"#d8576b\"],[0.6666666666666666,\"#ed7953\"],[0.7777777777777778,\"#fb9f3a\"],[0.8888888888888888,\"#fdca26\"],[1.0,\"#f0f921\"]],\"diverging\":[[0,\"#8e0152\"],[0.1,\"#c51b7d\"],[0.2,\"#de77ae\"],[0.3,\"#f1b6da\"],[0.4,\"#fde0ef\"],[0.5,\"#f7f7f7\"],[0.6,\"#e6f5d0\"],[0.7,\"#b8e186\"],[0.8,\"#7fbc41\"],[0.9,\"#4d9221\"],[1,\"#276419\"]]},\"xaxis\":{\"gridcolor\":\"white\",\"linecolor\":\"white\",\"ticks\":\"\",\"title\":{\"standoff\":15},\"zerolinecolor\":\"white\",\"automargin\":true,\"zerolinewidth\":2},\"yaxis\":{\"gridcolor\":\"white\",\"linecolor\":\"white\",\"ticks\":\"\",\"title\":{\"standoff\":15},\"zerolinecolor\":\"white\",\"automargin\":true,\"zerolinewidth\":2},\"scene\":{\"xaxis\":{\"backgroundcolor\":\"#E5ECF6\",\"gridcolor\":\"white\",\"linecolor\":\"white\",\"showbackground\":true,\"ticks\":\"\",\"zerolinecolor\":\"white\",\"gridwidth\":2},\"yaxis\":{\"backgroundcolor\":\"#E5ECF6\",\"gridcolor\":\"white\",\"linecolor\":\"white\",\"showbackground\":true,\"ticks\":\"\",\"zerolinecolor\":\"white\",\"gridwidth\":2},\"zaxis\":{\"backgroundcolor\":\"#E5ECF6\",\"gridcolor\":\"white\",\"linecolor\":\"white\",\"showbackground\":true,\"ticks\":\"\",\"zerolinecolor\":\"white\",\"gridwidth\":2}},\"shapedefaults\":{\"line\":{\"color\":\"#2a3f5f\"}},\"annotationdefaults\":{\"arrowcolor\":\"#2a3f5f\",\"arrowhead\":0,\"arrowwidth\":1},\"geo\":{\"bgcolor\":\"white\",\"landcolor\":\"#E5ECF6\",\"subunitcolor\":\"white\",\"showland\":true,\"showlakes\":true,\"lakecolor\":\"white\"},\"title\":{\"x\":0.05},\"mapbox\":{\"style\":\"light\"}}}},                        {\"responsive\": true}                    ).then(function(){\n",
       "                            \n",
       "var gd = document.getElementById('186f4e10-a814-4289-a0a6-626d2151bcc1');\n",
       "var x = new MutationObserver(function (mutations, observer) {{\n",
       "        var display = window.getComputedStyle(gd).display;\n",
       "        if (!display || display === 'none') {{\n",
       "            console.log([gd, 'removed!']);\n",
       "            Plotly.purge(gd);\n",
       "            observer.disconnect();\n",
       "        }}\n",
       "}});\n",
       "\n",
       "// Listen for the removal of the full notebook cells\n",
       "var notebookContainer = gd.closest('#notebook-container');\n",
       "if (notebookContainer) {{\n",
       "    x.observe(notebookContainer, {childList: true});\n",
       "}}\n",
       "\n",
       "// Listen for the clearing of the current output cell\n",
       "var outputEl = gd.closest('.output');\n",
       "if (outputEl) {{\n",
       "    x.observe(outputEl, {childList: true});\n",
       "}}\n",
       "\n",
       "                        })                };                });            </script>        </div>"
      ]
     },
     "metadata": {},
     "output_type": "display_data"
    }
   ],
   "source": [
    "\n",
    "fig = go.Figure(data=\n",
    "    go.Parcoords(\n",
    "        line = dict(color = feasibilities ['battery_capacity_for_trip (kwh)'],\n",
    "                   colorscale = 'greens',\n",
    "                   showscale = True,\n",
    "                   cmin = 250,\n",
    "                   cmax = 900),\n",
    "        dimensions = list([\n",
    "            dict(range = [0.35,0.65],\n",
    "                 # constraintrange = [2,3.5],\n",
    "                 label = \"LF (%)\", values = feasibilities['load_factor_tw_ave_ARA_smallsize'],\n",
    "                 tickvals = [0.65,0.61,0.58,0.55,0.52,0.49,0.45,0.35],\n",
    "                 ticktext = ['','61', '58','55','52','49','45','']),         \n",
    "            dict(range = [450,600],\n",
    "                 # constraintrange = [2,3.5],\n",
    "                 label = \"ICE 1, MCR (kW)\", values = feasibilities['MCR_smallsize_1'],\n",
    "                 tickvals = [450,500,550,600],\n",
    "                 ticktext = ['450','500', '550','600']), \n",
    "            dict(range = [250,400],\n",
    "                 # constraintrange = [2,3.5],\n",
    "                 label = \"ICE 2, MCR (kW)\", values = feasibilities['MCR_smallsize_2'],\n",
    "                 tickvals = [250,300,350,400],\n",
    "                 ticktext = ['250','300', '350','400']),\n",
    "            dict(range = [300,1000],\n",
    "                 # constraintrange = [2,3.5],\n",
    "                 label = \"BAT (kWh)\", values = feasibilities['battery_capacity_for_trip (kwh)'],\n",
    "                 tickvals = [1000,850,768,686,605,523,441,359,300],\n",
    "                 ticktext = ['','850', '768','686', '605', '523','441','359','']), \n",
    "           \n",
    "        ]),\n",
    "        unselected = dict(line = dict(color = 'gainsboro', opacity = 0.5))\n",
    "    ) \n",
    ")\n",
    "\n",
    "fig.show()"
   ]
  },
  {
   "cell_type": "code",
   "execution_count": 15,
   "id": "71589f7f-bf5b-4d6b-8a2f-5b5788643689",
   "metadata": {},
   "outputs": [],
   "source": [
    "# If you need to save this file as a standalone html file:\n",
    "fig.write_html(\"C:/interactiveCharts/right_engine_size_selection_ARAtanker_2_smallICE_battery.html\")"
   ]
  },
  {
   "cell_type": "code",
   "execution_count": null,
   "id": "bf6a2ea0-67d0-4147-8bba-ee69a87d88b1",
   "metadata": {},
   "outputs": [],
   "source": []
  }
 ],
 "metadata": {
  "kernelspec": {
   "display_name": "Python 3 (ipykernel)",
   "language": "python",
   "name": "python3"
  },
  "language_info": {
   "codemirror_mode": {
    "name": "ipython",
    "version": 3
   },
   "file_extension": ".py",
   "mimetype": "text/x-python",
   "name": "python",
   "nbconvert_exporter": "python",
   "pygments_lexer": "ipython3",
   "version": "3.9.10"
  }
 },
 "nbformat": 4,
 "nbformat_minor": 5
}
