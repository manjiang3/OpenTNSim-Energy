{
 "cells": [
  {
   "cell_type": "code",
   "execution_count": 1,
   "id": "cd768261-58e0-45a8-9e97-fba7cad61f76",
   "metadata": {},
   "outputs": [],
   "source": [
    "import math"
   ]
  },
  {
   "cell_type": "code",
   "execution_count": 2,
   "id": "31ab338a-2106-40a1-adfa-fda8a3a42dc0",
   "metadata": {},
   "outputs": [
    {
     "data": {
      "text/plain": [
       "[0.7142857142857143,\n",
       " 0.5102040816326532,\n",
       " 0.36443148688046656,\n",
       " 0.260308204914619,\n",
       " 0.18593443208187072,\n",
       " 0.13281030862990764,\n",
       " 0.09486450616421976,\n",
       " 0.06776036154587126,\n",
       " 0.0484002582470509,\n",
       " 0.03457161303360779]"
      ]
     },
     "execution_count": 2,
     "metadata": {},
     "output_type": "execute_result"
    }
   ],
   "source": [
    "yrs=[1,2,3,4,5,6,7,8,9,10,11,12,13,14,15,16,17,18,19,20]\n",
    "yrs=[1,2,3,4,5,6,7,8,9,10]\n",
    "b=[]\n",
    "for i in yrs:\n",
    "    b.append(1/math.pow(1.4,i))\n",
    "b"
   ]
  },
  {
   "cell_type": "code",
   "execution_count": 3,
   "id": "d3ea4554-c47a-4218-8517-4a57f20d1256",
   "metadata": {},
   "outputs": [
    {
     "data": {
      "text/plain": [
       "2.413570967415981"
      ]
     },
     "execution_count": 3,
     "metadata": {},
     "output_type": "execute_result"
    }
   ],
   "source": [
    "c=sum(b)\n",
    "c"
   ]
  },
  {
   "cell_type": "code",
   "execution_count": null,
   "id": "8f755200-b6c2-46bf-8131-e323c55ad69c",
   "metadata": {},
   "outputs": [],
   "source": []
  }
 ],
 "metadata": {
  "kernelspec": {
   "display_name": "Python 3 (ipykernel)",
   "language": "python",
   "name": "python3"
  },
  "language_info": {
   "codemirror_mode": {
    "name": "ipython",
    "version": 3
   },
   "file_extension": ".py",
   "mimetype": "text/x-python",
   "name": "python",
   "nbconvert_exporter": "python",
   "pygments_lexer": "ipython3",
   "version": "3.9.10"
  }
 },
 "nbformat": 4,
 "nbformat_minor": 5
}
