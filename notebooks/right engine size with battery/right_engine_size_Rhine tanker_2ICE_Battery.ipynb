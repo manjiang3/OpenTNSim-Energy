{
 "cells": [
  {
   "cell_type": "code",
   "execution_count": 1,
   "id": "485dc3d0-4e7f-4c00-a13c-3087e851f284",
   "metadata": {},
   "outputs": [],
   "source": [
    "\n",
    "# spatial libraries\n",
    "import shapely.geometry\n",
    "import pyproj\n",
    "\n",
    "# package(s) for data handling\n",
    "import numpy as np\n",
    "import matplotlib.pyplot as plt\n",
    "import requests\n",
    "import plotly.express as px\n",
    "import pandas as pd\n",
    "pd.options.display.max_rows = None\n",
    "import plotly.graph_objects as go\n",
    "\n",
    "import functools\n",
    "import itertools\n",
    "import warnings\n",
    "warnings.filterwarnings('ignore')\n",
    "import sys\n",
    "sys.tracebacklimit=0\n",
    "# package(s) related to time, space and id\n",
    "import logging\n",
    "import datetime, time\n",
    "import platform\n",
    "\n",
    "# package(s) related to the simulation\n",
    "import simpy\n",
    "import pandas as pd\n",
    "\n",
    "# spatial libraries \n",
    "import pyproj\n",
    "import shapely.geometry\n",
    "from simplekml import Kml, Style\n",
    "\n",
    "# package(s) for data handling\n",
    "\n",
    "import scipy.optimize\n",
    "import matplotlib.pyplot as plt\n",
    "from matplotlib.ticker import StrMethodFormatter\n",
    "import tqdm\n",
    "\n",
    "# Used for mathematical functions\n",
    "import math             \n",
    "\n",
    "import plotly.express as px\n",
    "from plotly.subplots import make_subplots\n",
    "\n",
    "#logging.basicConfig(level=logging.DEBUG) #turn on all the debug messages\n",
    "#logging.basicConfig(level=logging.INFO)# turn off all the debug messages\n",
    "\n",
    "logger = logging.getLogger('notebook')\n",
    "\n",
    "# Used for making the graph\n",
    "import networkx as nx\n",
    "\n",
    "# new OpenTNSim module\n",
    "import powertrain"
   ]
  },
  {
   "cell_type": "code",
   "execution_count": null,
   "id": "8ccfdc47-b17d-4e37-a495-f8802fdd64ea",
   "metadata": {},
   "outputs": [],
   "source": []
  },
  {
   "cell_type": "code",
   "execution_count": 2,
   "id": "ac913490-080d-4850-b24b-6b1124c05539",
   "metadata": {},
   "outputs": [],
   "source": [
    "# power_applied = [86,147,208,270,331,392,453,515,576,637,698,760,821,882,943,1005,1066] # exclude stationary\n",
    "# power_applied = [86*0.5,147*0.5,208*0.5,270*0.5,331*0.5,392*0.5,453*0.5,515*0.5,576*0.5,637*0.5,698*0.5,760*0.5,821*0.5,882*0.5,943*0.5,1005*0.5,1066*0.5]\n",
    "MCR_smallsize_1 = [550,600,650,700,750,800] \n",
    "MCR_smallsize_2 = [400,450,500,550,600,650]                                                                                    \n",
    "\n",
    "# time_percentage = [0.046,0.059,0.074,0.067,0.093,0.117,0.118,0.067,0.058,0.04,0.03,0.027,0.013,0.007,0.004,0.004,0.002] # exclude stationary\n",
    "MCR_oversize = [1225]\n",
    "\n",
    "peaktime_percentage = [0.07]\n",
    "peakpower_load_oversize = [0.92] #Rhine_tanker ave\n",
    "\n",
    "stationarytime_percentage = [0.144]\n",
    "stationarypower_load_oversize = [0.025] #Rhine_tanker ave\n",
    "\n",
    "trip_total_time_hr = [134] # Rhine tanker, RTD-Karlsruhe\n",
    "\n"
   ]
  },
  {
   "cell_type": "code",
   "execution_count": 3,
   "id": "618d0fff-d68a-4dcf-ad8b-86dc82316bdb",
   "metadata": {
    "tags": []
   },
   "outputs": [
    {
     "data": {
      "text/html": [
       "<div>\n",
       "<style scoped>\n",
       "    .dataframe tbody tr th:only-of-type {\n",
       "        vertical-align: middle;\n",
       "    }\n",
       "\n",
       "    .dataframe tbody tr th {\n",
       "        vertical-align: top;\n",
       "    }\n",
       "\n",
       "    .dataframe thead th {\n",
       "        text-align: right;\n",
       "    }\n",
       "</style>\n",
       "<table border=\"1\" class=\"dataframe\">\n",
       "  <thead>\n",
       "    <tr style=\"text-align: right;\">\n",
       "      <th></th>\n",
       "      <th>MCR_smallsize_1</th>\n",
       "      <th>MCR_smallsize_2</th>\n",
       "      <th>trip_total_time_hr</th>\n",
       "      <th>peaktime_percentage</th>\n",
       "      <th>stationarytime_percentage</th>\n",
       "      <th>MCR_oversize</th>\n",
       "      <th>peakpower_load_oversize</th>\n",
       "      <th>stationarypower_load_oversize</th>\n",
       "    </tr>\n",
       "  </thead>\n",
       "  <tbody>\n",
       "    <tr>\n",
       "      <th>0</th>\n",
       "      <td>550</td>\n",
       "      <td>400</td>\n",
       "      <td>134</td>\n",
       "      <td>0.07</td>\n",
       "      <td>0.144</td>\n",
       "      <td>1225</td>\n",
       "      <td>0.92</td>\n",
       "      <td>0.025</td>\n",
       "    </tr>\n",
       "    <tr>\n",
       "      <th>1</th>\n",
       "      <td>550</td>\n",
       "      <td>450</td>\n",
       "      <td>134</td>\n",
       "      <td>0.07</td>\n",
       "      <td>0.144</td>\n",
       "      <td>1225</td>\n",
       "      <td>0.92</td>\n",
       "      <td>0.025</td>\n",
       "    </tr>\n",
       "    <tr>\n",
       "      <th>2</th>\n",
       "      <td>550</td>\n",
       "      <td>500</td>\n",
       "      <td>134</td>\n",
       "      <td>0.07</td>\n",
       "      <td>0.144</td>\n",
       "      <td>1225</td>\n",
       "      <td>0.92</td>\n",
       "      <td>0.025</td>\n",
       "    </tr>\n",
       "    <tr>\n",
       "      <th>3</th>\n",
       "      <td>550</td>\n",
       "      <td>550</td>\n",
       "      <td>134</td>\n",
       "      <td>0.07</td>\n",
       "      <td>0.144</td>\n",
       "      <td>1225</td>\n",
       "      <td>0.92</td>\n",
       "      <td>0.025</td>\n",
       "    </tr>\n",
       "    <tr>\n",
       "      <th>4</th>\n",
       "      <td>550</td>\n",
       "      <td>600</td>\n",
       "      <td>134</td>\n",
       "      <td>0.07</td>\n",
       "      <td>0.144</td>\n",
       "      <td>1225</td>\n",
       "      <td>0.92</td>\n",
       "      <td>0.025</td>\n",
       "    </tr>\n",
       "    <tr>\n",
       "      <th>5</th>\n",
       "      <td>550</td>\n",
       "      <td>650</td>\n",
       "      <td>134</td>\n",
       "      <td>0.07</td>\n",
       "      <td>0.144</td>\n",
       "      <td>1225</td>\n",
       "      <td>0.92</td>\n",
       "      <td>0.025</td>\n",
       "    </tr>\n",
       "    <tr>\n",
       "      <th>6</th>\n",
       "      <td>600</td>\n",
       "      <td>400</td>\n",
       "      <td>134</td>\n",
       "      <td>0.07</td>\n",
       "      <td>0.144</td>\n",
       "      <td>1225</td>\n",
       "      <td>0.92</td>\n",
       "      <td>0.025</td>\n",
       "    </tr>\n",
       "    <tr>\n",
       "      <th>7</th>\n",
       "      <td>600</td>\n",
       "      <td>450</td>\n",
       "      <td>134</td>\n",
       "      <td>0.07</td>\n",
       "      <td>0.144</td>\n",
       "      <td>1225</td>\n",
       "      <td>0.92</td>\n",
       "      <td>0.025</td>\n",
       "    </tr>\n",
       "    <tr>\n",
       "      <th>8</th>\n",
       "      <td>600</td>\n",
       "      <td>500</td>\n",
       "      <td>134</td>\n",
       "      <td>0.07</td>\n",
       "      <td>0.144</td>\n",
       "      <td>1225</td>\n",
       "      <td>0.92</td>\n",
       "      <td>0.025</td>\n",
       "    </tr>\n",
       "    <tr>\n",
       "      <th>9</th>\n",
       "      <td>600</td>\n",
       "      <td>550</td>\n",
       "      <td>134</td>\n",
       "      <td>0.07</td>\n",
       "      <td>0.144</td>\n",
       "      <td>1225</td>\n",
       "      <td>0.92</td>\n",
       "      <td>0.025</td>\n",
       "    </tr>\n",
       "    <tr>\n",
       "      <th>10</th>\n",
       "      <td>600</td>\n",
       "      <td>600</td>\n",
       "      <td>134</td>\n",
       "      <td>0.07</td>\n",
       "      <td>0.144</td>\n",
       "      <td>1225</td>\n",
       "      <td>0.92</td>\n",
       "      <td>0.025</td>\n",
       "    </tr>\n",
       "    <tr>\n",
       "      <th>11</th>\n",
       "      <td>600</td>\n",
       "      <td>650</td>\n",
       "      <td>134</td>\n",
       "      <td>0.07</td>\n",
       "      <td>0.144</td>\n",
       "      <td>1225</td>\n",
       "      <td>0.92</td>\n",
       "      <td>0.025</td>\n",
       "    </tr>\n",
       "    <tr>\n",
       "      <th>12</th>\n",
       "      <td>650</td>\n",
       "      <td>400</td>\n",
       "      <td>134</td>\n",
       "      <td>0.07</td>\n",
       "      <td>0.144</td>\n",
       "      <td>1225</td>\n",
       "      <td>0.92</td>\n",
       "      <td>0.025</td>\n",
       "    </tr>\n",
       "    <tr>\n",
       "      <th>13</th>\n",
       "      <td>650</td>\n",
       "      <td>450</td>\n",
       "      <td>134</td>\n",
       "      <td>0.07</td>\n",
       "      <td>0.144</td>\n",
       "      <td>1225</td>\n",
       "      <td>0.92</td>\n",
       "      <td>0.025</td>\n",
       "    </tr>\n",
       "    <tr>\n",
       "      <th>14</th>\n",
       "      <td>650</td>\n",
       "      <td>500</td>\n",
       "      <td>134</td>\n",
       "      <td>0.07</td>\n",
       "      <td>0.144</td>\n",
       "      <td>1225</td>\n",
       "      <td>0.92</td>\n",
       "      <td>0.025</td>\n",
       "    </tr>\n",
       "    <tr>\n",
       "      <th>15</th>\n",
       "      <td>650</td>\n",
       "      <td>550</td>\n",
       "      <td>134</td>\n",
       "      <td>0.07</td>\n",
       "      <td>0.144</td>\n",
       "      <td>1225</td>\n",
       "      <td>0.92</td>\n",
       "      <td>0.025</td>\n",
       "    </tr>\n",
       "    <tr>\n",
       "      <th>16</th>\n",
       "      <td>650</td>\n",
       "      <td>600</td>\n",
       "      <td>134</td>\n",
       "      <td>0.07</td>\n",
       "      <td>0.144</td>\n",
       "      <td>1225</td>\n",
       "      <td>0.92</td>\n",
       "      <td>0.025</td>\n",
       "    </tr>\n",
       "    <tr>\n",
       "      <th>17</th>\n",
       "      <td>650</td>\n",
       "      <td>650</td>\n",
       "      <td>134</td>\n",
       "      <td>0.07</td>\n",
       "      <td>0.144</td>\n",
       "      <td>1225</td>\n",
       "      <td>0.92</td>\n",
       "      <td>0.025</td>\n",
       "    </tr>\n",
       "    <tr>\n",
       "      <th>18</th>\n",
       "      <td>700</td>\n",
       "      <td>400</td>\n",
       "      <td>134</td>\n",
       "      <td>0.07</td>\n",
       "      <td>0.144</td>\n",
       "      <td>1225</td>\n",
       "      <td>0.92</td>\n",
       "      <td>0.025</td>\n",
       "    </tr>\n",
       "    <tr>\n",
       "      <th>19</th>\n",
       "      <td>700</td>\n",
       "      <td>450</td>\n",
       "      <td>134</td>\n",
       "      <td>0.07</td>\n",
       "      <td>0.144</td>\n",
       "      <td>1225</td>\n",
       "      <td>0.92</td>\n",
       "      <td>0.025</td>\n",
       "    </tr>\n",
       "    <tr>\n",
       "      <th>20</th>\n",
       "      <td>700</td>\n",
       "      <td>500</td>\n",
       "      <td>134</td>\n",
       "      <td>0.07</td>\n",
       "      <td>0.144</td>\n",
       "      <td>1225</td>\n",
       "      <td>0.92</td>\n",
       "      <td>0.025</td>\n",
       "    </tr>\n",
       "    <tr>\n",
       "      <th>21</th>\n",
       "      <td>700</td>\n",
       "      <td>550</td>\n",
       "      <td>134</td>\n",
       "      <td>0.07</td>\n",
       "      <td>0.144</td>\n",
       "      <td>1225</td>\n",
       "      <td>0.92</td>\n",
       "      <td>0.025</td>\n",
       "    </tr>\n",
       "    <tr>\n",
       "      <th>22</th>\n",
       "      <td>700</td>\n",
       "      <td>600</td>\n",
       "      <td>134</td>\n",
       "      <td>0.07</td>\n",
       "      <td>0.144</td>\n",
       "      <td>1225</td>\n",
       "      <td>0.92</td>\n",
       "      <td>0.025</td>\n",
       "    </tr>\n",
       "    <tr>\n",
       "      <th>23</th>\n",
       "      <td>700</td>\n",
       "      <td>650</td>\n",
       "      <td>134</td>\n",
       "      <td>0.07</td>\n",
       "      <td>0.144</td>\n",
       "      <td>1225</td>\n",
       "      <td>0.92</td>\n",
       "      <td>0.025</td>\n",
       "    </tr>\n",
       "    <tr>\n",
       "      <th>24</th>\n",
       "      <td>750</td>\n",
       "      <td>400</td>\n",
       "      <td>134</td>\n",
       "      <td>0.07</td>\n",
       "      <td>0.144</td>\n",
       "      <td>1225</td>\n",
       "      <td>0.92</td>\n",
       "      <td>0.025</td>\n",
       "    </tr>\n",
       "    <tr>\n",
       "      <th>25</th>\n",
       "      <td>750</td>\n",
       "      <td>450</td>\n",
       "      <td>134</td>\n",
       "      <td>0.07</td>\n",
       "      <td>0.144</td>\n",
       "      <td>1225</td>\n",
       "      <td>0.92</td>\n",
       "      <td>0.025</td>\n",
       "    </tr>\n",
       "    <tr>\n",
       "      <th>26</th>\n",
       "      <td>750</td>\n",
       "      <td>500</td>\n",
       "      <td>134</td>\n",
       "      <td>0.07</td>\n",
       "      <td>0.144</td>\n",
       "      <td>1225</td>\n",
       "      <td>0.92</td>\n",
       "      <td>0.025</td>\n",
       "    </tr>\n",
       "    <tr>\n",
       "      <th>27</th>\n",
       "      <td>750</td>\n",
       "      <td>550</td>\n",
       "      <td>134</td>\n",
       "      <td>0.07</td>\n",
       "      <td>0.144</td>\n",
       "      <td>1225</td>\n",
       "      <td>0.92</td>\n",
       "      <td>0.025</td>\n",
       "    </tr>\n",
       "    <tr>\n",
       "      <th>28</th>\n",
       "      <td>750</td>\n",
       "      <td>600</td>\n",
       "      <td>134</td>\n",
       "      <td>0.07</td>\n",
       "      <td>0.144</td>\n",
       "      <td>1225</td>\n",
       "      <td>0.92</td>\n",
       "      <td>0.025</td>\n",
       "    </tr>\n",
       "    <tr>\n",
       "      <th>29</th>\n",
       "      <td>750</td>\n",
       "      <td>650</td>\n",
       "      <td>134</td>\n",
       "      <td>0.07</td>\n",
       "      <td>0.144</td>\n",
       "      <td>1225</td>\n",
       "      <td>0.92</td>\n",
       "      <td>0.025</td>\n",
       "    </tr>\n",
       "    <tr>\n",
       "      <th>30</th>\n",
       "      <td>800</td>\n",
       "      <td>400</td>\n",
       "      <td>134</td>\n",
       "      <td>0.07</td>\n",
       "      <td>0.144</td>\n",
       "      <td>1225</td>\n",
       "      <td>0.92</td>\n",
       "      <td>0.025</td>\n",
       "    </tr>\n",
       "    <tr>\n",
       "      <th>31</th>\n",
       "      <td>800</td>\n",
       "      <td>450</td>\n",
       "      <td>134</td>\n",
       "      <td>0.07</td>\n",
       "      <td>0.144</td>\n",
       "      <td>1225</td>\n",
       "      <td>0.92</td>\n",
       "      <td>0.025</td>\n",
       "    </tr>\n",
       "    <tr>\n",
       "      <th>32</th>\n",
       "      <td>800</td>\n",
       "      <td>500</td>\n",
       "      <td>134</td>\n",
       "      <td>0.07</td>\n",
       "      <td>0.144</td>\n",
       "      <td>1225</td>\n",
       "      <td>0.92</td>\n",
       "      <td>0.025</td>\n",
       "    </tr>\n",
       "    <tr>\n",
       "      <th>33</th>\n",
       "      <td>800</td>\n",
       "      <td>550</td>\n",
       "      <td>134</td>\n",
       "      <td>0.07</td>\n",
       "      <td>0.144</td>\n",
       "      <td>1225</td>\n",
       "      <td>0.92</td>\n",
       "      <td>0.025</td>\n",
       "    </tr>\n",
       "    <tr>\n",
       "      <th>34</th>\n",
       "      <td>800</td>\n",
       "      <td>600</td>\n",
       "      <td>134</td>\n",
       "      <td>0.07</td>\n",
       "      <td>0.144</td>\n",
       "      <td>1225</td>\n",
       "      <td>0.92</td>\n",
       "      <td>0.025</td>\n",
       "    </tr>\n",
       "    <tr>\n",
       "      <th>35</th>\n",
       "      <td>800</td>\n",
       "      <td>650</td>\n",
       "      <td>134</td>\n",
       "      <td>0.07</td>\n",
       "      <td>0.144</td>\n",
       "      <td>1225</td>\n",
       "      <td>0.92</td>\n",
       "      <td>0.025</td>\n",
       "    </tr>\n",
       "  </tbody>\n",
       "</table>\n",
       "</div>"
      ],
      "text/plain": [
       "    MCR_smallsize_1  MCR_smallsize_2  trip_total_time_hr  peaktime_percentage  \\\n",
       "0               550              400                 134                 0.07   \n",
       "1               550              450                 134                 0.07   \n",
       "2               550              500                 134                 0.07   \n",
       "3               550              550                 134                 0.07   \n",
       "4               550              600                 134                 0.07   \n",
       "5               550              650                 134                 0.07   \n",
       "6               600              400                 134                 0.07   \n",
       "7               600              450                 134                 0.07   \n",
       "8               600              500                 134                 0.07   \n",
       "9               600              550                 134                 0.07   \n",
       "10              600              600                 134                 0.07   \n",
       "11              600              650                 134                 0.07   \n",
       "12              650              400                 134                 0.07   \n",
       "13              650              450                 134                 0.07   \n",
       "14              650              500                 134                 0.07   \n",
       "15              650              550                 134                 0.07   \n",
       "16              650              600                 134                 0.07   \n",
       "17              650              650                 134                 0.07   \n",
       "18              700              400                 134                 0.07   \n",
       "19              700              450                 134                 0.07   \n",
       "20              700              500                 134                 0.07   \n",
       "21              700              550                 134                 0.07   \n",
       "22              700              600                 134                 0.07   \n",
       "23              700              650                 134                 0.07   \n",
       "24              750              400                 134                 0.07   \n",
       "25              750              450                 134                 0.07   \n",
       "26              750              500                 134                 0.07   \n",
       "27              750              550                 134                 0.07   \n",
       "28              750              600                 134                 0.07   \n",
       "29              750              650                 134                 0.07   \n",
       "30              800              400                 134                 0.07   \n",
       "31              800              450                 134                 0.07   \n",
       "32              800              500                 134                 0.07   \n",
       "33              800              550                 134                 0.07   \n",
       "34              800              600                 134                 0.07   \n",
       "35              800              650                 134                 0.07   \n",
       "\n",
       "    stationarytime_percentage  MCR_oversize  peakpower_load_oversize  \\\n",
       "0                       0.144          1225                     0.92   \n",
       "1                       0.144          1225                     0.92   \n",
       "2                       0.144          1225                     0.92   \n",
       "3                       0.144          1225                     0.92   \n",
       "4                       0.144          1225                     0.92   \n",
       "5                       0.144          1225                     0.92   \n",
       "6                       0.144          1225                     0.92   \n",
       "7                       0.144          1225                     0.92   \n",
       "8                       0.144          1225                     0.92   \n",
       "9                       0.144          1225                     0.92   \n",
       "10                      0.144          1225                     0.92   \n",
       "11                      0.144          1225                     0.92   \n",
       "12                      0.144          1225                     0.92   \n",
       "13                      0.144          1225                     0.92   \n",
       "14                      0.144          1225                     0.92   \n",
       "15                      0.144          1225                     0.92   \n",
       "16                      0.144          1225                     0.92   \n",
       "17                      0.144          1225                     0.92   \n",
       "18                      0.144          1225                     0.92   \n",
       "19                      0.144          1225                     0.92   \n",
       "20                      0.144          1225                     0.92   \n",
       "21                      0.144          1225                     0.92   \n",
       "22                      0.144          1225                     0.92   \n",
       "23                      0.144          1225                     0.92   \n",
       "24                      0.144          1225                     0.92   \n",
       "25                      0.144          1225                     0.92   \n",
       "26                      0.144          1225                     0.92   \n",
       "27                      0.144          1225                     0.92   \n",
       "28                      0.144          1225                     0.92   \n",
       "29                      0.144          1225                     0.92   \n",
       "30                      0.144          1225                     0.92   \n",
       "31                      0.144          1225                     0.92   \n",
       "32                      0.144          1225                     0.92   \n",
       "33                      0.144          1225                     0.92   \n",
       "34                      0.144          1225                     0.92   \n",
       "35                      0.144          1225                     0.92   \n",
       "\n",
       "    stationarypower_load_oversize  \n",
       "0                           0.025  \n",
       "1                           0.025  \n",
       "2                           0.025  \n",
       "3                           0.025  \n",
       "4                           0.025  \n",
       "5                           0.025  \n",
       "6                           0.025  \n",
       "7                           0.025  \n",
       "8                           0.025  \n",
       "9                           0.025  \n",
       "10                          0.025  \n",
       "11                          0.025  \n",
       "12                          0.025  \n",
       "13                          0.025  \n",
       "14                          0.025  \n",
       "15                          0.025  \n",
       "16                          0.025  \n",
       "17                          0.025  \n",
       "18                          0.025  \n",
       "19                          0.025  \n",
       "20                          0.025  \n",
       "21                          0.025  \n",
       "22                          0.025  \n",
       "23                          0.025  \n",
       "24                          0.025  \n",
       "25                          0.025  \n",
       "26                          0.025  \n",
       "27                          0.025  \n",
       "28                          0.025  \n",
       "29                          0.025  \n",
       "30                          0.025  \n",
       "31                          0.025  \n",
       "32                          0.025  \n",
       "33                          0.025  \n",
       "34                          0.025  \n",
       "35                          0.025  "
      ]
     },
     "execution_count": 3,
     "metadata": {},
     "output_type": "execute_result"
    }
   ],
   "source": [
    "# prepare the work to be done by creating a list of all combinations\n",
    "work = list(itertools.product(\n",
    "        MCR_smallsize_1, \n",
    "        MCR_smallsize_2,\n",
    "        trip_total_time_hr,\n",
    "        peaktime_percentage,\n",
    "        stationarytime_percentage,\n",
    "        MCR_oversize,\n",
    "        peakpower_load_oversize,\n",
    "        stationarypower_load_oversize))\n",
    "\n",
    "# prepare a list of dictionaries for pandas\n",
    "rows = []\n",
    "for item in work:\n",
    "    row = {\"MCR_smallsize_1\":item[0],\"MCR_smallsize_2\":item[1], \n",
    "           \"trip_total_time_hr\":item[2],\"peaktime_percentage\":item[3], \"stationarytime_percentage\": item[4], \n",
    "           \"MCR_oversize\":item[5], \"peakpower_load_oversize\": item[6], \"stationarypower_load_oversize\":item[7]\n",
    "        }\n",
    "    rows.append(row)\n",
    "\n",
    "    # these are all the simulations that we want to run\n",
    "\n",
    "# convert them to dataframe, so that we can apply a function and monitor progress\n",
    "work_df = pd.DataFrame(rows)\n",
    "\n",
    "work_df"
   ]
  },
  {
   "cell_type": "code",
   "execution_count": 4,
   "id": "c87b756a-cbe3-4137-8965-a692f34b41ed",
   "metadata": {},
   "outputs": [],
   "source": [
    "feasibilities = []\n",
    "\n",
    "for i, row in tqdm.tqdm(work_df.iterrows(),disable=True):\n",
    "\n",
    "\n",
    "    (\n",
    "        battery_capacity_for_trip_kwh, \n",
    "        battery_capacity_for_peakpower_kwh,                \n",
    "        load_factor_tw_ave_Rhine_smallsize\n",
    "    ) = powertrain.calculate_battery_capacity_forRhine2smallICE(\n",
    "        \n",
    "        peakpower_load_oversize = row['peakpower_load_oversize'],\n",
    "        stationarypower_load_oversize = row['stationarypower_load_oversize'],\n",
    "        MCR_oversize = row['MCR_oversize'],                                                                                \n",
    "        peaktime_percentage = row['peaktime_percentage'], \n",
    "        stationarytime_percentage = row['stationarytime_percentage'], \n",
    "        trip_total_time_hr = row['trip_total_time_hr'],                                                                                    \n",
    "        MCR_smallsize_1 = row['MCR_smallsize_1'], \n",
    "        MCR_smallsize_2 = row['MCR_smallsize_2'],        \n",
    "        )    \n",
    "\n",
    "    \n",
    "    feasibility ={}\n",
    "    feasibility.update(row)\n",
    "    feasibility['battery_capacity_for_trip (kwh)'] = battery_capacity_for_trip_kwh #\n",
    "    feasibility['battery_capacity_for_peakpower (kwh)'] = battery_capacity_for_peakpower_kwh\n",
    "    feasibility['load_factor_tw_ave_Rhine_smallsize'] = load_factor_tw_ave_Rhine_smallsize\n",
    "    # feasibility['load_factor_tw_ave_ARA_smallsize_2'] = load_factor_tw_ave_ARA_smallsize_2\n",
    "\n",
    "    \n",
    "    feasibilities.append(feasibility)"
   ]
  },
  {
   "cell_type": "code",
   "execution_count": 5,
   "id": "61f77dc4-326a-45f2-9a14-a422a1bf739b",
   "metadata": {
    "tags": []
   },
   "outputs": [
    {
     "data": {
      "text/html": [
       "<div>\n",
       "<style scoped>\n",
       "    .dataframe tbody tr th:only-of-type {\n",
       "        vertical-align: middle;\n",
       "    }\n",
       "\n",
       "    .dataframe tbody tr th {\n",
       "        vertical-align: top;\n",
       "    }\n",
       "\n",
       "    .dataframe thead th {\n",
       "        text-align: right;\n",
       "    }\n",
       "</style>\n",
       "<table border=\"1\" class=\"dataframe\">\n",
       "  <thead>\n",
       "    <tr style=\"text-align: right;\">\n",
       "      <th></th>\n",
       "      <th>load_factor_tw_ave_Rhine_smallsize</th>\n",
       "      <th>MCR_smallsize_1</th>\n",
       "      <th>MCR_smallsize_2</th>\n",
       "      <th>battery_capacity_for_trip (kwh)</th>\n",
       "      <th>battery_capacity_for_peakpower (kwh)</th>\n",
       "    </tr>\n",
       "  </thead>\n",
       "  <tbody>\n",
       "    <tr>\n",
       "      <th>0</th>\n",
       "      <td>0.644073</td>\n",
       "      <td>550.0</td>\n",
       "      <td>400.0</td>\n",
       "      <td>4484.8125</td>\n",
       "      <td>2996.91</td>\n",
       "    </tr>\n",
       "    <tr>\n",
       "      <th>1</th>\n",
       "      <td>0.628038</td>\n",
       "      <td>550.0</td>\n",
       "      <td>450.0</td>\n",
       "      <td>3986.5000</td>\n",
       "      <td>2598.26</td>\n",
       "    </tr>\n",
       "    <tr>\n",
       "      <th>2</th>\n",
       "      <td>0.613531</td>\n",
       "      <td>550.0</td>\n",
       "      <td>500.0</td>\n",
       "      <td>3488.1875</td>\n",
       "      <td>2199.61</td>\n",
       "    </tr>\n",
       "    <tr>\n",
       "      <th>3</th>\n",
       "      <td>0.600343</td>\n",
       "      <td>550.0</td>\n",
       "      <td>550.0</td>\n",
       "      <td>2989.8750</td>\n",
       "      <td>1800.96</td>\n",
       "    </tr>\n",
       "    <tr>\n",
       "      <th>4</th>\n",
       "      <td>0.588301</td>\n",
       "      <td>550.0</td>\n",
       "      <td>600.0</td>\n",
       "      <td>2491.5625</td>\n",
       "      <td>1402.31</td>\n",
       "    </tr>\n",
       "    <tr>\n",
       "      <th>5</th>\n",
       "      <td>0.577263</td>\n",
       "      <td>550.0</td>\n",
       "      <td>650.0</td>\n",
       "      <td>1993.2500</td>\n",
       "      <td>1003.66</td>\n",
       "    </tr>\n",
       "    <tr>\n",
       "      <th>6</th>\n",
       "      <td>0.606048</td>\n",
       "      <td>600.0</td>\n",
       "      <td>400.0</td>\n",
       "      <td>3986.5000</td>\n",
       "      <td>2598.26</td>\n",
       "    </tr>\n",
       "    <tr>\n",
       "      <th>7</th>\n",
       "      <td>0.591541</td>\n",
       "      <td>600.0</td>\n",
       "      <td>450.0</td>\n",
       "      <td>3488.1875</td>\n",
       "      <td>2199.61</td>\n",
       "    </tr>\n",
       "    <tr>\n",
       "      <th>8</th>\n",
       "      <td>0.578352</td>\n",
       "      <td>600.0</td>\n",
       "      <td>500.0</td>\n",
       "      <td>2989.8750</td>\n",
       "      <td>1800.96</td>\n",
       "    </tr>\n",
       "    <tr>\n",
       "      <th>9</th>\n",
       "      <td>0.566311</td>\n",
       "      <td>600.0</td>\n",
       "      <td>550.0</td>\n",
       "      <td>2491.5625</td>\n",
       "      <td>1402.31</td>\n",
       "    </tr>\n",
       "    <tr>\n",
       "      <th>10</th>\n",
       "      <td>0.555272</td>\n",
       "      <td>600.0</td>\n",
       "      <td>600.0</td>\n",
       "      <td>1993.2500</td>\n",
       "      <td>1003.66</td>\n",
       "    </tr>\n",
       "    <tr>\n",
       "      <th>11</th>\n",
       "      <td>0.545117</td>\n",
       "      <td>600.0</td>\n",
       "      <td>650.0</td>\n",
       "      <td>1494.9375</td>\n",
       "      <td>605.01</td>\n",
       "    </tr>\n",
       "    <tr>\n",
       "      <th>12</th>\n",
       "      <td>0.572933</td>\n",
       "      <td>650.0</td>\n",
       "      <td>400.0</td>\n",
       "      <td>3488.1875</td>\n",
       "      <td>2199.61</td>\n",
       "    </tr>\n",
       "    <tr>\n",
       "      <th>13</th>\n",
       "      <td>0.559745</td>\n",
       "      <td>650.0</td>\n",
       "      <td>450.0</td>\n",
       "      <td>2989.8750</td>\n",
       "      <td>1800.96</td>\n",
       "    </tr>\n",
       "    <tr>\n",
       "      <th>14</th>\n",
       "      <td>0.547703</td>\n",
       "      <td>650.0</td>\n",
       "      <td>500.0</td>\n",
       "      <td>2491.5625</td>\n",
       "      <td>1402.31</td>\n",
       "    </tr>\n",
       "    <tr>\n",
       "      <th>15</th>\n",
       "      <td>0.536665</td>\n",
       "      <td>650.0</td>\n",
       "      <td>550.0</td>\n",
       "      <td>1993.2500</td>\n",
       "      <td>1003.66</td>\n",
       "    </tr>\n",
       "    <tr>\n",
       "      <th>16</th>\n",
       "      <td>0.526510</td>\n",
       "      <td>650.0</td>\n",
       "      <td>600.0</td>\n",
       "      <td>1494.9375</td>\n",
       "      <td>605.01</td>\n",
       "    </tr>\n",
       "    <tr>\n",
       "      <th>17</th>\n",
       "      <td>0.517136</td>\n",
       "      <td>650.0</td>\n",
       "      <td>650.0</td>\n",
       "      <td>996.6250</td>\n",
       "      <td>206.36</td>\n",
       "    </tr>\n",
       "    <tr>\n",
       "      <th>18</th>\n",
       "      <td>0.543796</td>\n",
       "      <td>700.0</td>\n",
       "      <td>400.0</td>\n",
       "      <td>2989.8750</td>\n",
       "      <td>1800.96</td>\n",
       "    </tr>\n",
       "    <tr>\n",
       "      <th>19</th>\n",
       "      <td>0.531754</td>\n",
       "      <td>700.0</td>\n",
       "      <td>450.0</td>\n",
       "      <td>2491.5625</td>\n",
       "      <td>1402.31</td>\n",
       "    </tr>\n",
       "    <tr>\n",
       "      <th>20</th>\n",
       "      <td>0.520716</td>\n",
       "      <td>700.0</td>\n",
       "      <td>500.0</td>\n",
       "      <td>1993.2500</td>\n",
       "      <td>1003.66</td>\n",
       "    </tr>\n",
       "    <tr>\n",
       "      <th>21</th>\n",
       "      <td>0.510561</td>\n",
       "      <td>700.0</td>\n",
       "      <td>550.0</td>\n",
       "      <td>1494.9375</td>\n",
       "      <td>605.01</td>\n",
       "    </tr>\n",
       "    <tr>\n",
       "      <th>22</th>\n",
       "      <td>0.501187</td>\n",
       "      <td>700.0</td>\n",
       "      <td>600.0</td>\n",
       "      <td>996.6250</td>\n",
       "      <td>206.36</td>\n",
       "    </tr>\n",
       "    <tr>\n",
       "      <th>24</th>\n",
       "      <td>0.517932</td>\n",
       "      <td>750.0</td>\n",
       "      <td>400.0</td>\n",
       "      <td>2491.5625</td>\n",
       "      <td>1402.31</td>\n",
       "    </tr>\n",
       "    <tr>\n",
       "      <th>25</th>\n",
       "      <td>0.506893</td>\n",
       "      <td>750.0</td>\n",
       "      <td>450.0</td>\n",
       "      <td>1993.2500</td>\n",
       "      <td>1003.66</td>\n",
       "    </tr>\n",
       "    <tr>\n",
       "      <th>26</th>\n",
       "      <td>0.496738</td>\n",
       "      <td>750.0</td>\n",
       "      <td>500.0</td>\n",
       "      <td>1494.9375</td>\n",
       "      <td>605.01</td>\n",
       "    </tr>\n",
       "    <tr>\n",
       "      <th>27</th>\n",
       "      <td>0.487364</td>\n",
       "      <td>750.0</td>\n",
       "      <td>550.0</td>\n",
       "      <td>996.6250</td>\n",
       "      <td>206.36</td>\n",
       "    </tr>\n",
       "    <tr>\n",
       "      <th>30</th>\n",
       "      <td>0.494799</td>\n",
       "      <td>800.0</td>\n",
       "      <td>400.0</td>\n",
       "      <td>1993.2500</td>\n",
       "      <td>1003.66</td>\n",
       "    </tr>\n",
       "    <tr>\n",
       "      <th>31</th>\n",
       "      <td>0.484644</td>\n",
       "      <td>800.0</td>\n",
       "      <td>450.0</td>\n",
       "      <td>1494.9375</td>\n",
       "      <td>605.01</td>\n",
       "    </tr>\n",
       "    <tr>\n",
       "      <th>32</th>\n",
       "      <td>0.475270</td>\n",
       "      <td>800.0</td>\n",
       "      <td>500.0</td>\n",
       "      <td>996.6250</td>\n",
       "      <td>206.36</td>\n",
       "    </tr>\n",
       "  </tbody>\n",
       "</table>\n",
       "</div>"
      ],
      "text/plain": [
       "    load_factor_tw_ave_Rhine_smallsize  MCR_smallsize_1  MCR_smallsize_2  \\\n",
       "0                             0.644073            550.0            400.0   \n",
       "1                             0.628038            550.0            450.0   \n",
       "2                             0.613531            550.0            500.0   \n",
       "3                             0.600343            550.0            550.0   \n",
       "4                             0.588301            550.0            600.0   \n",
       "5                             0.577263            550.0            650.0   \n",
       "6                             0.606048            600.0            400.0   \n",
       "7                             0.591541            600.0            450.0   \n",
       "8                             0.578352            600.0            500.0   \n",
       "9                             0.566311            600.0            550.0   \n",
       "10                            0.555272            600.0            600.0   \n",
       "11                            0.545117            600.0            650.0   \n",
       "12                            0.572933            650.0            400.0   \n",
       "13                            0.559745            650.0            450.0   \n",
       "14                            0.547703            650.0            500.0   \n",
       "15                            0.536665            650.0            550.0   \n",
       "16                            0.526510            650.0            600.0   \n",
       "17                            0.517136            650.0            650.0   \n",
       "18                            0.543796            700.0            400.0   \n",
       "19                            0.531754            700.0            450.0   \n",
       "20                            0.520716            700.0            500.0   \n",
       "21                            0.510561            700.0            550.0   \n",
       "22                            0.501187            700.0            600.0   \n",
       "24                            0.517932            750.0            400.0   \n",
       "25                            0.506893            750.0            450.0   \n",
       "26                            0.496738            750.0            500.0   \n",
       "27                            0.487364            750.0            550.0   \n",
       "30                            0.494799            800.0            400.0   \n",
       "31                            0.484644            800.0            450.0   \n",
       "32                            0.475270            800.0            500.0   \n",
       "\n",
       "    battery_capacity_for_trip (kwh)  battery_capacity_for_peakpower (kwh)  \n",
       "0                         4484.8125                               2996.91  \n",
       "1                         3986.5000                               2598.26  \n",
       "2                         3488.1875                               2199.61  \n",
       "3                         2989.8750                               1800.96  \n",
       "4                         2491.5625                               1402.31  \n",
       "5                         1993.2500                               1003.66  \n",
       "6                         3986.5000                               2598.26  \n",
       "7                         3488.1875                               2199.61  \n",
       "8                         2989.8750                               1800.96  \n",
       "9                         2491.5625                               1402.31  \n",
       "10                        1993.2500                               1003.66  \n",
       "11                        1494.9375                                605.01  \n",
       "12                        3488.1875                               2199.61  \n",
       "13                        2989.8750                               1800.96  \n",
       "14                        2491.5625                               1402.31  \n",
       "15                        1993.2500                               1003.66  \n",
       "16                        1494.9375                                605.01  \n",
       "17                         996.6250                                206.36  \n",
       "18                        2989.8750                               1800.96  \n",
       "19                        2491.5625                               1402.31  \n",
       "20                        1993.2500                               1003.66  \n",
       "21                        1494.9375                                605.01  \n",
       "22                         996.6250                                206.36  \n",
       "24                        2491.5625                               1402.31  \n",
       "25                        1993.2500                               1003.66  \n",
       "26                        1494.9375                                605.01  \n",
       "27                         996.6250                                206.36  \n",
       "30                        1993.2500                               1003.66  \n",
       "31                        1494.9375                                605.01  \n",
       "32                         996.6250                                206.36  "
      ]
     },
     "execution_count": 5,
     "metadata": {},
     "output_type": "execute_result"
    }
   ],
   "source": [
    "feasibilities = pd.DataFrame(feasibilities)\n",
    "first_selected = ['load_factor_tw_ave_Rhine_smallsize','MCR_smallsize_1','MCR_smallsize_2','battery_capacity_for_trip (kwh)','battery_capacity_for_peakpower (kwh)']\n",
    "feasibilities = feasibilities[first_selected]\n",
    "feasibilities = feasibilities[feasibilities['battery_capacity_for_trip (kwh)'] > 0 ] \n",
    "feasibilities = feasibilities[feasibilities['battery_capacity_for_peakpower (kwh)'] > 0] \n",
    "feasibilities = feasibilities[feasibilities['load_factor_tw_ave_Rhine_smallsize'] < 1.01] \n",
    "# feasibilities = feasibilities[feasibilities['load_factor_tw_ave_ARA_smallsize_2'] < 1.01] \n",
    "feasibilities "
   ]
  },
  {
   "cell_type": "markdown",
   "id": "f4c0c6d9-d35f-477a-9494-a20182278054",
   "metadata": {},
   "source": [
    "### ARA tanker right engine sizing scenario of two smaller ICE engines and battery pack"
   ]
  },
  {
   "cell_type": "code",
   "execution_count": 8,
   "id": "9e0d89c6-0706-4406-9294-7accaa07c00e",
   "metadata": {},
   "outputs": [
    {
     "data": {
      "application/vnd.plotly.v1+json": {
       "config": {
        "plotlyServerURL": "https://plot.ly"
       },
       "data": [
        {
         "dimensions": [
          {
           "label": "LF (%)",
           "range": [
            0.35,
            0.7
           ],
           "ticktext": [
            "",
            "47",
            "50",
            "55",
            "60",
            "65",
            ""
           ],
           "tickvals": [
            0.35,
            0.47,
            0.5,
            0.55,
            0.6,
            0.65,
            0.7
           ],
           "values": [
            0.6440728229665073,
            0.6280384545454546,
            0.6135311688311688,
            0.6003427272727272,
            0.5883011067193676,
            0.5772629545454545,
            0.606048,
            0.5915407142857143,
            0.5783522727272727,
            0.5663106521739131,
            0.5552725,
            0.5451174,
            0.5729334065934065,
            0.559744965034965,
            0.5477033444816053,
            0.5366651923076923,
            0.5265100923076922,
            0.5171361538461537,
            0.5437958441558441,
            0.5317542236024845,
            0.5207160714285713,
            0.5105609714285714,
            0.501187032967033,
            0.517931652173913,
            0.5068934999999999,
            0.4967384,
            0.4873644615384616,
            0.49479875000000006,
            0.4846436500000001,
            0.47526971153846165
           ]
          },
          {
           "label": "ICE 1, MCR (kW)",
           "range": [
            550,
            800
           ],
           "ticktext": [
            "550",
            "600",
            "650",
            "700",
            "750",
            "800"
           ],
           "tickvals": [
            550,
            600,
            650,
            700,
            750,
            800
           ],
           "values": [
            550,
            550,
            550,
            550,
            550,
            550,
            600,
            600,
            600,
            600,
            600,
            600,
            650,
            650,
            650,
            650,
            650,
            650,
            700,
            700,
            700,
            700,
            700,
            750,
            750,
            750,
            750,
            800,
            800,
            800
           ]
          },
          {
           "label": "ICE 2, MCR (kW)",
           "range": [
            400,
            650
           ],
           "ticktext": [
            "400",
            "450",
            "500",
            "550",
            "600",
            "650"
           ],
           "tickvals": [
            400,
            450,
            500,
            550,
            600,
            650
           ],
           "values": [
            400,
            450,
            500,
            550,
            600,
            650,
            400,
            450,
            500,
            550,
            600,
            650,
            400,
            450,
            500,
            550,
            600,
            650,
            400,
            450,
            500,
            550,
            600,
            400,
            450,
            500,
            550,
            400,
            450,
            500
           ]
          },
          {
           "label": "BAT (kWh)",
           "range": [
            800,
            5000
           ],
           "ticktext": [
            "",
            "997",
            "1495",
            "1993",
            "2492",
            "2990",
            "3488",
            "3987",
            "4485",
            ""
           ],
           "tickvals": [
            800,
            997,
            1495,
            1993,
            2492,
            2990,
            3488,
            3987,
            4485,
            5000
           ],
           "values": [
            4484.8125,
            3986.499999999999,
            3488.187499999998,
            2989.8749999999986,
            2491.562499999999,
            1993.2499999999998,
            3986.499999999999,
            3488.187499999998,
            2989.8749999999986,
            2491.562499999999,
            1993.2499999999998,
            1494.9375000000002,
            3488.187499999998,
            2989.8749999999986,
            2491.562499999999,
            1993.2499999999998,
            1494.9375000000002,
            996.6249999999983,
            2989.8749999999986,
            2491.562499999999,
            1993.2499999999998,
            1494.9375000000002,
            996.6249999999983,
            2491.562499999999,
            1993.2499999999998,
            1494.9375000000002,
            996.6249999999983,
            1993.2499999999998,
            1494.9375000000002,
            996.6249999999983
           ]
          }
         ],
         "line": {
          "cmax": 4400,
          "cmin": -200,
          "color": [
           4484.8125,
           3986.499999999999,
           3488.187499999998,
           2989.8749999999986,
           2491.562499999999,
           1993.2499999999998,
           3986.499999999999,
           3488.187499999998,
           2989.8749999999986,
           2491.562499999999,
           1993.2499999999998,
           1494.9375000000002,
           3488.187499999998,
           2989.8749999999986,
           2491.562499999999,
           1993.2499999999998,
           1494.9375000000002,
           996.6249999999983,
           2989.8749999999986,
           2491.562499999999,
           1993.2499999999998,
           1494.9375000000002,
           996.6249999999983,
           2491.562499999999,
           1993.2499999999998,
           1494.9375000000002,
           996.6249999999983,
           1993.2499999999998,
           1494.9375000000002,
           996.6249999999983
          ],
          "colorscale": [
           [
            0,
            "rgb(247,252,245)"
           ],
           [
            0.125,
            "rgb(229,245,224)"
           ],
           [
            0.25,
            "rgb(199,233,192)"
           ],
           [
            0.375,
            "rgb(161,217,155)"
           ],
           [
            0.5,
            "rgb(116,196,118)"
           ],
           [
            0.625,
            "rgb(65,171,93)"
           ],
           [
            0.75,
            "rgb(35,139,69)"
           ],
           [
            0.875,
            "rgb(0,109,44)"
           ],
           [
            1,
            "rgb(0,68,27)"
           ]
          ],
          "showscale": true
         },
         "type": "parcoords",
         "unselected": {
          "line": {
           "color": "gainsboro",
           "opacity": 0.5
          }
         }
        }
       ],
       "layout": {
        "autosize": true,
        "template": {
         "data": {
          "bar": [
           {
            "error_x": {
             "color": "#2a3f5f"
            },
            "error_y": {
             "color": "#2a3f5f"
            },
            "marker": {
             "line": {
              "color": "#E5ECF6",
              "width": 0.5
             },
             "pattern": {
              "fillmode": "overlay",
              "size": 10,
              "solidity": 0.2
             }
            },
            "type": "bar"
           }
          ],
          "barpolar": [
           {
            "marker": {
             "line": {
              "color": "#E5ECF6",
              "width": 0.5
             },
             "pattern": {
              "fillmode": "overlay",
              "size": 10,
              "solidity": 0.2
             }
            },
            "type": "barpolar"
           }
          ],
          "carpet": [
           {
            "aaxis": {
             "endlinecolor": "#2a3f5f",
             "gridcolor": "white",
             "linecolor": "white",
             "minorgridcolor": "white",
             "startlinecolor": "#2a3f5f"
            },
            "baxis": {
             "endlinecolor": "#2a3f5f",
             "gridcolor": "white",
             "linecolor": "white",
             "minorgridcolor": "white",
             "startlinecolor": "#2a3f5f"
            },
            "type": "carpet"
           }
          ],
          "choropleth": [
           {
            "colorbar": {
             "outlinewidth": 0,
             "ticks": ""
            },
            "type": "choropleth"
           }
          ],
          "contour": [
           {
            "colorbar": {
             "outlinewidth": 0,
             "ticks": ""
            },
            "colorscale": [
             [
              0,
              "#0d0887"
             ],
             [
              0.1111111111111111,
              "#46039f"
             ],
             [
              0.2222222222222222,
              "#7201a8"
             ],
             [
              0.3333333333333333,
              "#9c179e"
             ],
             [
              0.4444444444444444,
              "#bd3786"
             ],
             [
              0.5555555555555556,
              "#d8576b"
             ],
             [
              0.6666666666666666,
              "#ed7953"
             ],
             [
              0.7777777777777778,
              "#fb9f3a"
             ],
             [
              0.8888888888888888,
              "#fdca26"
             ],
             [
              1,
              "#f0f921"
             ]
            ],
            "type": "contour"
           }
          ],
          "contourcarpet": [
           {
            "colorbar": {
             "outlinewidth": 0,
             "ticks": ""
            },
            "type": "contourcarpet"
           }
          ],
          "heatmap": [
           {
            "colorbar": {
             "outlinewidth": 0,
             "ticks": ""
            },
            "colorscale": [
             [
              0,
              "#0d0887"
             ],
             [
              0.1111111111111111,
              "#46039f"
             ],
             [
              0.2222222222222222,
              "#7201a8"
             ],
             [
              0.3333333333333333,
              "#9c179e"
             ],
             [
              0.4444444444444444,
              "#bd3786"
             ],
             [
              0.5555555555555556,
              "#d8576b"
             ],
             [
              0.6666666666666666,
              "#ed7953"
             ],
             [
              0.7777777777777778,
              "#fb9f3a"
             ],
             [
              0.8888888888888888,
              "#fdca26"
             ],
             [
              1,
              "#f0f921"
             ]
            ],
            "type": "heatmap"
           }
          ],
          "heatmapgl": [
           {
            "colorbar": {
             "outlinewidth": 0,
             "ticks": ""
            },
            "colorscale": [
             [
              0,
              "#0d0887"
             ],
             [
              0.1111111111111111,
              "#46039f"
             ],
             [
              0.2222222222222222,
              "#7201a8"
             ],
             [
              0.3333333333333333,
              "#9c179e"
             ],
             [
              0.4444444444444444,
              "#bd3786"
             ],
             [
              0.5555555555555556,
              "#d8576b"
             ],
             [
              0.6666666666666666,
              "#ed7953"
             ],
             [
              0.7777777777777778,
              "#fb9f3a"
             ],
             [
              0.8888888888888888,
              "#fdca26"
             ],
             [
              1,
              "#f0f921"
             ]
            ],
            "type": "heatmapgl"
           }
          ],
          "histogram": [
           {
            "marker": {
             "pattern": {
              "fillmode": "overlay",
              "size": 10,
              "solidity": 0.2
             }
            },
            "type": "histogram"
           }
          ],
          "histogram2d": [
           {
            "colorbar": {
             "outlinewidth": 0,
             "ticks": ""
            },
            "colorscale": [
             [
              0,
              "#0d0887"
             ],
             [
              0.1111111111111111,
              "#46039f"
             ],
             [
              0.2222222222222222,
              "#7201a8"
             ],
             [
              0.3333333333333333,
              "#9c179e"
             ],
             [
              0.4444444444444444,
              "#bd3786"
             ],
             [
              0.5555555555555556,
              "#d8576b"
             ],
             [
              0.6666666666666666,
              "#ed7953"
             ],
             [
              0.7777777777777778,
              "#fb9f3a"
             ],
             [
              0.8888888888888888,
              "#fdca26"
             ],
             [
              1,
              "#f0f921"
             ]
            ],
            "type": "histogram2d"
           }
          ],
          "histogram2dcontour": [
           {
            "colorbar": {
             "outlinewidth": 0,
             "ticks": ""
            },
            "colorscale": [
             [
              0,
              "#0d0887"
             ],
             [
              0.1111111111111111,
              "#46039f"
             ],
             [
              0.2222222222222222,
              "#7201a8"
             ],
             [
              0.3333333333333333,
              "#9c179e"
             ],
             [
              0.4444444444444444,
              "#bd3786"
             ],
             [
              0.5555555555555556,
              "#d8576b"
             ],
             [
              0.6666666666666666,
              "#ed7953"
             ],
             [
              0.7777777777777778,
              "#fb9f3a"
             ],
             [
              0.8888888888888888,
              "#fdca26"
             ],
             [
              1,
              "#f0f921"
             ]
            ],
            "type": "histogram2dcontour"
           }
          ],
          "mesh3d": [
           {
            "colorbar": {
             "outlinewidth": 0,
             "ticks": ""
            },
            "type": "mesh3d"
           }
          ],
          "parcoords": [
           {
            "line": {
             "colorbar": {
              "outlinewidth": 0,
              "ticks": ""
             }
            },
            "type": "parcoords"
           }
          ],
          "pie": [
           {
            "automargin": true,
            "type": "pie"
           }
          ],
          "scatter": [
           {
            "fillpattern": {
             "fillmode": "overlay",
             "size": 10,
             "solidity": 0.2
            },
            "type": "scatter"
           }
          ],
          "scatter3d": [
           {
            "line": {
             "colorbar": {
              "outlinewidth": 0,
              "ticks": ""
             }
            },
            "marker": {
             "colorbar": {
              "outlinewidth": 0,
              "ticks": ""
             }
            },
            "type": "scatter3d"
           }
          ],
          "scattercarpet": [
           {
            "marker": {
             "colorbar": {
              "outlinewidth": 0,
              "ticks": ""
             }
            },
            "type": "scattercarpet"
           }
          ],
          "scattergeo": [
           {
            "marker": {
             "colorbar": {
              "outlinewidth": 0,
              "ticks": ""
             }
            },
            "type": "scattergeo"
           }
          ],
          "scattergl": [
           {
            "marker": {
             "colorbar": {
              "outlinewidth": 0,
              "ticks": ""
             }
            },
            "type": "scattergl"
           }
          ],
          "scattermapbox": [
           {
            "marker": {
             "colorbar": {
              "outlinewidth": 0,
              "ticks": ""
             }
            },
            "type": "scattermapbox"
           }
          ],
          "scatterpolar": [
           {
            "marker": {
             "colorbar": {
              "outlinewidth": 0,
              "ticks": ""
             }
            },
            "type": "scatterpolar"
           }
          ],
          "scatterpolargl": [
           {
            "marker": {
             "colorbar": {
              "outlinewidth": 0,
              "ticks": ""
             }
            },
            "type": "scatterpolargl"
           }
          ],
          "scatterternary": [
           {
            "marker": {
             "colorbar": {
              "outlinewidth": 0,
              "ticks": ""
             }
            },
            "type": "scatterternary"
           }
          ],
          "surface": [
           {
            "colorbar": {
             "outlinewidth": 0,
             "ticks": ""
            },
            "colorscale": [
             [
              0,
              "#0d0887"
             ],
             [
              0.1111111111111111,
              "#46039f"
             ],
             [
              0.2222222222222222,
              "#7201a8"
             ],
             [
              0.3333333333333333,
              "#9c179e"
             ],
             [
              0.4444444444444444,
              "#bd3786"
             ],
             [
              0.5555555555555556,
              "#d8576b"
             ],
             [
              0.6666666666666666,
              "#ed7953"
             ],
             [
              0.7777777777777778,
              "#fb9f3a"
             ],
             [
              0.8888888888888888,
              "#fdca26"
             ],
             [
              1,
              "#f0f921"
             ]
            ],
            "type": "surface"
           }
          ],
          "table": [
           {
            "cells": {
             "fill": {
              "color": "#EBF0F8"
             },
             "line": {
              "color": "white"
             }
            },
            "header": {
             "fill": {
              "color": "#C8D4E3"
             },
             "line": {
              "color": "white"
             }
            },
            "type": "table"
           }
          ]
         },
         "layout": {
          "annotationdefaults": {
           "arrowcolor": "#2a3f5f",
           "arrowhead": 0,
           "arrowwidth": 1
          },
          "autotypenumbers": "strict",
          "coloraxis": {
           "colorbar": {
            "outlinewidth": 0,
            "ticks": ""
           }
          },
          "colorscale": {
           "diverging": [
            [
             0,
             "#8e0152"
            ],
            [
             0.1,
             "#c51b7d"
            ],
            [
             0.2,
             "#de77ae"
            ],
            [
             0.3,
             "#f1b6da"
            ],
            [
             0.4,
             "#fde0ef"
            ],
            [
             0.5,
             "#f7f7f7"
            ],
            [
             0.6,
             "#e6f5d0"
            ],
            [
             0.7,
             "#b8e186"
            ],
            [
             0.8,
             "#7fbc41"
            ],
            [
             0.9,
             "#4d9221"
            ],
            [
             1,
             "#276419"
            ]
           ],
           "sequential": [
            [
             0,
             "#0d0887"
            ],
            [
             0.1111111111111111,
             "#46039f"
            ],
            [
             0.2222222222222222,
             "#7201a8"
            ],
            [
             0.3333333333333333,
             "#9c179e"
            ],
            [
             0.4444444444444444,
             "#bd3786"
            ],
            [
             0.5555555555555556,
             "#d8576b"
            ],
            [
             0.6666666666666666,
             "#ed7953"
            ],
            [
             0.7777777777777778,
             "#fb9f3a"
            ],
            [
             0.8888888888888888,
             "#fdca26"
            ],
            [
             1,
             "#f0f921"
            ]
           ],
           "sequentialminus": [
            [
             0,
             "#0d0887"
            ],
            [
             0.1111111111111111,
             "#46039f"
            ],
            [
             0.2222222222222222,
             "#7201a8"
            ],
            [
             0.3333333333333333,
             "#9c179e"
            ],
            [
             0.4444444444444444,
             "#bd3786"
            ],
            [
             0.5555555555555556,
             "#d8576b"
            ],
            [
             0.6666666666666666,
             "#ed7953"
            ],
            [
             0.7777777777777778,
             "#fb9f3a"
            ],
            [
             0.8888888888888888,
             "#fdca26"
            ],
            [
             1,
             "#f0f921"
            ]
           ]
          },
          "colorway": [
           "#636efa",
           "#EF553B",
           "#00cc96",
           "#ab63fa",
           "#FFA15A",
           "#19d3f3",
           "#FF6692",
           "#B6E880",
           "#FF97FF",
           "#FECB52"
          ],
          "font": {
           "color": "#2a3f5f"
          },
          "geo": {
           "bgcolor": "white",
           "lakecolor": "white",
           "landcolor": "#E5ECF6",
           "showlakes": true,
           "showland": true,
           "subunitcolor": "white"
          },
          "hoverlabel": {
           "align": "left"
          },
          "hovermode": "closest",
          "mapbox": {
           "style": "light"
          },
          "paper_bgcolor": "white",
          "plot_bgcolor": "#E5ECF6",
          "polar": {
           "angularaxis": {
            "gridcolor": "white",
            "linecolor": "white",
            "ticks": ""
           },
           "bgcolor": "#E5ECF6",
           "radialaxis": {
            "gridcolor": "white",
            "linecolor": "white",
            "ticks": ""
           }
          },
          "scene": {
           "xaxis": {
            "backgroundcolor": "#E5ECF6",
            "gridcolor": "white",
            "gridwidth": 2,
            "linecolor": "white",
            "showbackground": true,
            "ticks": "",
            "zerolinecolor": "white"
           },
           "yaxis": {
            "backgroundcolor": "#E5ECF6",
            "gridcolor": "white",
            "gridwidth": 2,
            "linecolor": "white",
            "showbackground": true,
            "ticks": "",
            "zerolinecolor": "white"
           },
           "zaxis": {
            "backgroundcolor": "#E5ECF6",
            "gridcolor": "white",
            "gridwidth": 2,
            "linecolor": "white",
            "showbackground": true,
            "ticks": "",
            "zerolinecolor": "white"
           }
          },
          "shapedefaults": {
           "line": {
            "color": "#2a3f5f"
           }
          },
          "ternary": {
           "aaxis": {
            "gridcolor": "white",
            "linecolor": "white",
            "ticks": ""
           },
           "baxis": {
            "gridcolor": "white",
            "linecolor": "white",
            "ticks": ""
           },
           "bgcolor": "#E5ECF6",
           "caxis": {
            "gridcolor": "white",
            "linecolor": "white",
            "ticks": ""
           }
          },
          "title": {
           "x": 0.05
          },
          "xaxis": {
           "automargin": true,
           "gridcolor": "white",
           "linecolor": "white",
           "ticks": "",
           "title": {
            "standoff": 15
           },
           "zerolinecolor": "white",
           "zerolinewidth": 2
          },
          "yaxis": {
           "automargin": true,
           "gridcolor": "white",
           "linecolor": "white",
           "ticks": "",
           "title": {
            "standoff": 15
           },
           "zerolinecolor": "white",
           "zerolinewidth": 2
          }
         }
        }
       }
      },
      "image/png": "[encoded data removed]",
      "text/html": [
       "<div>                            <div id=\"3bb66c8d-eee4-4dc2-a967-42b237089639\" class=\"plotly-graph-div\" style=\"height:525px; width:100%;\"></div>            <script type=\"text/javascript\">                require([\"plotly\"], function(Plotly) {                    window.PLOTLYENV=window.PLOTLYENV || {};                                    if (document.getElementById(\"3bb66c8d-eee4-4dc2-a967-42b237089639\")) {                    Plotly.newPlot(                        \"3bb66c8d-eee4-4dc2-a967-42b237089639\",                        [{\"dimensions\":[{\"label\":\"LF (%)\",\"range\":[0.35,0.7],\"ticktext\":[\"\",\"65\",\"60\",\"55\",\"50\",\"47\",\"\"],\"tickvals\":[0.7,0.65,0.6,0.55,0.5,0.47,0.35],\"values\":[0.6440728229665073,0.6280384545454546,0.6135311688311688,0.6003427272727272,0.5883011067193676,0.5772629545454545,0.606048,0.5915407142857143,0.5783522727272727,0.5663106521739131,0.5552725,0.5451174,0.5729334065934065,0.559744965034965,0.5477033444816053,0.5366651923076923,0.5265100923076922,0.5171361538461537,0.5437958441558441,0.5317542236024845,0.5207160714285713,0.5105609714285714,0.501187032967033,0.517931652173913,0.5068934999999999,0.4967384,0.4873644615384616,0.49479875000000006,0.4846436500000001,0.47526971153846165]},{\"label\":\"ICE 1, MCR (kW)\",\"range\":[550,800],\"ticktext\":[\"550\",\"600\",\"650\",\"700\",\"750\",\"800\"],\"tickvals\":[550,600,650,700,750,800],\"values\":[550.0,550.0,550.0,550.0,550.0,550.0,600.0,600.0,600.0,600.0,600.0,600.0,650.0,650.0,650.0,650.0,650.0,650.0,700.0,700.0,700.0,700.0,700.0,750.0,750.0,750.0,750.0,800.0,800.0,800.0]},{\"label\":\"ICE 2, MCR (kW)\",\"range\":[400,650],\"ticktext\":[\"400\",\"450\",\"500\",\"550\",\"600\",\"650\"],\"tickvals\":[400,450,500,550,600,650],\"values\":[400.0,450.0,500.0,550.0,600.0,650.0,400.0,450.0,500.0,550.0,600.0,650.0,400.0,450.0,500.0,550.0,600.0,650.0,400.0,450.0,500.0,550.0,600.0,400.0,450.0,500.0,550.0,400.0,450.0,500.0]},{\"label\":\"BAT (kWh)\",\"range\":[800,5000],\"ticktext\":[\"\",\"4485\",\"3987\",\"3488\",\"2990\",\"2492\",\"1993\",\"1495\",\"997\",\"\"],\"tickvals\":[5000,4485,3987,3488,2990,2492,1993,1495,997,800],\"values\":[4484.8125,3986.499999999999,3488.187499999998,2989.8749999999986,2491.562499999999,1993.2499999999998,3986.499999999999,3488.187499999998,2989.8749999999986,2491.562499999999,1993.2499999999998,1494.9375000000002,3488.187499999998,2989.8749999999986,2491.562499999999,1993.2499999999998,1494.9375000000002,996.6249999999983,2989.8749999999986,2491.562499999999,1993.2499999999998,1494.9375000000002,996.6249999999983,2491.562499999999,1993.2499999999998,1494.9375000000002,996.6249999999983,1993.2499999999998,1494.9375000000002,996.6249999999983]}],\"line\":{\"cmax\":4400,\"cmin\":-200,\"color\":[4484.8125,3986.499999999999,3488.187499999998,2989.8749999999986,2491.562499999999,1993.2499999999998,3986.499999999999,3488.187499999998,2989.8749999999986,2491.562499999999,1993.2499999999998,1494.9375000000002,3488.187499999998,2989.8749999999986,2491.562499999999,1993.2499999999998,1494.9375000000002,996.6249999999983,2989.8749999999986,2491.562499999999,1993.2499999999998,1494.9375000000002,996.6249999999983,2491.562499999999,1993.2499999999998,1494.9375000000002,996.6249999999983,1993.2499999999998,1494.9375000000002,996.6249999999983],\"colorscale\":[[0.0,\"rgb(247,252,245)\"],[0.125,\"rgb(229,245,224)\"],[0.25,\"rgb(199,233,192)\"],[0.375,\"rgb(161,217,155)\"],[0.5,\"rgb(116,196,118)\"],[0.625,\"rgb(65,171,93)\"],[0.75,\"rgb(35,139,69)\"],[0.875,\"rgb(0,109,44)\"],[1.0,\"rgb(0,68,27)\"]],\"showscale\":true},\"unselected\":{\"line\":{\"color\":\"gainsboro\",\"opacity\":0.5}},\"type\":\"parcoords\"}],                        {\"template\":{\"data\":{\"histogram2dcontour\":[{\"type\":\"histogram2dcontour\",\"colorbar\":{\"outlinewidth\":0,\"ticks\":\"\"},\"colorscale\":[[0.0,\"#0d0887\"],[0.1111111111111111,\"#46039f\"],[0.2222222222222222,\"#7201a8\"],[0.3333333333333333,\"#9c179e\"],[0.4444444444444444,\"#bd3786\"],[0.5555555555555556,\"#d8576b\"],[0.6666666666666666,\"#ed7953\"],[0.7777777777777778,\"#fb9f3a\"],[0.8888888888888888,\"#fdca26\"],[1.0,\"#f0f921\"]]}],\"choropleth\":[{\"type\":\"choropleth\",\"colorbar\":{\"outlinewidth\":0,\"ticks\":\"\"}}],\"histogram2d\":[{\"type\":\"histogram2d\",\"colorbar\":{\"outlinewidth\":0,\"ticks\":\"\"},\"colorscale\":[[0.0,\"#0d0887\"],[0.1111111111111111,\"#46039f\"],[0.2222222222222222,\"#7201a8\"],[0.3333333333333333,\"#9c179e\"],[0.4444444444444444,\"#bd3786\"],[0.5555555555555556,\"#d8576b\"],[0.6666666666666666,\"#ed7953\"],[0.7777777777777778,\"#fb9f3a\"],[0.8888888888888888,\"#fdca26\"],[1.0,\"#f0f921\"]]}],\"heatmap\":[{\"type\":\"heatmap\",\"colorbar\":{\"outlinewidth\":0,\"ticks\":\"\"},\"colorscale\":[[0.0,\"#0d0887\"],[0.1111111111111111,\"#46039f\"],[0.2222222222222222,\"#7201a8\"],[0.3333333333333333,\"#9c179e\"],[0.4444444444444444,\"#bd3786\"],[0.5555555555555556,\"#d8576b\"],[0.6666666666666666,\"#ed7953\"],[0.7777777777777778,\"#fb9f3a\"],[0.8888888888888888,\"#fdca26\"],[1.0,\"#f0f921\"]]}],\"heatmapgl\":[{\"type\":\"heatmapgl\",\"colorbar\":{\"outlinewidth\":0,\"ticks\":\"\"},\"colorscale\":[[0.0,\"#0d0887\"],[0.1111111111111111,\"#46039f\"],[0.2222222222222222,\"#7201a8\"],[0.3333333333333333,\"#9c179e\"],[0.4444444444444444,\"#bd3786\"],[0.5555555555555556,\"#d8576b\"],[0.6666666666666666,\"#ed7953\"],[0.7777777777777778,\"#fb9f3a\"],[0.8888888888888888,\"#fdca26\"],[1.0,\"#f0f921\"]]}],\"contourcarpet\":[{\"type\":\"contourcarpet\",\"colorbar\":{\"outlinewidth\":0,\"ticks\":\"\"}}],\"contour\":[{\"type\":\"contour\",\"colorbar\":{\"outlinewidth\":0,\"ticks\":\"\"},\"colorscale\":[[0.0,\"#0d0887\"],[0.1111111111111111,\"#46039f\"],[0.2222222222222222,\"#7201a8\"],[0.3333333333333333,\"#9c179e\"],[0.4444444444444444,\"#bd3786\"],[0.5555555555555556,\"#d8576b\"],[0.6666666666666666,\"#ed7953\"],[0.7777777777777778,\"#fb9f3a\"],[0.8888888888888888,\"#fdca26\"],[1.0,\"#f0f921\"]]}],\"surface\":[{\"type\":\"surface\",\"colorbar\":{\"outlinewidth\":0,\"ticks\":\"\"},\"colorscale\":[[0.0,\"#0d0887\"],[0.1111111111111111,\"#46039f\"],[0.2222222222222222,\"#7201a8\"],[0.3333333333333333,\"#9c179e\"],[0.4444444444444444,\"#bd3786\"],[0.5555555555555556,\"#d8576b\"],[0.6666666666666666,\"#ed7953\"],[0.7777777777777778,\"#fb9f3a\"],[0.8888888888888888,\"#fdca26\"],[1.0,\"#f0f921\"]]}],\"mesh3d\":[{\"type\":\"mesh3d\",\"colorbar\":{\"outlinewidth\":0,\"ticks\":\"\"}}],\"scatter\":[{\"fillpattern\":{\"fillmode\":\"overlay\",\"size\":10,\"solidity\":0.2},\"type\":\"scatter\"}],\"parcoords\":[{\"type\":\"parcoords\",\"line\":{\"colorbar\":{\"outlinewidth\":0,\"ticks\":\"\"}}}],\"scatterpolargl\":[{\"type\":\"scatterpolargl\",\"marker\":{\"colorbar\":{\"outlinewidth\":0,\"ticks\":\"\"}}}],\"bar\":[{\"error_x\":{\"color\":\"#2a3f5f\"},\"error_y\":{\"color\":\"#2a3f5f\"},\"marker\":{\"line\":{\"color\":\"#E5ECF6\",\"width\":0.5},\"pattern\":{\"fillmode\":\"overlay\",\"size\":10,\"solidity\":0.2}},\"type\":\"bar\"}],\"scattergeo\":[{\"type\":\"scattergeo\",\"marker\":{\"colorbar\":{\"outlinewidth\":0,\"ticks\":\"\"}}}],\"scatterpolar\":[{\"type\":\"scatterpolar\",\"marker\":{\"colorbar\":{\"outlinewidth\":0,\"ticks\":\"\"}}}],\"histogram\":[{\"marker\":{\"pattern\":{\"fillmode\":\"overlay\",\"size\":10,\"solidity\":0.2}},\"type\":\"histogram\"}],\"scattergl\":[{\"type\":\"scattergl\",\"marker\":{\"colorbar\":{\"outlinewidth\":0,\"ticks\":\"\"}}}],\"scatter3d\":[{\"type\":\"scatter3d\",\"line\":{\"colorbar\":{\"outlinewidth\":0,\"ticks\":\"\"}},\"marker\":{\"colorbar\":{\"outlinewidth\":0,\"ticks\":\"\"}}}],\"scattermapbox\":[{\"type\":\"scattermapbox\",\"marker\":{\"colorbar\":{\"outlinewidth\":0,\"ticks\":\"\"}}}],\"scatterternary\":[{\"type\":\"scatterternary\",\"marker\":{\"colorbar\":{\"outlinewidth\":0,\"ticks\":\"\"}}}],\"scattercarpet\":[{\"type\":\"scattercarpet\",\"marker\":{\"colorbar\":{\"outlinewidth\":0,\"ticks\":\"\"}}}],\"carpet\":[{\"aaxis\":{\"endlinecolor\":\"#2a3f5f\",\"gridcolor\":\"white\",\"linecolor\":\"white\",\"minorgridcolor\":\"white\",\"startlinecolor\":\"#2a3f5f\"},\"baxis\":{\"endlinecolor\":\"#2a3f5f\",\"gridcolor\":\"white\",\"linecolor\":\"white\",\"minorgridcolor\":\"white\",\"startlinecolor\":\"#2a3f5f\"},\"type\":\"carpet\"}],\"table\":[{\"cells\":{\"fill\":{\"color\":\"#EBF0F8\"},\"line\":{\"color\":\"white\"}},\"header\":{\"fill\":{\"color\":\"#C8D4E3\"},\"line\":{\"color\":\"white\"}},\"type\":\"table\"}],\"barpolar\":[{\"marker\":{\"line\":{\"color\":\"#E5ECF6\",\"width\":0.5},\"pattern\":{\"fillmode\":\"overlay\",\"size\":10,\"solidity\":0.2}},\"type\":\"barpolar\"}],\"pie\":[{\"automargin\":true,\"type\":\"pie\"}]},\"layout\":{\"autotypenumbers\":\"strict\",\"colorway\":[\"#636efa\",\"#EF553B\",\"#00cc96\",\"#ab63fa\",\"#FFA15A\",\"#19d3f3\",\"#FF6692\",\"#B6E880\",\"#FF97FF\",\"#FECB52\"],\"font\":{\"color\":\"#2a3f5f\"},\"hovermode\":\"closest\",\"hoverlabel\":{\"align\":\"left\"},\"paper_bgcolor\":\"white\",\"plot_bgcolor\":\"#E5ECF6\",\"polar\":{\"bgcolor\":\"#E5ECF6\",\"angularaxis\":{\"gridcolor\":\"white\",\"linecolor\":\"white\",\"ticks\":\"\"},\"radialaxis\":{\"gridcolor\":\"white\",\"linecolor\":\"white\",\"ticks\":\"\"}},\"ternary\":{\"bgcolor\":\"#E5ECF6\",\"aaxis\":{\"gridcolor\":\"white\",\"linecolor\":\"white\",\"ticks\":\"\"},\"baxis\":{\"gridcolor\":\"white\",\"linecolor\":\"white\",\"ticks\":\"\"},\"caxis\":{\"gridcolor\":\"white\",\"linecolor\":\"white\",\"ticks\":\"\"}},\"coloraxis\":{\"colorbar\":{\"outlinewidth\":0,\"ticks\":\"\"}},\"colorscale\":{\"sequential\":[[0.0,\"#0d0887\"],[0.1111111111111111,\"#46039f\"],[0.2222222222222222,\"#7201a8\"],[0.3333333333333333,\"#9c179e\"],[0.4444444444444444,\"#bd3786\"],[0.5555555555555556,\"#d8576b\"],[0.6666666666666666,\"#ed7953\"],[0.7777777777777778,\"#fb9f3a\"],[0.8888888888888888,\"#fdca26\"],[1.0,\"#f0f921\"]],\"sequentialminus\":[[0.0,\"#0d0887\"],[0.1111111111111111,\"#46039f\"],[0.2222222222222222,\"#7201a8\"],[0.3333333333333333,\"#9c179e\"],[0.4444444444444444,\"#bd3786\"],[0.5555555555555556,\"#d8576b\"],[0.6666666666666666,\"#ed7953\"],[0.7777777777777778,\"#fb9f3a\"],[0.8888888888888888,\"#fdca26\"],[1.0,\"#f0f921\"]],\"diverging\":[[0,\"#8e0152\"],[0.1,\"#c51b7d\"],[0.2,\"#de77ae\"],[0.3,\"#f1b6da\"],[0.4,\"#fde0ef\"],[0.5,\"#f7f7f7\"],[0.6,\"#e6f5d0\"],[0.7,\"#b8e186\"],[0.8,\"#7fbc41\"],[0.9,\"#4d9221\"],[1,\"#276419\"]]},\"xaxis\":{\"gridcolor\":\"white\",\"linecolor\":\"white\",\"ticks\":\"\",\"title\":{\"standoff\":15},\"zerolinecolor\":\"white\",\"automargin\":true,\"zerolinewidth\":2},\"yaxis\":{\"gridcolor\":\"white\",\"linecolor\":\"white\",\"ticks\":\"\",\"title\":{\"standoff\":15},\"zerolinecolor\":\"white\",\"automargin\":true,\"zerolinewidth\":2},\"scene\":{\"xaxis\":{\"backgroundcolor\":\"#E5ECF6\",\"gridcolor\":\"white\",\"linecolor\":\"white\",\"showbackground\":true,\"ticks\":\"\",\"zerolinecolor\":\"white\",\"gridwidth\":2},\"yaxis\":{\"backgroundcolor\":\"#E5ECF6\",\"gridcolor\":\"white\",\"linecolor\":\"white\",\"showbackground\":true,\"ticks\":\"\",\"zerolinecolor\":\"white\",\"gridwidth\":2},\"zaxis\":{\"backgroundcolor\":\"#E5ECF6\",\"gridcolor\":\"white\",\"linecolor\":\"white\",\"showbackground\":true,\"ticks\":\"\",\"zerolinecolor\":\"white\",\"gridwidth\":2}},\"shapedefaults\":{\"line\":{\"color\":\"#2a3f5f\"}},\"annotationdefaults\":{\"arrowcolor\":\"#2a3f5f\",\"arrowhead\":0,\"arrowwidth\":1},\"geo\":{\"bgcolor\":\"white\",\"landcolor\":\"#E5ECF6\",\"subunitcolor\":\"white\",\"showland\":true,\"showlakes\":true,\"lakecolor\":\"white\"},\"title\":{\"x\":0.05},\"mapbox\":{\"style\":\"light\"}}}},                        {\"responsive\": true}                    ).then(function(){\n",
       "                            \n",
       "var gd = document.getElementById('3bb66c8d-eee4-4dc2-a967-42b237089639');\n",
       "var x = new MutationObserver(function (mutations, observer) {{\n",
       "        var display = window.getComputedStyle(gd).display;\n",
       "        if (!display || display === 'none') {{\n",
       "            console.log([gd, 'removed!']);\n",
       "            Plotly.purge(gd);\n",
       "            observer.disconnect();\n",
       "        }}\n",
       "}});\n",
       "\n",
       "// Listen for the removal of the full notebook cells\n",
       "var notebookContainer = gd.closest('#notebook-container');\n",
       "if (notebookContainer) {{\n",
       "    x.observe(notebookContainer, {childList: true});\n",
       "}}\n",
       "\n",
       "// Listen for the clearing of the current output cell\n",
       "var outputEl = gd.closest('.output');\n",
       "if (outputEl) {{\n",
       "    x.observe(outputEl, {childList: true});\n",
       "}}\n",
       "\n",
       "                        })                };                });            </script>        </div>"
      ]
     },
     "metadata": {},
     "output_type": "display_data"
    }
   ],
   "source": [
    "\n",
    "fig = go.Figure(data=\n",
    "    go.Parcoords(\n",
    "        line = dict(color = feasibilities ['battery_capacity_for_trip (kwh)'],\n",
    "                   colorscale = 'greens',\n",
    "                   showscale = True,\n",
    "                   cmin = -200,\n",
    "                   cmax = 4400),\n",
    "        dimensions = list([\n",
    "            dict(range = [0.35,0.7],\n",
    "                 # constraintrange = [2,3.5],\n",
    "                 label = \"LF (%)\", values = feasibilities['load_factor_tw_ave_Rhine_smallsize'],\n",
    "                 tickvals = [0.7,0.65,0.6,0.55,0.50,0.47,0.35],\n",
    "                 ticktext = ['','65','60','55','50','47','']),         \n",
    "            dict(range = [550,800],\n",
    "                 # constraintrange = [2,3.5],\n",
    "                 label = \"ICE 1, MCR (kW)\", values = feasibilities['MCR_smallsize_1'],\n",
    "                 tickvals = [550,600,650,700,750,800],\n",
    "                 ticktext = ['550','600','650','700','750','800']), \n",
    "            dict(range = [400,650],\n",
    "                 # constraintrange = [2,3.5],\n",
    "                 label = \"ICE 2, MCR (kW)\", values = feasibilities['MCR_smallsize_2'],\n",
    "                 tickvals = [400,450,500,550,600,650],\n",
    "                 ticktext = ['400','450','500','550','600','650']),\n",
    "            dict(range = [800,5000],\n",
    "                 # constraintrange = [2,3.5],\n",
    "                 label = \"BAT (kWh)\", values = feasibilities['battery_capacity_for_trip (kwh)'],\n",
    "                 tickvals = [5000,4485,3987,3488,2990,2492,1993,1495,997,800],\n",
    "                 ticktext = ['','4485', '3987','3488', '2990', '2492','1993','1495','997','']), \n",
    "           \n",
    "        ]),\n",
    "        unselected = dict(line = dict(color = 'gainsboro', opacity = 0.5))\n",
    "    ) \n",
    ")\n",
    "\n",
    "fig.show()"
   ]
  },
  {
   "cell_type": "code",
   "execution_count": 9,
   "id": "71589f7f-bf5b-4d6b-8a2f-5b5788643689",
   "metadata": {},
   "outputs": [],
   "source": [
    "# If you need to save this file as a standalone html file:\n",
    "fig.write_html(\"C:/interactiveCharts/right_engine_size_selection_Rhinetanker_2_smallICE_battery.html\")"
   ]
  },
  {
   "cell_type": "code",
   "execution_count": null,
   "id": "bf6a2ea0-67d0-4147-8bba-ee69a87d88b1",
   "metadata": {},
   "outputs": [],
   "source": []
  }
 ],
 "metadata": {
  "kernelspec": {
   "display_name": "Python 3 (ipykernel)",
   "language": "python",
   "name": "python3"
  },
  "language_info": {
   "codemirror_mode": {
    "name": "ipython",
    "version": 3
   },
   "file_extension": ".py",
   "mimetype": "text/x-python",
   "name": "python",
   "nbconvert_exporter": "python",
   "pygments_lexer": "ipython3",
   "version": "3.9.10"
  }
 },
 "nbformat": 4,
 "nbformat_minor": 5
}
