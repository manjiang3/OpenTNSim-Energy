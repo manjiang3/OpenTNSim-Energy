{
 "cells": [
  {
   "cell_type": "markdown",
   "id": "94695f1f-9148-4e41-915b-86103e2a833d",
   "metadata": {},
   "source": [
    "### PUSH23_1B\n",
    "- up_loaded at Mwl and Hwl\n",
    "- up_loaded at Lwl (not included yet)\n",
    "- up_ballast_at all water level\n",
    "- -----------------------\n",
    "- down_loaded at Mwl and Hwl\n",
    "- down_loaded at Lwl (not included yet)\n",
    "- down_ballast_at all water level"
   ]
  },
  {
   "cell_type": "markdown",
   "id": "2836be5e-c3c7-4e7d-82a6-ae6bd1699cbb",
   "metadata": {},
   "source": [
    " ##"
   ]
  },
  {
   "cell_type": "markdown",
   "id": "4bb3daff-78d5-49af-93ec-ebb9add4a473",
   "metadata": {},
   "source": [
    "up_loaded at Mwl and Hwl"
   ]
  },
  {
   "cell_type": "code",
   "execution_count": 2,
   "id": "60d77578-6f7c-4c71-bc67-6d747fb558c1",
   "metadata": {},
   "outputs": [],
   "source": [
    "# Create a dict with all important settings\n",
    "\n",
    "data_vessel_PUSH23_1B_up_loaded_MHWL = {\n",
    "    \"env\": None,\n",
    "    \"name\": 'PUSH23_1B_up_loaded_MHWL',\n",
    "    \"route\": None,\n",
    "    \"geometry\": None,\n",
    "    \"v\": None,  # m/s\n",
    "    \"V_g_ave\":3.53,\n",
    "    \"use_V_g_profile\":True,\n",
    "    \"type\": None,\n",
    "    \"B\": 11.45,\n",
    "    \"L\": 99.5,\n",
    "    \"T\": 2.5,\n",
    "    \"safety_margin\": 0.3, # for tanker vessel with rocky bed the safety margin is recommended as 0.3 m\n",
    "    \"h_squat\": False, # if consider the ship squatting while moving, set to True, otherwise set to False. Note that here we have disabled h_squat calculation since we regard the water depth h_0 is already reduced by squat effect. This applies to figures 3, 5, 7, 8 and 9.\n",
    "    \"payload\":None,\n",
    "    \"vessel_type\":\"Dry_DH\", #vessel types: \"Container\",\"Dry_SH\",\"Dry_DH\",\"Barge\",\"Tanker\". (\"Dry_SH\" means dry bulk single hull, \"Dry_DH\" means dry bulk double hull)    \n",
    "    \"P_installed\":1000,   \n",
    "    \"P_tot_given\": None, # kW\n",
    "    \"bulbous_bow\": False, # if a vessel has no bulbous_bow, set to False; otherwise set to True.\n",
    "    \"sailing_on_power\": False,\n",
    "    \"sailing_upstream\":True,\n",
    "    \"wind_influence\": False,\n",
    "    \"P_hotel_perc\": 0.08,\n",
    "    \"P_hotel\": None, # None: calculate P_hotel from percentage\n",
    "    \"x\": 2,# number of propellers\n",
    "    \"L_w\": 2.0 ,\n",
    "    \"C_B\":0.85, \n",
    "    \"C_year\": 1980, # the engine construction year is only used for diesel use and emissions quantification\n",
    "}             \n",
    "\n"
   ]
  },
  {
   "cell_type": "markdown",
   "id": "80004d88-8237-44dd-a861-07d869a9341f",
   "metadata": {},
   "source": [
    "up_loaded at Lwl (not included yet)"
   ]
  },
  {
   "cell_type": "code",
   "execution_count": null,
   "id": "a51bdf0e-ddb8-4a37-ad00-befa953d81bb",
   "metadata": {},
   "outputs": [],
   "source": []
  },
  {
   "cell_type": "markdown",
   "id": "719e8e24-141a-4574-b784-81af268df3bf",
   "metadata": {},
   "source": [
    "up_ballast_at all water level"
   ]
  },
  {
   "cell_type": "code",
   "execution_count": null,
   "id": "a246b13d-ba6a-4457-9c33-2e05a2cb7fb1",
   "metadata": {},
   "outputs": [],
   "source": [
    "# Create a dict with all important settings\n",
    "\n",
    "data_vessel_PUSH23_1B_up_ballast = {\n",
    "    \"env\": None,\n",
    "    \"name\": 'PUSH23_1B_up_ballast',\n",
    "    \"route\": None,\n",
    "    \"geometry\": None,\n",
    "    \"v\": None,  # m/s\n",
    "    \"V_g_ave\":3.53,\n",
    "    \"use_V_g_profile\":True,\n",
    "    \"type\": None,\n",
    "    \"B\": 11.45,\n",
    "    \"L\": 99.5,\n",
    "    \"T\": 1.5,\n",
    "    \"safety_margin\": 0.3, # for tanker vessel with rocky bed the safety margin is recommended as 0.3 m\n",
    "    \"h_squat\": False, # if consider the ship squatting while moving, set to True, otherwise set to False. Note that here we have disabled h_squat calculation since we regard the water depth h_0 is already reduced by squat effect. This applies to figures 3, 5, 7, 8 and 9.\n",
    "    \"payload\":None,\n",
    "    \"vessel_type\":\"Dry_DH\", #vessel types: \"Container\",\"Dry_SH\",\"Dry_DH\",\"Barge\",\"Tanker\". (\"Dry_SH\" means dry bulk single hull, \"Dry_DH\" means dry bulk double hull)    \n",
    "    \"P_installed\": 1000,   \n",
    "    \"P_tot_given\": None, # kW\n",
    "    \"bulbous_bow\": False, # if a vessel has no bulbous_bow, set to False; otherwise set to True.\n",
    "    \"sailing_on_power\": False,\n",
    "    \"sailing_upstream\":True,\n",
    "    \"wind_influence\": False,\n",
    "    \"P_hotel_perc\": 0.08,\n",
    "    \"P_hotel\": None, # None: calculate P_hotel from percentage\n",
    "    \"x\": 2,# number of propellers\n",
    "    \"L_w\": 2.0 ,\n",
    "    \"C_B\":0.85, \n",
    "    \"C_year\": 1980, # the engine construction year is only used for diesel use and emissions quantification\n",
    "}             \n",
    "\n"
   ]
  },
  {
   "cell_type": "markdown",
   "id": "e4a9a5c9-59b8-4b45-8aea-01450994a05f",
   "metadata": {},
   "source": [
    "down_loaded at Mwl and Hwl"
   ]
  },
  {
   "cell_type": "code",
   "execution_count": null,
   "id": "df65ace3-7db7-49d0-99d7-8947cd3a4d3a",
   "metadata": {},
   "outputs": [],
   "source": [
    "# Create a dict with all important settings\n",
    "\n",
    "data_vessel_PUSH23_1B_down_loaded_MHWL = {\n",
    "    \"env\": None,\n",
    "    \"name\": 'PUSH23_1B_down_loaded_MHWL',\n",
    "    \"route\": None,\n",
    "    \"geometry\": None,\n",
    "    \"v\": None,  # m/s\n",
    "    \"V_g_ave\":3.53,\n",
    "    \"use_V_g_profile\":True,\n",
    "    \"type\": None,\n",
    "    \"B\": 11.45,\n",
    "    \"L\": 99.5,\n",
    "    \"T\": 2.1,\n",
    "    \"safety_margin\": 0.3, # for tanker vessel with rocky bed the safety margin is recommended as 0.3 m\n",
    "    \"h_squat\": False, # if consider the ship squatting while moving, set to True, otherwise set to False. Note that here we have disabled h_squat calculation since we regard the water depth h_0 is already reduced by squat effect. This applies to figures 3, 5, 7, 8 and 9.\n",
    "    \"payload\":None,\n",
    "    \"vessel_type\":\"Dry_DH\", #vessel types: \"Container\",\"Dry_SH\",\"Dry_DH\",\"Barge\",\"Tanker\". (\"Dry_SH\" means dry bulk single hull, \"Dry_DH\" means dry bulk double hull)    \n",
    "    \"P_installed\":1000,   \n",
    "    \"P_tot_given\": None, # kW\n",
    "    \"bulbous_bow\": False, # if a vessel has no bulbous_bow, set to False; otherwise set to True.\n",
    "    \"sailing_on_power\": False,\n",
    "    \"sailing_upstream\":False,\n",
    "    \"wind_influence\": False,\n",
    "    \"P_hotel_perc\": 0.08,\n",
    "    \"P_hotel\": None, # None: calculate P_hotel from percentage\n",
    "    \"x\": 2,# number of propellers\n",
    "    \"L_w\": 2.0 ,\n",
    "    \"C_B\":0.85, \n",
    "    \"C_year\": 1980, # the engine construction year is only used for diesel use and emissions quantification\n",
    "}             \n",
    "\n"
   ]
  },
  {
   "cell_type": "markdown",
   "id": "a9101a71-51ec-4bb1-ad3a-f8bf81440211",
   "metadata": {},
   "source": [
    "down_loaded at Lwl (not included yet)"
   ]
  },
  {
   "cell_type": "code",
   "execution_count": null,
   "id": "29349d1c-1a58-4186-991a-95c96e4a2d23",
   "metadata": {},
   "outputs": [],
   "source": []
  },
  {
   "cell_type": "markdown",
   "id": "1a0505c0-9690-4021-8aae-993898f40af2",
   "metadata": {},
   "source": [
    "down_ballast_at all water level"
   ]
  },
  {
   "cell_type": "code",
   "execution_count": null,
   "id": "a9ad11ec-1350-4384-9e01-a4be4470d465",
   "metadata": {},
   "outputs": [],
   "source": [
    "# Create a dict with all important settings\n",
    "\n",
    "data_vessel_PUSH23_1B_down_ballast = {\n",
    "    \"env\": None,\n",
    "    \"name\": 'PUSH23_1B_down_ballast',\n",
    "    \"route\": None,\n",
    "    \"geometry\": None,\n",
    "    \"v\": None,  # m/s\n",
    "    \"V_g_ave\":3.53,\n",
    "    \"use_V_g_profile\":True,\n",
    "    \"type\": None,\n",
    "    \"B\": 11.45,\n",
    "    \"L\": 99.5,\n",
    "    \"T\": 1.5,\n",
    "    \"safety_margin\": 0.3, # for tanker vessel with rocky bed the safety margin is recommended as 0.3 m\n",
    "    \"h_squat\": False, # if consider the ship squatting while moving, set to True, otherwise set to False. Note that here we have disabled h_squat calculation since we regard the water depth h_0 is already reduced by squat effect. This applies to figures 3, 5, 7, 8 and 9.\n",
    "    \"payload\":None,\n",
    "    \"vessel_type\":\"Dry_DH\", #vessel types: \"Container\",\"Dry_SH\",\"Dry_DH\",\"Barge\",\"Tanker\". (\"Dry_SH\" means dry bulk single hull, \"Dry_DH\" means dry bulk double hull)    \n",
    "    \"P_installed\": 1000,   \n",
    "    \"P_tot_given\": None, # kW\n",
    "    \"bulbous_bow\": False, # if a vessel has no bulbous_bow, set to False; otherwise set to True.\n",
    "    \"sailing_on_power\": False,\n",
    "    \"sailing_upstream\":False,\n",
    "    \"wind_influence\": False,\n",
    "    \"P_hotel_perc\": 0.08,\n",
    "    \"P_hotel\": None, # None: calculate P_hotel from percentage\n",
    "    \"x\": 2,# number of propellers\n",
    "    \"L_w\": 2.0 ,\n",
    "    \"C_B\":0.85, \n",
    "    \"C_year\": 1980, # the engine construction year is only used for diesel use and emissions quantification\n",
    "}             \n",
    "\n"
   ]
  }
 ],
 "metadata": {
  "kernelspec": {
   "display_name": "Python 3 (ipykernel)",
   "language": "python",
   "name": "python3"
  },
  "language_info": {
   "codemirror_mode": {
    "name": "ipython",
    "version": 3
   },
   "file_extension": ".py",
   "mimetype": "text/x-python",
   "name": "python",
   "nbconvert_exporter": "python",
   "pygments_lexer": "ipython3",
   "version": "3.9.10"
  }
 },
 "nbformat": 4,
 "nbformat_minor": 5
}
