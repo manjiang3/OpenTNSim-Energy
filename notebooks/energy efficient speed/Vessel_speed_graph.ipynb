{
 "cells": [
  {
   "cell_type": "code",
   "execution_count": null,
   "metadata": {
    "id": "c33j9Sd6Bly_"
   },
   "outputs": [],
   "source": [
    "s.rename(columns = {'total CO2 (kg)':'tot_CO'}, inplace = True)           #renaming column so that it doesnt have spaces in it (else finding min doesnt work)\n",
    "\n",
    "t_max_1 = 26  #You can pick relevant values here\n",
    "t_max_2 = 30  #You can pick relevant values here\n",
    "\n",
    "Graph_df_1 = s.loc[s['total time (hours)'] <= t_max_1]    \n",
    "Graph_df_2 = s.loc[s['total time (hours)'] <= t_max_2]\n",
    "Graph_df_1 = Graph_df_1.loc[Graph_df_1.tot_CO == Graph_df_1.tot_CO.min()]\n",
    "Graph_df_2 = Graph_df_2.loc[Graph_df_2.tot_CO == Graph_df_2.tot_CO.min()]\n",
    "\n",
    "x = np.array(range(0, 9))\n",
    "y_1 = np.array(Graph_df_1)\n",
    "y_1 = np.insert(y_1[0,:],0,y_1[0,0])  #duplicates 0th entry (important for plt.step else results of waterwaystretch 1 doesnt show)\n",
    "y_2 = np.array(Graph_df_2)\n",
    "y_2 = np.insert(y_2[0,:],0,y_2[0,0])\n",
    "\n",
    "plt.figure(figsize=(10,6))\n",
    "plt.step(x, y_1)\n",
    "plt.step(x, y_2)\n",
    "plt.xlabel(\"Waterway stretch\")\n",
    "plt.ylabel(\"Vessel speed [km/h]\")\n",
    "plt.title(\"Optimal vessel speed per waterway stretch [-]\")\n",
    "plt.legend([\"Scenario 1A\", \"Scenario 1B\"], loc =\"upper right\")\n",
    "#plt.savefig('Vessel_speeds.png')\n",
    "\n",
    "#Notes:\n",
    "#Scenario 1A: ICE, upstream,  t_max_1\n",
    "#Scenario 1B: ICE, upstream,  t_max_2\n",
    "#Scenario 1C: ICE, downstream,  t_max_1\n",
    "#Scenario 1D: ICE, downstream,  t_max_2\n",
    "\n",
    "#Scenario 2A: H2, upstream,  t_max_1\n",
    "#Scenario 2B: H2, upstream,  t_max_2\n",
    "#Scenario 2C: H2, downstream,  t_max_1\n",
    "#Scenario 2D: H2, downstream,  t_max_2\n",
    "\n",
    "#To get all the 8 scenarios in a single graph (or in 2 graphs: ICE and H2) you need to save the y_1 and y_2 from the 4 different files and use them in a single graph.\n"
   ]
  },
  {
   "cell_type": "code",
   "execution_count": null,
   "metadata": {
    "id": "Pa0LYsOkDqQi"
   },
   "outputs": [],
   "source": [
    "#Can you also save these values for CO2 and total travel time (and whichever other value you think would be relevant, maybe fuel?) for each scenario.\n",
    "#This way we can put this data in a table and put it next to the graph.\n",
    "Graph_df_1['tot_CO'][0]\n",
    "Graph_df_1['total time (hours)'][0]\n",
    "Graph_df_2['tot_CO'][0]\n",
    "Graph_df_2['total time (hours)'][0]"
   ]
  }
 ],
 "metadata": {
  "colab": {
   "provenance": []
  },
  "kernelspec": {
   "display_name": "Python 3 (ipykernel)",
   "language": "python",
   "name": "python3"
  },
  "language_info": {
   "codemirror_mode": {
    "name": "ipython",
    "version": 3
   },
   "file_extension": ".py",
   "mimetype": "text/x-python",
   "name": "python",
   "nbconvert_exporter": "python",
   "pygments_lexer": "ipython3",
   "version": "3.9.10"
  }
 },
 "nbformat": 4,
 "nbformat_minor": 4
}
