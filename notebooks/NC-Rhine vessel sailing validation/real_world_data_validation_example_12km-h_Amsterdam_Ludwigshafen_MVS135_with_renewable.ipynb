{
 "cells": [
  {
   "cell_type": "markdown",
   "id": "5d9ce309",
   "metadata": {},
   "source": [
    "### Imports\n",
    "Import the required libraries"
   ]
  },
  {
   "cell_type": "code",
   "execution_count": 1,
   "id": "2f23dc0b",
   "metadata": {},
   "outputs": [],
   "source": [
    "# package(s) related to time, space and id\n",
    "import logging\n",
    "import datetime, time\n",
    "import platform\n",
    "import itertools\n",
    "# you need these dependencies (you can get these from anaconda)\n",
    "# package(s) related to the simulation\n",
    "import simpy\n",
    "import pandas as pd\n",
    "\n",
    "# spatial libraries \n",
    "import pyproj\n",
    "import shapely.geometry\n",
    "from simplekml import Kml, Style\n",
    "\n",
    "# package(s) for data handling\n",
    "import numpy as np\n",
    "import matplotlib.pyplot as plt\n",
    "\n",
    "# OpenTNSim\n",
    "import opentnsim\n",
    "\n",
    "# Used for mathematical functions\n",
    "import math             \n",
    "import tqdm\n",
    "# Used for making the graph to visualize our problem\n",
    "import networkx as nx   \n",
    "\n",
    "import plotly.express as px\n",
    "from plotly.subplots import make_subplots\n",
    "\n",
    "#logging.basicConfig(level=logging.DEBUG) #turn on all the debug messages\n",
    "logging.basicConfig(level=logging.INFO)# turn off all the debug messages\n"
   ]
  },
  {
   "cell_type": "markdown",
   "id": "738a48f2",
   "metadata": {},
   "source": [
    "### Create graph\n"
   ]
  },
  {
   "cell_type": "code",
   "execution_count": 2,
   "id": "3255d0dd",
   "metadata": {},
   "outputs": [],
   "source": [
    "# specify a number of coordinate along your route (coords are: lon, lat)\n",
    "coords = [\n",
    "    [0,0],\n",
    "    [0.6475,0],\n",
    "    [4.046285,0], \n",
    "    [4.495394,0],\n",
    "    [5.394,0]\n",
    "] \n",
    "\n",
    "# for each edge (between above coordinates) specify the depth (m)\n",
    "depths = [6, 4.5, 3.2, 4.5]\n",
    "current_speeds = [-0.5,-1.3,-2,-1.3]  # m/s\n",
    "V_g_profile_up = [3,2.8,1.4,2.8]     # 9 ~ 11 km/h       600km for 65h\n",
    "V_g_profile_down = [4.85,4.85,4,4.85]  # 17 km/h     600km for 35h\n",
    "# check of nr of coords and nr of depths align\n",
    "assert len(coords) == len(depths) + 1, 'nr of depths does not correspond to nr of coords'"
   ]
  },
  {
   "cell_type": "code",
   "execution_count": 3,
   "id": "0e482d81",
   "metadata": {},
   "outputs": [],
   "source": [
    "# create a graph based on coords and depths\n",
    "FG = nx.DiGraph()\n",
    "nodes = []\n",
    "path = []\n",
    "\n",
    "# add nodes\n",
    "Node = type('Site', (opentnsim.core.Identifiable, opentnsim.core.Locatable), {})\n",
    "\n",
    "for index, coord in enumerate(coords):\n",
    "    data_node = {\"name\": \"Node \" + str(index), \"geometry\": shapely.geometry.Point(coord[0], coord[1])}\n",
    "    nodes.append(Node(**data_node))\n",
    "    \n",
    "positions = {}\n",
    "for node in nodes:\n",
    "    positions[node.name] = (node.geometry.x, node.geometry.y)\n",
    "    FG.add_node(node.name, geometry = node.geometry)\n",
    "\n",
    "# add edges\n",
    "path = [[nodes[i], nodes[i+1]] for i in range(len(nodes)-1)]\n",
    "\n",
    "for index, edge in enumerate(path):\n",
    "    # For the energy consumption calculation we add info to the graph. We need depth info for resistance.\n",
    "    # NB: the CalculateEnergy routine expects the graph to have \"Info\" that contains \"GeneralDepth\" \n",
    "    #     this may not be very generic!\n",
    "    FG.add_edge(edge[0].name, edge[1].name, weight = 1, Info = {\n",
    "        \"GeneralDepth\": depths[index],\n",
    "        \"CurrentSpeed\": current_speeds[index],\n",
    "        \"VesselSpeedToGroundProfile_upstream\": V_g_profile_up[index],\n",
    "        \"VesselSpeedToGroundProfile_downstream\": V_g_profile_down[index]\n",
    "    })\n",
    "\n",
    "# toggle to undirected and back to directed to make sure all edges are two way traffic\n",
    "FG = FG.to_undirected() \n",
    "FG = FG.to_directed() "
   ]
  },
  {
   "cell_type": "code",
   "execution_count": 4,
   "id": "c99fed1e",
   "metadata": {},
   "outputs": [
    {
     "data": {
      "image/png": "[encoded data removed]",
      "text/plain": [
       "<Figure size 432x288 with 1 Axes>"
      ]
     },
     "metadata": {},
     "output_type": "display_data"
    }
   ],
   "source": [
    "# show graph\n",
    "nx.draw(FG, positions)\n",
    "plt.show()"
   ]
  },
  {
   "cell_type": "code",
   "execution_count": 5,
   "id": "dbb74982",
   "metadata": {},
   "outputs": [
    {
     "name": "stdout",
     "output_type": "stream",
     "text": [
      "General depth for edge ('Node 0', 'Node 1') is 6\n",
      "General depth for edge ('Node 1', 'Node 0') is 6\n",
      "General depth for edge ('Node 1', 'Node 2') is 4.5\n",
      "General depth for edge ('Node 2', 'Node 1') is 4.5\n",
      "General depth for edge ('Node 2', 'Node 3') is 3.2\n",
      "General depth for edge ('Node 3', 'Node 2') is 3.2\n",
      "General depth for edge ('Node 3', 'Node 4') is 4.5\n",
      "General depth for edge ('Node 4', 'Node 3') is 4.5\n"
     ]
    }
   ],
   "source": [
    "# This cell just shows that now a depth of 10 m is added to the edges. \n",
    "# You can use this to vary depths, e.g. make the middle edge shallower. Note that edges are bi-directional \n",
    "for edge in FG.edges:\n",
    "    print('General depth for edge {} is {}'.format(edge, FG.get_edge_data(edge[0], edge[1])[\"Info\"][\"GeneralDepth\"]))"
   ]
  },
  {
   "cell_type": "markdown",
   "id": "2796b4d3",
   "metadata": {},
   "source": [
    "### Create vessel - add VesselProperties and ConsumesEnergy mixins\n"
   ]
  },
  {
   "cell_type": "code",
   "execution_count": 6,
   "id": "689cc5ea",
   "metadata": {},
   "outputs": [],
   "source": [
    "# Make your preferred class out of available mix-ins.\n",
    "TransportResource = type(\n",
    "    \"Vessel\",\n",
    "    (\n",
    "        opentnsim.core.Identifiable,\n",
    "        opentnsim.core.Movable,\n",
    "        opentnsim.core.VesselProperties,  # needed to add vessel properties\n",
    "        opentnsim.energy.ConsumesEnergy,\n",
    "        opentnsim.core.ExtraMetadata,\n",
    "    ),\n",
    "    {},\n",
    ")  # needed to calculate resistances"
   ]
  },
  {
   "cell_type": "code",
   "execution_count": 7,
   "id": "9bcef32d",
   "metadata": {},
   "outputs": [],
   "source": [
    "# Create a dict with all important settings\n",
    "\n",
    "data_vessel_up = {\n",
    "    \"env\": None,\n",
    "    \"name\": 'Vessel M9',\n",
    "    \"route\": None,\n",
    "    \"geometry\": None,\n",
    "    \"v\": None,  # m/s\n",
    "    \"V_g_ave\":3,\n",
    "    \"use_V_g_profile\":True,\n",
    "    \"type\": None,\n",
    "    \"B\": 11.4,\n",
    "    \"L\": 135,\n",
    "    \"H_e\": None, \n",
    "    \"H_f\": None, \n",
    "    \"T\": 2.65,\n",
    "    \"safety_margin\": 0.3, # for tanker vessel with rocky bed the safety margin is recommended as 0.3 m\n",
    "    \"h_squat\": False, # if consider the ship squatting while moving, set to True, otherwise set to False. Note that here we have disabled h_squat calculation since we regard the water depth h_0 is already reduced by squat effect. This applies to figures 3, 5, 7, 8 and 9.\n",
    "    \"payload\":None,\n",
    "    \"vessel_type\":\"Dry_DH\", #vessel types: \"Container\",\"Dry_SH\",\"Dry_DH\",\"Barge\",\"Tanker\". (\"Dry_SH\" means dry bulk single hull, \"Dry_DH\" means dry bulk double hull)    \n",
    "    \"P_installed\": 1750.0,   \n",
    "    \"P_tot_given\": None, # kW\n",
    "    \"P_tot_given_profile\":False,\n",
    "    \"bulbous_bow\": False, # if a vessel has no bulbous_bow, set to False; otherwise set to True.\n",
    "    \"sailing_on_power\": False,\n",
    "    \"sailing_upstream\":True,\n",
    "    \"wind_influence\": False,\n",
    "    \"P_hotel_perc\": 0,\n",
    "    \"P_hotel\": None, # None: calculate P_hotel from percentage\n",
    "    \"x\": 2,# number of propellers\n",
    "    \"L_w\": 3.0 ,\n",
    "    \"C_B\":0.87, \n",
    "    \"C_year\": 2000,\n",
    "}             \n",
    "\n"
   ]
  },
  {
   "cell_type": "code",
   "execution_count": 8,
   "id": "e38d267d-22fb-4492-827c-b8d6f67a78b2",
   "metadata": {},
   "outputs": [],
   "source": [
    "# Create a dict with all important settings\n",
    "\n",
    "data_vessel_down = {\n",
    "    \"env\": None,\n",
    "    \"name\": 'Vessel M9',\n",
    "    \"route\": None,\n",
    "    \"geometry\": None,\n",
    "    \"v\": None,  # m/s\n",
    "    \"V_g_ave\":4.44,\n",
    "    \"use_V_g_profile\":True,\n",
    "    \"type\": None,\n",
    "    \"B\": 11.4,\n",
    "    \"L\": 135,\n",
    "    \"H_e\": None, \n",
    "    \"H_f\": None, \n",
    "    \"T\": 2.3,\n",
    "    \"safety_margin\": 0.3, # for tanker vessel with rocky bed the safety margin is recommended as 0.3 m\n",
    "    \"h_squat\": False, # if consider the ship squatting while moving, set to True, otherwise set to False. Note that here we have disabled h_squat calculation since we regard the water depth h_0 is already reduced by squat effect. This applies to figures 3, 5, 7, 8 and 9.\n",
    "    \"payload\":None,\n",
    "    \"vessel_type\":\"Dry_DH\", #vessel types: \"Container\",\"Dry_SH\",\"Dry_DH\",\"Barge\",\"Tanker\". (\"Dry_SH\" means dry bulk single hull, \"Dry_DH\" means dry bulk double hull)    \n",
    "    \"P_installed\": 1750.0,   \n",
    "    \"P_tot_given\": None, # kW\n",
    "    \"P_tot_given_profile\":False,\n",
    "    \"bulbous_bow\": False, # if a vessel has no bulbous_bow, set to False; otherwise set to True.\n",
    "    \"sailing_on_power\": False,\n",
    "    \"sailing_upstream\":False,\n",
    "    \"wind_influence\": False,\n",
    "    \"P_hotel_perc\": 0,\n",
    "    \"P_hotel\": None, # None: calculate P_hotel from percentage\n",
    "    \"x\": 2,# number of propellers\n",
    "    \"L_w\": 3.0 ,\n",
    "    \"C_B\":0.87, \n",
    "    \"C_year\": 2000, # although the construction year of Herso 1 is 1961, checking with the SFC used in the paper,it is similar as year of 2000\n",
    "}             \n",
    "\n"
   ]
  },
  {
   "cell_type": "markdown",
   "id": "67658145",
   "metadata": {},
   "source": [
    "### Define paths\n",
    "We are going to create a simulation in which a vessel moves from *Node 1* to *Node 4*. Therefore, we need to create a vessel to which we will need to append this paths. Therefore, first let's create the path."
   ]
  },
  {
   "cell_type": "code",
   "execution_count": 9,
   "id": "059bf568",
   "metadata": {},
   "outputs": [],
   "source": [
    "path_upstream = nx.dijkstra_path(FG, nodes[0].name, nodes[4].name)\n",
    "path_downstream = nx.dijkstra_path(FG, nodes[4].name, nodes[0].name)"
   ]
  },
  {
   "cell_type": "markdown",
   "id": "639fc222",
   "metadata": {},
   "source": [
    "### Run simulation\n"
   ]
  },
  {
   "cell_type": "code",
   "execution_count": 10,
   "id": "16e34b3b",
   "metadata": {},
   "outputs": [],
   "source": [
    "def run_simulation(path,**data_vessel):\n",
    "    \n",
    "    # Start simpy environment\n",
    "    simulation_start = datetime.datetime.now()\n",
    "    env = simpy.Environment(initial_time = time.mktime(simulation_start.timetuple()))\n",
    "    env.epoch = time.mktime(simulation_start.timetuple())\n",
    "\n",
    "    # Add graph to environment\n",
    "    env.FG = FG\n",
    "\n",
    "    # Add environment and path to the vessel\n",
    "    # create a fresh instance of vessel\n",
    "    vessel = TransportResource(**data_vessel)\n",
    "    vessel.env = env                                        #the created environment\n",
    "    vessel.name = 'Vessel M9'                     \n",
    "    vessel.route = path                                     #the route (the sequence of nodes, as stored as the second column in the path)\n",
    "    vessel.geometry = env.FG.nodes[path[0]]['geometry']     #a shapely.geometry.Point(lon,lat) (here taken as the starting node of the vessel)\n",
    "\n",
    "    env.process(vessel.move())\n",
    "    env.run()\n",
    "    \n",
    "    return vessel"
   ]
  },
  {
   "cell_type": "code",
   "execution_count": 11,
   "id": "41fbef1a-02e2-4f59-80a3-22b4f09b7728",
   "metadata": {},
   "outputs": [
    {
     "name": "stdout",
     "output_type": "stream",
     "text": [
      "3.5 V_w\n",
      "238.9895399982425 SFC final\n",
      "4.1 V_w\n",
      "218.31903739107412 SFC final\n",
      "3.4 V_w\n",
      "230.69357912521932 SFC final\n",
      "4.1 V_w\n",
      "218.31903739107412 SFC final\n"
     ]
    },
    {
     "name": "stderr",
     "output_type": "stream",
     "text": [
      "C:\\ANACONDA2021\\envs\\sim\\lib\\site-packages\\pandas\\core\\dtypes\\cast.py:122: ShapelyDeprecationWarning:\n",
      "\n",
      "The array interface is deprecated and will no longer work in Shapely 2.0. Convert the '.coords' to a numpy array instead.\n",
      "\n"
     ]
    },
    {
     "data": {
      "text/html": [
       "<div>\n",
       "<style scoped>\n",
       "    .dataframe tbody tr th:only-of-type {\n",
       "        vertical-align: middle;\n",
       "    }\n",
       "\n",
       "    .dataframe tbody tr th {\n",
       "        vertical-align: top;\n",
       "    }\n",
       "\n",
       "    .dataframe thead th {\n",
       "        text-align: right;\n",
       "    }\n",
       "</style>\n",
       "<table border=\"1\" class=\"dataframe\">\n",
       "  <thead>\n",
       "    <tr style=\"text-align: right;\">\n",
       "      <th></th>\n",
       "      <th>edge_start</th>\n",
       "      <th>edge_stop</th>\n",
       "      <th>distance</th>\n",
       "      <th>P_tot</th>\n",
       "      <th>P_installed</th>\n",
       "      <th>total_energy</th>\n",
       "      <th>total_diesel_consumption_C_year_ICE_mass</th>\n",
       "      <th>total_diesel_consumption_ICE_vol</th>\n",
       "      <th>total_emission_CO2</th>\n",
       "      <th>total_emission_PM10</th>\n",
       "      <th>...</th>\n",
       "      <th>total_eMethanol_consumption_ICE_vol</th>\n",
       "      <th>total_eNH3_consumption_PEMFC_mass</th>\n",
       "      <th>total_eNH3_consumption_SOFC_mass</th>\n",
       "      <th>total_eNH3_consumption_PEMFC_vol</th>\n",
       "      <th>total_eNH3_consumption_SOFC_vol</th>\n",
       "      <th>total_eNH3_consumption_ICE_mass</th>\n",
       "      <th>total_eNH3_consumption_ICE_vol</th>\n",
       "      <th>total_Li_NMC_Battery_mass</th>\n",
       "      <th>total_Li_NMC_Battery_vol</th>\n",
       "      <th>total_Battery2000kWh_consumption_num</th>\n",
       "    </tr>\n",
       "  </thead>\n",
       "  <tbody>\n",
       "    <tr>\n",
       "      <th>0</th>\n",
       "      <td>POINT (0 0)</td>\n",
       "      <td>POINT (0.6475 0)</td>\n",
       "      <td>72079.370289</td>\n",
       "      <td>303.908984</td>\n",
       "      <td>1750.0</td>\n",
       "      <td>2028.293350</td>\n",
       "      <td>4.847409e+05</td>\n",
       "      <td>0.625765</td>\n",
       "      <td>1.536983e+06</td>\n",
       "      <td>765.768817</td>\n",
       "      <td>...</td>\n",
       "      <td>1.436096</td>\n",
       "      <td>8.820584e+05</td>\n",
       "      <td>9.349819e+05</td>\n",
       "      <td>1.435909</td>\n",
       "      <td>1.522064</td>\n",
       "      <td>1.217731e+06</td>\n",
       "      <td>1.982353</td>\n",
       "      <td>2.304879e+07</td>\n",
       "      <td>18.240048</td>\n",
       "      <td>1.267683</td>\n",
       "    </tr>\n",
       "    <tr>\n",
       "      <th>1</th>\n",
       "      <td>POINT (0.6475 0)</td>\n",
       "      <td>POINT (4.046285 0)</td>\n",
       "      <td>378351.015516</td>\n",
       "      <td>722.002251</td>\n",
       "      <td>1750.0</td>\n",
       "      <td>27100.226666</td>\n",
       "      <td>5.916495e+06</td>\n",
       "      <td>7.637759</td>\n",
       "      <td>1.875962e+07</td>\n",
       "      <td>8333.083230</td>\n",
       "      <td>...</td>\n",
       "      <td>17.528243</td>\n",
       "      <td>1.261024e+07</td>\n",
       "      <td>1.225668e+07</td>\n",
       "      <td>20.528295</td>\n",
       "      <td>19.952735</td>\n",
       "      <td>1.486299e+07</td>\n",
       "      <td>24.195564</td>\n",
       "      <td>3.079571e+08</td>\n",
       "      <td>243.707074</td>\n",
       "      <td>16.937642</td>\n",
       "    </tr>\n",
       "    <tr>\n",
       "      <th>2</th>\n",
       "      <td>POINT (4.046285 0)</td>\n",
       "      <td>POINT (4.495394 0)</td>\n",
       "      <td>49994.585191</td>\n",
       "      <td>457.911421</td>\n",
       "      <td>1750.0</td>\n",
       "      <td>4542.280070</td>\n",
       "      <td>1.047875e+06</td>\n",
       "      <td>1.352729</td>\n",
       "      <td>3.322530e+06</td>\n",
       "      <td>1513.490987</td>\n",
       "      <td>...</td>\n",
       "      <td>3.104440</td>\n",
       "      <td>1.989158e+06</td>\n",
       "      <td>2.066206e+06</td>\n",
       "      <td>3.238164</td>\n",
       "      <td>3.363592</td>\n",
       "      <td>2.632395e+06</td>\n",
       "      <td>4.285294</td>\n",
       "      <td>5.161682e+07</td>\n",
       "      <td>40.847842</td>\n",
       "      <td>2.838925</td>\n",
       "    </tr>\n",
       "    <tr>\n",
       "      <th>3</th>\n",
       "      <td>POINT (4.495394 0)</td>\n",
       "      <td>POINT (5.394 0)</td>\n",
       "      <td>100032.362344</td>\n",
       "      <td>722.002251</td>\n",
       "      <td>1750.0</td>\n",
       "      <td>7165.038766</td>\n",
       "      <td>1.564264e+06</td>\n",
       "      <td>2.019350</td>\n",
       "      <td>4.959863e+06</td>\n",
       "      <td>2203.186900</td>\n",
       "      <td>...</td>\n",
       "      <td>4.634299</td>\n",
       "      <td>3.334025e+06</td>\n",
       "      <td>3.240548e+06</td>\n",
       "      <td>5.427483</td>\n",
       "      <td>5.275311</td>\n",
       "      <td>3.929631e+06</td>\n",
       "      <td>6.397074</td>\n",
       "      <td>8.142090e+07</td>\n",
       "      <td>64.433802</td>\n",
       "      <td>4.478149</td>\n",
       "    </tr>\n",
       "  </tbody>\n",
       "</table>\n",
       "<p>4 rows × 36 columns</p>\n",
       "</div>"
      ],
      "text/plain": [
       "           edge_start           edge_stop       distance       P_tot  \\\n",
       "0         POINT (0 0)    POINT (0.6475 0)   72079.370289  303.908984   \n",
       "1    POINT (0.6475 0)  POINT (4.046285 0)  378351.015516  722.002251   \n",
       "2  POINT (4.046285 0)  POINT (4.495394 0)   49994.585191  457.911421   \n",
       "3  POINT (4.495394 0)     POINT (5.394 0)  100032.362344  722.002251   \n",
       "\n",
       "   P_installed  total_energy  total_diesel_consumption_C_year_ICE_mass  \\\n",
       "0       1750.0   2028.293350                              4.847409e+05   \n",
       "1       1750.0  27100.226666                              5.916495e+06   \n",
       "2       1750.0   4542.280070                              1.047875e+06   \n",
       "3       1750.0   7165.038766                              1.564264e+06   \n",
       "\n",
       "   total_diesel_consumption_ICE_vol  total_emission_CO2  total_emission_PM10  \\\n",
       "0                          0.625765        1.536983e+06           765.768817   \n",
       "1                          7.637759        1.875962e+07          8333.083230   \n",
       "2                          1.352729        3.322530e+06          1513.490987   \n",
       "3                          2.019350        4.959863e+06          2203.186900   \n",
       "\n",
       "   ...  total_eMethanol_consumption_ICE_vol  \\\n",
       "0  ...                             1.436096   \n",
       "1  ...                            17.528243   \n",
       "2  ...                             3.104440   \n",
       "3  ...                             4.634299   \n",
       "\n",
       "   total_eNH3_consumption_PEMFC_mass  total_eNH3_consumption_SOFC_mass  \\\n",
       "0                       8.820584e+05                      9.349819e+05   \n",
       "1                       1.261024e+07                      1.225668e+07   \n",
       "2                       1.989158e+06                      2.066206e+06   \n",
       "3                       3.334025e+06                      3.240548e+06   \n",
       "\n",
       "   total_eNH3_consumption_PEMFC_vol  total_eNH3_consumption_SOFC_vol  \\\n",
       "0                          1.435909                         1.522064   \n",
       "1                         20.528295                        19.952735   \n",
       "2                          3.238164                         3.363592   \n",
       "3                          5.427483                         5.275311   \n",
       "\n",
       "   total_eNH3_consumption_ICE_mass  total_eNH3_consumption_ICE_vol  \\\n",
       "0                     1.217731e+06                        1.982353   \n",
       "1                     1.486299e+07                       24.195564   \n",
       "2                     2.632395e+06                        4.285294   \n",
       "3                     3.929631e+06                        6.397074   \n",
       "\n",
       "   total_Li_NMC_Battery_mass  total_Li_NMC_Battery_vol  \\\n",
       "0               2.304879e+07                 18.240048   \n",
       "1               3.079571e+08                243.707074   \n",
       "2               5.161682e+07                 40.847842   \n",
       "3               8.142090e+07                 64.433802   \n",
       "\n",
       "   total_Battery2000kWh_consumption_num  \n",
       "0                              1.267683  \n",
       "1                             16.937642  \n",
       "2                              2.838925  \n",
       "3                              4.478149  \n",
       "\n",
       "[4 rows x 36 columns]"
      ]
     },
     "execution_count": 11,
     "metadata": {},
     "output_type": "execute_result"
    }
   ],
   "source": [
    "vessel_upstream = run_simulation(path = path_upstream, **data_vessel_up)\n",
    "# create an EnergyCalculation object and perform energy consumption calculation\n",
    "energycalculation_upstream = opentnsim.energy.EnergyCalculation(FG, vessel_upstream)\n",
    "energycalculation_upstream.calculate_energy_consumption()\n",
    "\n",
    "# create dataframe from energy calculation computation\n",
    "df_upstream = pd.DataFrame.from_dict(energycalculation_upstream.energy_use)\n",
    "selected = ['edge_start','edge_stop','distance','P_tot','P_installed','total_energy','total_diesel_consumption_C_year_ICE_mass','total_diesel_consumption_ICE_vol',\n",
    "            'total_emission_CO2','total_emission_PM10','total_emission_NOX',\n",
    "            'total_LH2_consumption_PEMFC_mass','total_LH2_consumption_SOFC_mass','total_LH2_consumption_PEMFC_vol','total_LH2_consumption_SOFC_vol',\n",
    "           'total_eLNG_consumption_PEMFC_mass','total_eLNG_consumption_SOFC_mass','total_eLNG_consumption_PEMFC_vol','total_eLNG_consumption_SOFC_vol',\n",
    "            'total_eLNG_consumption_ICE_mass','total_eLNG_consumption_ICE_vol',\n",
    "            'total_eMethanol_consumption_PEMFC_mass','total_eMethanol_consumption_SOFC_mass','total_eMethanol_consumption_PEMFC_vol','total_eMethanol_consumption_SOFC_vol',\n",
    "            'total_eMethanol_consumption_ICE_mass','total_eMethanol_consumption_ICE_vol','total_eNH3_consumption_PEMFC_mass','total_eNH3_consumption_SOFC_mass',\n",
    "            'total_eNH3_consumption_PEMFC_vol','total_eNH3_consumption_SOFC_vol','total_eNH3_consumption_ICE_mass','total_eNH3_consumption_ICE_vol',\n",
    "            'total_Li_NMC_Battery_mass','total_Li_NMC_Battery_vol','total_Battery2000kWh_consumption_num']\n",
    "df_upstream = df_upstream[selected]\n",
    "df_upstream"
   ]
  },
  {
   "cell_type": "code",
   "execution_count": 12,
   "id": "defebf6f-0c75-4faa-86b6-e670385d8b1a",
   "metadata": {},
   "outputs": [
    {
     "data": {
      "text/plain": [
       "10480.662905160503"
      ]
     },
     "execution_count": 12,
     "metadata": {},
     "output_type": "execute_result"
    }
   ],
   "source": [
    "upstream_total_diesel_use = (df_upstream['total_diesel_consumption_C_year_ICE_mass']/1000).sum() #kg\n",
    "upstream_total_diesel_use_liters = upstream_total_diesel_use * 1.16279 # liters\n",
    "upstream_total_diesel_use_liters"
   ]
  },
  {
   "cell_type": "code",
   "execution_count": 13,
   "id": "b48a3095-c203-45c4-be82-83386577c6da",
   "metadata": {},
   "outputs": [
    {
     "data": {
      "text/plain": [
       "-0.08521751722436037"
      ]
     },
     "execution_count": 13,
     "metadata": {},
     "output_type": "execute_result"
    }
   ],
   "source": [
    "(upstream_total_diesel_use_liters-11457)/11457 # difference compared with the results from fuel report"
   ]
  },
  {
   "cell_type": "code",
   "execution_count": 14,
   "id": "42513408-0604-450c-bd87-e13fe1f4b176",
   "metadata": {},
   "outputs": [
    {
     "data": {
      "text/html": [
       "<div>\n",
       "<style scoped>\n",
       "    .dataframe tbody tr th:only-of-type {\n",
       "        vertical-align: middle;\n",
       "    }\n",
       "\n",
       "    .dataframe tbody tr th {\n",
       "        vertical-align: top;\n",
       "    }\n",
       "\n",
       "    .dataframe thead th {\n",
       "        text-align: right;\n",
       "    }\n",
       "</style>\n",
       "<table border=\"1\" class=\"dataframe\">\n",
       "  <thead>\n",
       "    <tr style=\"text-align: right;\">\n",
       "      <th></th>\n",
       "      <th>diesel kg/km</th>\n",
       "      <th>CO2 g/km</th>\n",
       "      <th>PM10 g/km</th>\n",
       "      <th>NOx g/km</th>\n",
       "    </tr>\n",
       "  </thead>\n",
       "  <tbody>\n",
       "    <tr>\n",
       "      <th>0</th>\n",
       "      <td>6.725099</td>\n",
       "      <td>21323.484350</td>\n",
       "      <td>10.623967</td>\n",
       "      <td>300.718064</td>\n",
       "    </tr>\n",
       "    <tr>\n",
       "      <th>1</th>\n",
       "      <td>15.637583</td>\n",
       "      <td>49582.580165</td>\n",
       "      <td>22.024741</td>\n",
       "      <td>685.068634</td>\n",
       "    </tr>\n",
       "    <tr>\n",
       "      <th>2</th>\n",
       "      <td>20.959767</td>\n",
       "      <td>66457.797161</td>\n",
       "      <td>30.273098</td>\n",
       "      <td>901.299110</td>\n",
       "    </tr>\n",
       "    <tr>\n",
       "      <th>3</th>\n",
       "      <td>15.637583</td>\n",
       "      <td>49582.580165</td>\n",
       "      <td>22.024741</td>\n",
       "      <td>685.068634</td>\n",
       "    </tr>\n",
       "  </tbody>\n",
       "</table>\n",
       "</div>"
      ],
      "text/plain": [
       "   diesel kg/km      CO2 g/km  PM10 g/km    NOx g/km\n",
       "0      6.725099  21323.484350  10.623967  300.718064\n",
       "1     15.637583  49582.580165  22.024741  685.068634\n",
       "2     20.959767  66457.797161  30.273098  901.299110\n",
       "3     15.637583  49582.580165  22.024741  685.068634"
      ]
     },
     "execution_count": 14,
     "metadata": {},
     "output_type": "execute_result"
    }
   ],
   "source": [
    "plot_data_up = pd.DataFrame()\n",
    "plot_data_up['diesel kg/km']= (df_upstream['total_diesel_consumption_C_year_ICE_mass']/1000)/ (df_upstream['distance']/1000)\n",
    "plot_data_up['CO2 g/km'] = (df_upstream['total_emission_CO2'])/ (df_upstream['distance']/1000)\n",
    "plot_data_up['PM10 g/km'] = (df_upstream['total_emission_PM10'])/ (df_upstream['distance']/1000)\n",
    "plot_data_up['NOx g/km'] = (df_upstream['total_emission_NOX'])/ (df_upstream['distance']/1000)\n",
    "\n",
    "plot_data_up"
   ]
  },
  {
   "cell_type": "code",
   "execution_count": 15,
   "id": "3eb2b290-3e78-4763-be9d-f5a220dff31d",
   "metadata": {},
   "outputs": [
    {
     "data": {
      "image/png": "[encoded data removed]",
      "text/plain": [
       "<Figure size 720x720 with 5 Axes>"
      ]
     },
     "metadata": {
      "needs_background": "light"
     },
     "output_type": "display_data"
    }
   ],
   "source": [
    "fig, axs = plt.subplots(5, 1, figsize=(10, 10), sharex=True,constrained_layout=True)\n",
    "fontsize=12\n",
    "\n",
    "ax=plt.subplot(511)    # Longitudinal section of the waterway\n",
    "\n",
    "plt.title('Amsterdam - Ludwigshafen \\n Vessel: L$_s$ = 135 m, B$_s$ = 11.4 m, T$_s$ = 2.65 m, sailing 65 hours upstream, payload = 2800 ton, P$_{installed}$ = 1750 kW',y=1.05)\n",
    "\n",
    "dist=[0,72,72,450,450,500,500,600]\n",
    "water_level=[3.4,3.4,1.9,1.9,0.6,0.6,1.9,1.9]\n",
    "bed_level=[1,1,2.5,2.5,3.8,3.8,2.5,2.5]\n",
    "draft=[2.65,2.65,2.65,2.65,2.65,2.65,2.65,2.65]\n",
    "\n",
    "plt.stackplot(dist,bed_level,water_level,draft, labels=['bed','water','actual draught'],colors=['#7f7053','#75bbfd','#95d0fc'])\n",
    "plt.ylabel('Longitudinal section \\n of the waterway',fontsize=12,fontweight='bold',labelpad=25)\n",
    "plt.xlim(0, 600)\n",
    "plt.ylim(0, 14)\n",
    "plt.xticks( weight = 'bold')\n",
    "plt.yticks([1,4.4,7], weight = 'bold', fontsize=12)\n",
    "ax.legend(loc='upper left')\n",
    "ax.text(600*0.95, 12, '(a)', fontsize=12,weight = 'bold')\n",
    "\n",
    "ax=plt.subplot(512)    #  fuel (diesel) consumption kg/km \n",
    "\n",
    "\n",
    "diesel_fp1= np.expand_dims(plot_data_up['diesel kg/km'],0).repeat(2,axis=1)\n",
    "diesel_fp1=diesel_fp1[0].tolist()\n",
    "plt.plot(dist, diesel_fp1,color='#bf9005',linewidth='2')\n",
    "\n",
    "\n",
    "plt.ylabel('Diesel fuel use\\n (kg/km)',fontsize=12,fontweight='bold',labelpad=28)\n",
    "plt.ylim(0, 50)\n",
    "plt.xlim(0, 600)\n",
    "plt.xticks( weight = 'bold')\n",
    "plt.yticks( weight = 'bold', fontsize=12)\n",
    "# ax.legend(loc='upper left')\n",
    "ax.text(600*0.95, 20*11/13, '(b)', fontsize=12,weight = 'bold')\n",
    "\n",
    "ax=plt.subplot(513)    #  CO2 emission rates g/km\n",
    "\n",
    "EMrCO2_fp2= np.expand_dims(plot_data_up['CO2 g/km'],0).repeat(2,axis=1)\n",
    "EMrCO2_fp2=EMrCO2_fp2[0].tolist()\n",
    "\n",
    "plt.plot(dist, EMrCO2_fp2,color='orange',linewidth='2')\n",
    "\n",
    "\n",
    "# ax.legend(loc='upper left')\n",
    "plt.ylabel('CO2 emission \\n rate (g/km)',fontsize=12,fontweight='bold',labelpad=2)\n",
    "plt.ylim(0,120000)\n",
    "plt.xlim(0, 600)\n",
    "plt.xticks( weight = 'bold')\n",
    "plt.yticks( weight = 'bold', fontsize=12)\n",
    "ax.text(600*0.95, 60000*11/13, '(c)', fontsize=12,weight = 'bold')\n",
    "\n",
    "ax=plt.subplot(514)    #  PM10 emission rates g/km\n",
    "\n",
    "EMrPM10_fp2= np.expand_dims(plot_data_up['PM10 g/km'],0).repeat(2,axis=1)\n",
    "EMrPM10_fp2=EMrPM10_fp2[0].tolist()\n",
    "\n",
    "plt.plot(dist, EMrPM10_fp2,color='mediumseagreen',linewidth='2')\n",
    "\n",
    "\n",
    "\n",
    "# ax.legend(loc='upper left')\n",
    "plt.ylabel('PM10 emission \\n rate (g/km)',fontsize=12,fontweight='bold',labelpad=26)\n",
    "plt.ylim(0, 40)\n",
    "plt.xlim(0, 600)\n",
    "plt.xticks( weight = 'bold')\n",
    "plt.yticks( weight = 'bold', fontsize=12)\n",
    "ax.text(600*0.95, 40*11/13, '(d)', fontsize=12,weight = 'bold')\n",
    "\n",
    "ax=plt.subplot(515)     #  NOx emission rates g/km\n",
    "\n",
    "\n",
    "\n",
    "EMrNOx_fp2= np.expand_dims(plot_data_up['NOx g/km'],0).repeat(2,axis=1)\n",
    "EMrNOx_fp2=EMrNOx_fp2[0].tolist()\n",
    "\n",
    "plt.plot(dist, EMrNOx_fp2,color='deeppink',linewidth='2')\n",
    "\n",
    "\n",
    "\n",
    "plt.ylabel('NOx emission \\n rate (g/km)',fontsize=12,fontweight='bold',labelpad=10)\n",
    "plt.xlabel('distance (km)',fontsize=12,fontweight='bold',labelpad=3)\n",
    "plt.ylim(0, 1000)\n",
    "plt.xlim(0, 600)\n",
    "# ax.legend(loc='upper left')\n",
    "plt.xticks([0,72,450,500,600], weight = 'bold', fontsize=12)\n",
    "plt.yticks( weight = 'bold', fontsize=12)\n",
    "ax.text(600*0.95, 1000*11/13, '(e)', fontsize=12,weight = 'bold')\n",
    "\n",
    "plt.savefig('validation_upstream_Amsterdam_Ludwigshafen_MVS135.pdf',bbox_inches = 'tight', dpi=600, format='pdf')  "
   ]
  },
  {
   "cell_type": "code",
   "execution_count": null,
   "id": "76968ca9-9fb5-45b6-995c-9881e6c74da2",
   "metadata": {},
   "outputs": [],
   "source": []
  },
  {
   "cell_type": "code",
   "execution_count": 16,
   "id": "d730abcb-4972-467e-a1fd-6b78cb37d9b0",
   "metadata": {},
   "outputs": [
    {
     "name": "stdout",
     "output_type": "stream",
     "text": [
      "3.55 V_w\n",
      "235.72021945425692 SFC final\n",
      "2 V_w\n",
      "256.25 SFC final\n",
      "3.55 V_w\n",
      "235.72021945425692 SFC final\n",
      "4.35 V_w\n",
      "222.0463941628589 SFC final\n"
     ]
    },
    {
     "name": "stderr",
     "output_type": "stream",
     "text": [
      "C:\\ANACONDA2021\\envs\\sim\\lib\\site-packages\\pandas\\core\\dtypes\\cast.py:122: ShapelyDeprecationWarning:\n",
      "\n",
      "The array interface is deprecated and will no longer work in Shapely 2.0. Convert the '.coords' to a numpy array instead.\n",
      "\n"
     ]
    },
    {
     "data": {
      "text/html": [
       "<div>\n",
       "<style scoped>\n",
       "    .dataframe tbody tr th:only-of-type {\n",
       "        vertical-align: middle;\n",
       "    }\n",
       "\n",
       "    .dataframe tbody tr th {\n",
       "        vertical-align: top;\n",
       "    }\n",
       "\n",
       "    .dataframe thead th {\n",
       "        text-align: right;\n",
       "    }\n",
       "</style>\n",
       "<table border=\"1\" class=\"dataframe\">\n",
       "  <thead>\n",
       "    <tr style=\"text-align: right;\">\n",
       "      <th></th>\n",
       "      <th>edge_start</th>\n",
       "      <th>edge_stop</th>\n",
       "      <th>distance</th>\n",
       "      <th>P_tot</th>\n",
       "      <th>P_installed</th>\n",
       "      <th>total_energy</th>\n",
       "      <th>total_diesel_consumption_C_year_ICE_mass</th>\n",
       "      <th>total_diesel_consumption_ICE_vol</th>\n",
       "      <th>total_emission_CO2</th>\n",
       "      <th>total_emission_PM10</th>\n",
       "      <th>...</th>\n",
       "      <th>total_eMethanol_consumption_ICE_vol</th>\n",
       "      <th>total_eNH3_consumption_PEMFC_mass</th>\n",
       "      <th>total_eNH3_consumption_SOFC_mass</th>\n",
       "      <th>total_eNH3_consumption_PEMFC_vol</th>\n",
       "      <th>total_eNH3_consumption_SOFC_vol</th>\n",
       "      <th>total_eNH3_consumption_ICE_mass</th>\n",
       "      <th>total_eNH3_consumption_ICE_vol</th>\n",
       "      <th>total_Li_NMC_Battery_mass</th>\n",
       "      <th>total_Li_NMC_Battery_vol</th>\n",
       "      <th>total_Battery2000kWh_consumption_num</th>\n",
       "    </tr>\n",
       "  </thead>\n",
       "  <tbody>\n",
       "    <tr>\n",
       "      <th>0</th>\n",
       "      <td>POINT (5.394 0)</td>\n",
       "      <td>POINT (4.495394 0)</td>\n",
       "      <td>100032.362344</td>\n",
       "      <td>350.635560</td>\n",
       "      <td>1750.0</td>\n",
       "      <td>2008.871903</td>\n",
       "      <td>4.735317e+05</td>\n",
       "      <td>0.611295</td>\n",
       "      <td>1.501442e+06</td>\n",
       "      <td>716.860847</td>\n",
       "      <td>...</td>\n",
       "      <td>1.402888</td>\n",
       "      <td>8.736125e+05</td>\n",
       "      <td>9.260292e+05</td>\n",
       "      <td>1.422160</td>\n",
       "      <td>1.507489</td>\n",
       "      <td>1.189572e+06</td>\n",
       "      <td>1.936513</td>\n",
       "      <td>2.282809e+07</td>\n",
       "      <td>18.065395</td>\n",
       "      <td>1.255545</td>\n",
       "    </tr>\n",
       "    <tr>\n",
       "      <th>1</th>\n",
       "      <td>POINT (4.495394 0)</td>\n",
       "      <td>POINT (4.046285 0)</td>\n",
       "      <td>49994.585191</td>\n",
       "      <td>75.571132</td>\n",
       "      <td>1750.0</td>\n",
       "      <td>262.371347</td>\n",
       "      <td>6.723266e+04</td>\n",
       "      <td>0.086792</td>\n",
       "      <td>2.131767e+05</td>\n",
       "      <td>192.055826</td>\n",
       "      <td>...</td>\n",
       "      <td>0.199184</td>\n",
       "      <td>1.905458e+05</td>\n",
       "      <td>1.631620e+05</td>\n",
       "      <td>0.310191</td>\n",
       "      <td>0.265613</td>\n",
       "      <td>1.688970e+05</td>\n",
       "      <td>0.274949</td>\n",
       "      <td>2.981493e+06</td>\n",
       "      <td>2.359455</td>\n",
       "      <td>0.163982</td>\n",
       "    </tr>\n",
       "    <tr>\n",
       "      <th>2</th>\n",
       "      <td>POINT (4.046285 0)</td>\n",
       "      <td>POINT (0.6475 0)</td>\n",
       "      <td>378351.015516</td>\n",
       "      <td>350.635560</td>\n",
       "      <td>1750.0</td>\n",
       "      <td>7598.128314</td>\n",
       "      <td>1.791032e+06</td>\n",
       "      <td>2.312091</td>\n",
       "      <td>5.678883e+06</td>\n",
       "      <td>2711.372831</td>\n",
       "      <td>...</td>\n",
       "      <td>5.306123</td>\n",
       "      <td>3.304252e+06</td>\n",
       "      <td>3.502508e+06</td>\n",
       "      <td>5.379015</td>\n",
       "      <td>5.701756</td>\n",
       "      <td>4.499302e+06</td>\n",
       "      <td>7.324444</td>\n",
       "      <td>8.634237e+07</td>\n",
       "      <td>68.328492</td>\n",
       "      <td>4.748830</td>\n",
       "    </tr>\n",
       "    <tr>\n",
       "      <th>3</th>\n",
       "      <td>POINT (0.6475 0)</td>\n",
       "      <td>POINT (0 0)</td>\n",
       "      <td>72079.370289</td>\n",
       "      <td>642.455003</td>\n",
       "      <td>1750.0</td>\n",
       "      <td>2652.219475</td>\n",
       "      <td>5.889158e+05</td>\n",
       "      <td>0.760247</td>\n",
       "      <td>1.867294e+06</td>\n",
       "      <td>830.001324</td>\n",
       "      <td>...</td>\n",
       "      <td>1.744725</td>\n",
       "      <td>1.203786e+06</td>\n",
       "      <td>1.169184e+06</td>\n",
       "      <td>1.959651</td>\n",
       "      <td>1.903323</td>\n",
       "      <td>1.479431e+06</td>\n",
       "      <td>2.408377</td>\n",
       "      <td>3.013886e+07</td>\n",
       "      <td>23.850895</td>\n",
       "      <td>1.657637</td>\n",
       "    </tr>\n",
       "  </tbody>\n",
       "</table>\n",
       "<p>4 rows × 36 columns</p>\n",
       "</div>"
      ],
      "text/plain": [
       "           edge_start           edge_stop       distance       P_tot  \\\n",
       "0     POINT (5.394 0)  POINT (4.495394 0)  100032.362344  350.635560   \n",
       "1  POINT (4.495394 0)  POINT (4.046285 0)   49994.585191   75.571132   \n",
       "2  POINT (4.046285 0)    POINT (0.6475 0)  378351.015516  350.635560   \n",
       "3    POINT (0.6475 0)         POINT (0 0)   72079.370289  642.455003   \n",
       "\n",
       "   P_installed  total_energy  total_diesel_consumption_C_year_ICE_mass  \\\n",
       "0       1750.0   2008.871903                              4.735317e+05   \n",
       "1       1750.0    262.371347                              6.723266e+04   \n",
       "2       1750.0   7598.128314                              1.791032e+06   \n",
       "3       1750.0   2652.219475                              5.889158e+05   \n",
       "\n",
       "   total_diesel_consumption_ICE_vol  total_emission_CO2  total_emission_PM10  \\\n",
       "0                          0.611295        1.501442e+06           716.860847   \n",
       "1                          0.086792        2.131767e+05           192.055826   \n",
       "2                          2.312091        5.678883e+06          2711.372831   \n",
       "3                          0.760247        1.867294e+06           830.001324   \n",
       "\n",
       "   ...  total_eMethanol_consumption_ICE_vol  \\\n",
       "0  ...                             1.402888   \n",
       "1  ...                             0.199184   \n",
       "2  ...                             5.306123   \n",
       "3  ...                             1.744725   \n",
       "\n",
       "   total_eNH3_consumption_PEMFC_mass  total_eNH3_consumption_SOFC_mass  \\\n",
       "0                       8.736125e+05                      9.260292e+05   \n",
       "1                       1.905458e+05                      1.631620e+05   \n",
       "2                       3.304252e+06                      3.502508e+06   \n",
       "3                       1.203786e+06                      1.169184e+06   \n",
       "\n",
       "   total_eNH3_consumption_PEMFC_vol  total_eNH3_consumption_SOFC_vol  \\\n",
       "0                          1.422160                         1.507489   \n",
       "1                          0.310191                         0.265613   \n",
       "2                          5.379015                         5.701756   \n",
       "3                          1.959651                         1.903323   \n",
       "\n",
       "   total_eNH3_consumption_ICE_mass  total_eNH3_consumption_ICE_vol  \\\n",
       "0                     1.189572e+06                        1.936513   \n",
       "1                     1.688970e+05                        0.274949   \n",
       "2                     4.499302e+06                        7.324444   \n",
       "3                     1.479431e+06                        2.408377   \n",
       "\n",
       "   total_Li_NMC_Battery_mass  total_Li_NMC_Battery_vol  \\\n",
       "0               2.282809e+07                 18.065395   \n",
       "1               2.981493e+06                  2.359455   \n",
       "2               8.634237e+07                 68.328492   \n",
       "3               3.013886e+07                 23.850895   \n",
       "\n",
       "   total_Battery2000kWh_consumption_num  \n",
       "0                              1.255545  \n",
       "1                              0.163982  \n",
       "2                              4.748830  \n",
       "3                              1.657637  \n",
       "\n",
       "[4 rows x 36 columns]"
      ]
     },
     "execution_count": 16,
     "metadata": {},
     "output_type": "execute_result"
    }
   ],
   "source": [
    "vessel_downstream = run_simulation(path = path_downstream, **data_vessel_down)\n",
    "# create an EnergyCalculation object and perform energy consumption calculation\n",
    "energycalculation_downstream = opentnsim.energy.EnergyCalculation(FG, vessel_downstream)\n",
    "energycalculation_downstream.calculate_energy_consumption()\n",
    "\n",
    "# create dataframe from energy calculation computation\n",
    "df_downstream = pd.DataFrame.from_dict(energycalculation_downstream.energy_use)\n",
    "selected = ['edge_start','edge_stop','distance','P_tot','P_installed','total_energy','total_diesel_consumption_C_year_ICE_mass','total_diesel_consumption_ICE_vol',\n",
    "            'total_emission_CO2','total_emission_PM10','total_emission_NOX',\n",
    "            'total_LH2_consumption_PEMFC_mass','total_LH2_consumption_SOFC_mass','total_LH2_consumption_PEMFC_vol','total_LH2_consumption_SOFC_vol',\n",
    "           'total_eLNG_consumption_PEMFC_mass','total_eLNG_consumption_SOFC_mass','total_eLNG_consumption_PEMFC_vol','total_eLNG_consumption_SOFC_vol',\n",
    "            'total_eLNG_consumption_ICE_mass','total_eLNG_consumption_ICE_vol',\n",
    "            'total_eMethanol_consumption_PEMFC_mass','total_eMethanol_consumption_SOFC_mass','total_eMethanol_consumption_PEMFC_vol','total_eMethanol_consumption_SOFC_vol',\n",
    "            'total_eMethanol_consumption_ICE_mass','total_eMethanol_consumption_ICE_vol','total_eNH3_consumption_PEMFC_mass','total_eNH3_consumption_SOFC_mass',\n",
    "            'total_eNH3_consumption_PEMFC_vol','total_eNH3_consumption_SOFC_vol','total_eNH3_consumption_ICE_mass','total_eNH3_consumption_ICE_vol',\n",
    "            'total_Li_NMC_Battery_mass','total_Li_NMC_Battery_vol','total_Battery2000kWh_consumption_num']\n",
    "df_downstream = df_downstream[selected]\n",
    "df_downstream"
   ]
  },
  {
   "cell_type": "code",
   "execution_count": 17,
   "id": "a81f64be-2fd3-4a19-b73b-249f428a8239",
   "metadata": {},
   "outputs": [
    {
     "data": {
      "text/plain": [
       "3396.175436707191"
      ]
     },
     "execution_count": 17,
     "metadata": {},
     "output_type": "execute_result"
    }
   ],
   "source": [
    "downstream_total_diesel_use = (df_downstream['total_diesel_consumption_C_year_ICE_mass']/1000).sum() #kg\n",
    "downstream_total_diesel_use_liters = downstream_total_diesel_use * 1.16279 # liters\n",
    "downstream_total_diesel_use_liters"
   ]
  },
  {
   "cell_type": "code",
   "execution_count": 18,
   "id": "27913f46-da77-4e8f-8630-668b1fcbb619",
   "metadata": {},
   "outputs": [
    {
     "data": {
      "text/plain": [
       "-0.02632584956789255"
      ]
     },
     "execution_count": 18,
     "metadata": {},
     "output_type": "execute_result"
    }
   ],
   "source": [
    "(downstream_total_diesel_use_liters-3488)/3488 # difference compared with the results from fuel report"
   ]
  },
  {
   "cell_type": "code",
   "execution_count": 19,
   "id": "4e918936-e49f-4070-a6f4-c2c2cdaac518",
   "metadata": {},
   "outputs": [],
   "source": [
    "plot_data_down = pd.DataFrame()\n",
    "plot_data_down['diesel kg/km']= (df_downstream['total_diesel_consumption_C_year_ICE_mass']/1000)/ (df_downstream['distance']/1000)\n",
    "plot_data_down['CO2 g/km'] = (df_downstream['total_emission_CO2'])/ (df_downstream['distance']/1000)\n",
    "plot_data_down['PM10 g/km'] = (df_downstream['total_emission_PM10'])/ (df_downstream['distance']/1000)\n",
    "plot_data_down['NOx g/km'] = (df_downstream['total_emission_NOX'])/ (df_downstream['distance']/1000)\n"
   ]
  },
  {
   "cell_type": "code",
   "execution_count": 20,
   "id": "64483595-ccb9-4fac-8068-0ab2edd05311",
   "metadata": {},
   "outputs": [
    {
     "data": {
      "text/html": [
       "<div>\n",
       "<style scoped>\n",
       "    .dataframe tbody tr th:only-of-type {\n",
       "        vertical-align: middle;\n",
       "    }\n",
       "\n",
       "    .dataframe tbody tr th {\n",
       "        vertical-align: top;\n",
       "    }\n",
       "\n",
       "    .dataframe thead th {\n",
       "        text-align: right;\n",
       "    }\n",
       "</style>\n",
       "<table border=\"1\" class=\"dataframe\">\n",
       "  <thead>\n",
       "    <tr style=\"text-align: right;\">\n",
       "      <th></th>\n",
       "      <th>diesel kg/km</th>\n",
       "      <th>CO2 g/km</th>\n",
       "      <th>PM10 g/km</th>\n",
       "      <th>NOx g/km</th>\n",
       "    </tr>\n",
       "  </thead>\n",
       "  <tbody>\n",
       "    <tr>\n",
       "      <th>3</th>\n",
       "      <td>8.170379</td>\n",
       "      <td>25906.079647</td>\n",
       "      <td>11.515102</td>\n",
       "      <td>355.073023</td>\n",
       "    </tr>\n",
       "    <tr>\n",
       "      <th>2</th>\n",
       "      <td>4.733785</td>\n",
       "      <td>15009.563131</td>\n",
       "      <td>7.166289</td>\n",
       "      <td>207.595308</td>\n",
       "    </tr>\n",
       "    <tr>\n",
       "      <th>1</th>\n",
       "      <td>1.344799</td>\n",
       "      <td>4263.996158</td>\n",
       "      <td>3.841533</td>\n",
       "      <td>90.276015</td>\n",
       "    </tr>\n",
       "    <tr>\n",
       "      <th>0</th>\n",
       "      <td>4.733785</td>\n",
       "      <td>15009.563131</td>\n",
       "      <td>7.166289</td>\n",
       "      <td>207.595308</td>\n",
       "    </tr>\n",
       "  </tbody>\n",
       "</table>\n",
       "</div>"
      ],
      "text/plain": [
       "   diesel kg/km      CO2 g/km  PM10 g/km    NOx g/km\n",
       "3      8.170379  25906.079647  11.515102  355.073023\n",
       "2      4.733785  15009.563131   7.166289  207.595308\n",
       "1      1.344799   4263.996158   3.841533   90.276015\n",
       "0      4.733785  15009.563131   7.166289  207.595308"
      ]
     },
     "execution_count": 20,
     "metadata": {},
     "output_type": "execute_result"
    }
   ],
   "source": [
    "plot_data_down=plot_data_down[::-1]\n",
    "plot_data_down"
   ]
  },
  {
   "cell_type": "code",
   "execution_count": 21,
   "id": "5d4388d7-f34e-4257-9361-29deef336369",
   "metadata": {},
   "outputs": [
    {
     "data": {
      "image/png": "[encoded data removed]",
      "text/plain": [
       "<Figure size 720x720 with 5 Axes>"
      ]
     },
     "metadata": {
      "needs_background": "light"
     },
     "output_type": "display_data"
    }
   ],
   "source": [
    "fig, axs = plt.subplots(5, 1, figsize=(10, 10), sharex=True,constrained_layout=True)\n",
    "fontsize=12\n",
    "\n",
    "ax=plt.subplot(511)    # Longitudinal section of the waterway\n",
    "\n",
    "plt.title('Ludwigshafen - Amsterdam \\n Vessel: L$_s$ = 135 m, B$_s$ = 11.4 m, T$_s$ = 2.3 m, sailing 35 hours downstream, payload = 2000 ton, P$_{installed}$ = 1750 kW',y=1.05)\n",
    "\n",
    "dist=[0,72,72,450,450,500,500,600]\n",
    "water_level=[3.4,3.4,1.9,1.9,0.6,0.6,1.9,1.9]\n",
    "bed_level=[1,1,2.5,2.5,3.8,3.8,2.5,2.5]\n",
    "draft=[2.3,2.3,2.3,2.3,2.3,2.3,2.3,2.3]\n",
    "\n",
    "plt.stackplot(dist,bed_level,water_level,draft, labels=['bed','water','actual draught'],colors=['#7f7053','#75bbfd','#95d0fc'])\n",
    "plt.ylabel('Longitudinal section \\n of the waterway',fontsize=12,fontweight='bold',labelpad=25)\n",
    "plt.xlim(0, 600)\n",
    "plt.ylim(0, 14)\n",
    "plt.xticks( weight = 'bold')\n",
    "plt.yticks([1,4.4,7], weight = 'bold', fontsize=12)\n",
    "ax.legend(loc='upper left')\n",
    "ax.text(600*0.95, 12, '(a)', fontsize=12,weight = 'bold')\n",
    "\n",
    "ax=plt.subplot(512)    #  fuel (diesel) consumption kg/km \n",
    "\n",
    "\n",
    "diesel_fp1= np.expand_dims(plot_data_down['diesel kg/km'],0).repeat(2,axis=1)\n",
    "diesel_fp1=diesel_fp1[0].tolist()\n",
    "\n",
    "plt.plot(dist, diesel_fp1,color='#bf9005',linewidth='2')\n",
    "\n",
    "\n",
    "plt.ylabel('Diesel fuel use\\n (kg/km)',fontsize=12,fontweight='bold',labelpad=28)\n",
    "plt.ylim(0, 20)\n",
    "plt.xlim(0, 600)\n",
    "plt.xticks( weight = 'bold')\n",
    "plt.yticks( weight = 'bold', fontsize=12)\n",
    "# ax.legend(loc='upper left')\n",
    "ax.text(600*0.95, 20*11/13, '(b)', fontsize=12,weight = 'bold')\n",
    "\n",
    "ax=plt.subplot(513)    #  CO2 emission rates g/km\n",
    "\n",
    "EMrCO2_fp2= np.expand_dims(plot_data_down['CO2 g/km'],0).repeat(2,axis=1)\n",
    "EMrCO2_fp2=EMrCO2_fp2[0].tolist()\n",
    "\n",
    "plt.plot(dist, EMrCO2_fp2,color='orange',linewidth='2')\n",
    "\n",
    "\n",
    "# ax.legend(loc='upper left')\n",
    "plt.ylabel('CO2 emission \\n rate (g/km)',fontsize=12,fontweight='bold',labelpad=2)\n",
    "plt.ylim(0, 60000)\n",
    "plt.xlim(0, 600)\n",
    "plt.xticks( weight = 'bold')\n",
    "plt.yticks( weight = 'bold', fontsize=12)\n",
    "ax.text(600*0.95, 60000*11/13, '(c)', fontsize=12,weight = 'bold')\n",
    "\n",
    "ax=plt.subplot(514)    #  PM10 emission rates g/km\n",
    "\n",
    "EMrPM10_fp2= np.expand_dims(plot_data_down['PM10 g/km'],0).repeat(2,axis=1)\n",
    "EMrPM10_fp2=EMrPM10_fp2[0].tolist()\n",
    "\n",
    "plt.plot(dist, EMrPM10_fp2,color='mediumseagreen',linewidth='2')\n",
    "\n",
    "\n",
    "\n",
    "# ax.legend(loc='upper left')\n",
    "plt.ylabel('PM10 emission \\n rate (g/km)',fontsize=12,fontweight='bold',labelpad=26)\n",
    "plt.ylim(0, 40)\n",
    "plt.xlim(0, 600)\n",
    "plt.xticks( weight = 'bold')\n",
    "plt.yticks( weight = 'bold', fontsize=12)\n",
    "ax.text(600*0.95, 40*11/13, '(d)', fontsize=12,weight = 'bold')\n",
    "\n",
    "ax=plt.subplot(515)     #  NOx emission rates g/km\n",
    "\n",
    "\n",
    "\n",
    "EMrNOx_fp2= np.expand_dims(plot_data_down['NOx g/km'],0).repeat(2,axis=1)\n",
    "EMrNOx_fp2=EMrNOx_fp2[0].tolist()\n",
    "\n",
    "plt.plot(dist, EMrNOx_fp2,color='deeppink',linewidth='2')\n",
    "\n",
    "\n",
    "\n",
    "plt.ylabel('NOx emission \\n rate (g/km)',fontsize=12,fontweight='bold',labelpad=10)\n",
    "plt.xlabel('distance (km)',fontsize=12,fontweight='bold',labelpad=3)\n",
    "plt.ylim(0, 1000)\n",
    "plt.xlim(0, 600)\n",
    "# ax.legend(loc='upper left')\n",
    "plt.xticks([0,72,450,500,600], weight = 'bold', fontsize=12)\n",
    "plt.yticks( weight = 'bold', fontsize=12)\n",
    "ax.text(600*0.95, 1000*11/13, '(e)', fontsize=12,weight = 'bold')\n",
    "\n",
    "plt.savefig('validation_downstream_Ludwigshafen_Amsterdam_MVS135.pdf',bbox_inches = 'tight', dpi=600, format='pdf')  "
   ]
  },
  {
   "cell_type": "code",
   "execution_count": null,
   "id": "6d1a7ab9-8198-4371-8080-30c300e0b542",
   "metadata": {},
   "outputs": [],
   "source": []
  },
  {
   "cell_type": "code",
   "execution_count": 22,
   "id": "a81aa8f8-9a51-4eb2-a0dd-49a189e6337e",
   "metadata": {},
   "outputs": [
    {
     "data": {
      "text/plain": [
       "13876.838341867693"
      ]
     },
     "execution_count": 22,
     "metadata": {},
     "output_type": "execute_result"
    }
   ],
   "source": [
    "roundtrip_total_diesel_use_liters = upstream_total_diesel_use_liters + downstream_total_diesel_use_liters\n",
    "roundtrip_total_diesel_use_liters"
   ]
  },
  {
   "cell_type": "code",
   "execution_count": 23,
   "id": "42649e41-6b12-487b-8a98-c58ec59360ec",
   "metadata": {},
   "outputs": [
    {
     "data": {
      "text/plain": [
       "-0.071472844304604"
      ]
     },
     "execution_count": 23,
     "metadata": {},
     "output_type": "execute_result"
    }
   ],
   "source": [
    "(roundtrip_total_diesel_use_liters - 14945) / 14945"
   ]
  },
  {
   "cell_type": "code",
   "execution_count": 24,
   "id": "4b9f8d56",
   "metadata": {},
   "outputs": [
    {
     "data": {
      "text/plain": [
       "{'V_s': [4]}"
      ]
     },
     "execution_count": 24,
     "metadata": {},
     "output_type": "execute_result"
    }
   ],
   "source": [
    "input_data = {'V_s': [4]} # 605km/50hr=12.1 km/h\n",
    "input_data"
   ]
  },
  {
   "cell_type": "markdown",
   "id": "3d0cfe1f-4411-4e99-889c-5c4870bf3750",
   "metadata": {},
   "source": [
    "### diesel fuel and emissions in kg/km, g/km"
   ]
  },
  {
   "cell_type": "code",
   "execution_count": 25,
   "id": "4f8e24bc-c20b-4489-a514-791b841dc09e",
   "metadata": {
    "tags": []
   },
   "outputs": [
    {
     "ename": "NameError",
     "evalue": "name 'df' is not defined",
     "output_type": "error",
     "traceback": [
      "\u001b[1;31m---------------------------------------------------------------------------\u001b[0m",
      "\u001b[1;31mNameError\u001b[0m                                 Traceback (most recent call last)",
      "Input \u001b[1;32mIn [25]\u001b[0m, in \u001b[0;36m<module>\u001b[1;34m\u001b[0m\n\u001b[1;32m----> 1\u001b[0m df[\u001b[38;5;124m'\u001b[39m\u001b[38;5;124mfuel_kg_per_km\u001b[39m\u001b[38;5;124m'\u001b[39m] \u001b[38;5;241m=\u001b[39m (\u001b[43mdf\u001b[49m[\u001b[38;5;124m'\u001b[39m\u001b[38;5;124mtotal_diesel_consumption_C_year_ICE_mass\u001b[39m\u001b[38;5;124m'\u001b[39m]\u001b[38;5;241m/\u001b[39m\u001b[38;5;241m1000\u001b[39m) \u001b[38;5;241m/\u001b[39m (df[\u001b[38;5;124m'\u001b[39m\u001b[38;5;124mdistance\u001b[39m\u001b[38;5;124m'\u001b[39m]\u001b[38;5;241m/\u001b[39m\u001b[38;5;241m1000\u001b[39m)  \u001b[38;5;66;03m# g/m --> kg/km\u001b[39;00m\n\u001b[0;32m      2\u001b[0m df[\u001b[38;5;124m'\u001b[39m\u001b[38;5;124mCO2_g_per_km\u001b[39m\u001b[38;5;124m'\u001b[39m]   \u001b[38;5;241m=\u001b[39m (df[\u001b[38;5;124m'\u001b[39m\u001b[38;5;124mtotal_emission_CO2\u001b[39m\u001b[38;5;124m'\u001b[39m]) \u001b[38;5;241m/\u001b[39m (df[\u001b[38;5;124m'\u001b[39m\u001b[38;5;124mdistance\u001b[39m\u001b[38;5;124m'\u001b[39m]\u001b[38;5;241m/\u001b[39m\u001b[38;5;241m1000\u001b[39m)\n\u001b[0;32m      3\u001b[0m df[\u001b[38;5;124m'\u001b[39m\u001b[38;5;124mPM10_g_per_km\u001b[39m\u001b[38;5;124m'\u001b[39m]  \u001b[38;5;241m=\u001b[39m (df[\u001b[38;5;124m'\u001b[39m\u001b[38;5;124mtotal_emission_PM10\u001b[39m\u001b[38;5;124m'\u001b[39m]) \u001b[38;5;241m/\u001b[39m (df[\u001b[38;5;124m'\u001b[39m\u001b[38;5;124mdistance\u001b[39m\u001b[38;5;124m'\u001b[39m]\u001b[38;5;241m/\u001b[39m\u001b[38;5;241m1000\u001b[39m)\n",
      "\u001b[1;31mNameError\u001b[0m: name 'df' is not defined"
     ]
    }
   ],
   "source": [
    "df['fuel_kg_per_km'] = (df['total_diesel_consumption_C_year_ICE_mass']/1000) / (df['distance']/1000)  # g/m --> kg/km\n",
    "df['CO2_g_per_km']   = (df['total_emission_CO2']) / (df['distance']/1000)\n",
    "df['PM10_g_per_km']  = (df['total_emission_PM10']) / (df['distance']/1000)\n",
    "df['NOx_g_per_km']   = (df['total_emission_NOX']) / (df['distance']/1000)"
   ]
  },
  {
   "cell_type": "code",
   "execution_count": null,
   "id": "eb548caf-0d4c-45c9-8db3-08f8d009e8d1",
   "metadata": {
    "tags": []
   },
   "outputs": [],
   "source": [
    "df_km=df[['fuel_kg_per_km','CO2_g_per_km','PM10_g_per_km','NOx_g_per_km']]\n",
    "df_km"
   ]
  },
  {
   "cell_type": "markdown",
   "id": "484363a7-9590-44b6-b7fe-83e5cb3cdead",
   "metadata": {},
   "source": [
    "### diesel fuel and emissions in g/tkm (in sections)"
   ]
  },
  {
   "cell_type": "code",
   "execution_count": null,
   "id": "749bebfe-7a05-42dc-860e-c36117d23936",
   "metadata": {
    "tags": []
   },
   "outputs": [],
   "source": [
    "payload_ton = 2200"
   ]
  },
  {
   "cell_type": "code",
   "execution_count": null,
   "id": "64c3d04d-0d14-42ab-8e66-e8fcfc6faf73",
   "metadata": {
    "tags": []
   },
   "outputs": [],
   "source": [
    "df['fuel_g_per_tkm']=(df['total_diesel_consumption_C_year_ICE_mass']) / (df['distance']/1000)/payload_ton\n",
    "df['CO2_g_per_tkm']=df['CO2_g_per_km']/payload_ton\n",
    "df['PM10_g_per_tkm']=df['PM10_g_per_km']/payload_ton\n",
    "df['NOx_g_per_tkm']=df['NOx_g_per_km']/payload_ton"
   ]
  },
  {
   "cell_type": "code",
   "execution_count": null,
   "id": "37966b9d-c849-498e-82c9-281a9d85a066",
   "metadata": {
    "tags": []
   },
   "outputs": [],
   "source": [
    "df_tkm=df[['fuel_g_per_tkm','CO2_g_per_tkm','PM10_g_per_tkm','NOx_g_per_tkm']]\n",
    "df_tkm"
   ]
  },
  {
   "cell_type": "markdown",
   "id": "41784c12-4856-4c8f-96ca-638f6cb51ed7",
   "metadata": {},
   "source": [
    "### diesel fuel and emissions in g/tkm  mean value"
   ]
  },
  {
   "cell_type": "code",
   "execution_count": null,
   "id": "263b7046-9ec5-4248-bbfc-48a5381b489d",
   "metadata": {
    "tags": []
   },
   "outputs": [],
   "source": [
    "df_tkm_mean = df_tkm.mean()\n",
    "df_tkm_mean = pd.DataFrame(df_tkm_mean).T\n",
    "df_tkm_mean.head(1)"
   ]
  },
  {
   "cell_type": "markdown",
   "id": "ea46b2c3-32a2-48ee-83ef-15384da0df4f",
   "metadata": {},
   "source": [
    "### diesel fuel and emissions in g/s (roundtrip-average)    "
   ]
  },
  {
   "cell_type": "markdown",
   "id": "ae83667f-717c-4136-b61f-7c2bab259d24",
   "metadata": {},
   "source": [
    "note that g/s may not be constant even in a same water depth section.  Because the sailing duration is determined by the ship speed relative to the ground, which is influenced by current directions and speeds."
   ]
  },
  {
   "cell_type": "code",
   "execution_count": null,
   "id": "0e02a26b-fc0c-43f6-84ad-589001476b7e",
   "metadata": {
    "tags": []
   },
   "outputs": [],
   "source": [
    "df['fuel_g_per_sec'] = (df['total_diesel_consumption_C_year_ICE_mass']) / (df['distance']/vessel.v)  # g/s\n",
    "df['CO2_g_per_sec'] = (df['total_emission_CO2']) / (df['distance']/vessel.v)  # g/s\n",
    "df['PM10_g_per_sec'] = (df['total_emission_PM10']) / (df['distance']/vessel.v)  # g/s\n",
    "df['NOx_g_per_sec'] = (df['total_emission_NOX']) / (df['distance']/vessel.v)  # g/s"
   ]
  },
  {
   "cell_type": "code",
   "execution_count": null,
   "id": "574d05e7-eb95-427b-9a5a-1801475e01eb",
   "metadata": {
    "tags": []
   },
   "outputs": [],
   "source": [
    "df_s=df[['fuel_g_per_sec','CO2_g_per_sec','PM10_g_per_sec','NOx_g_per_sec']]\n",
    "df_s"
   ]
  },
  {
   "cell_type": "markdown",
   "id": "4b0aba4a-d779-42d1-943c-1133de1db1ae",
   "metadata": {},
   "source": [
    "### diesel fuel and emissions in ton, kg per round-trip (laden going and returning)"
   ]
  },
  {
   "cell_type": "code",
   "execution_count": null,
   "id": "2f9d01fa-7e3e-4354-801f-dadec6884d1d",
   "metadata": {
    "tags": []
   },
   "outputs": [],
   "source": [
    "df['fuel_ton']=(df['total_diesel_consumption_C_year_ICE_mass'].sum()/1000000)*2  #ton\n",
    "df['fuel_liters'] = df['fuel_ton'] * 1162.79 # liters\n",
    "df['CO2_ton']=(df['total_emission_CO2'].sum()/1000000)*2  #ton\n",
    "df['PM10_kg']=(df['total_emission_PM10'].sum()/1000)*2  #kg\n",
    "df['NOx_kg']=(df['total_emission_NOX'].sum()/1000)*2  #kg"
   ]
  },
  {
   "cell_type": "code",
   "execution_count": null,
   "id": "6b6c4545-717b-4a35-ab6f-a4569786e6a4",
   "metadata": {
    "tags": []
   },
   "outputs": [],
   "source": [
    "df_roundtrip=df[['fuel_ton','fuel_liters','CO2_ton','PM10_kg','NOx_kg']]\n",
    "df_roundtrip.head(1)"
   ]
  },
  {
   "cell_type": "code",
   "execution_count": null,
   "id": "3f755608-6e69-45a9-86ee-a3f639798a0e",
   "metadata": {
    "jupyter": {
     "source_hidden": true
    },
    "tags": []
   },
   "outputs": [],
   "source": [
    "### ton, kg per single-trip (laden going), upstream"
   ]
  },
  {
   "cell_type": "code",
   "execution_count": null,
   "id": "3f66febc-1935-4ba9-aa3e-e337a8adc19c",
   "metadata": {
    "jupyter": {
     "source_hidden": true
    },
    "tags": []
   },
   "outputs": [],
   "source": [
    "# duration_upstream = 65 * 3600 # second\n",
    "# duration_downstream = 35 * 3600 # second"
   ]
  },
  {
   "cell_type": "code",
   "execution_count": null,
   "id": "af46c3c9-cd14-4bbe-bac8-1eed83abcff9",
   "metadata": {
    "jupyter": {
     "source_hidden": true
    },
    "tags": []
   },
   "outputs": [],
   "source": [
    "# df['fuel_ton_single_up'] = df['fuel_ton'] * duration_upstream /(duration_upstream + duration_downstream)\n",
    "# df['fuel_liters_single_up'] = df['fuel_ton_single_up'] * 1162.79 # liters\n",
    "# df['fuel_ton_single_down'] = df['fuel_ton'] * duration_downstream /(duration_upstream + duration_downstream)\n",
    "# df['fuel_liters_single_down'] = df['fuel_ton_single_down'] * 1162.79 # liters"
   ]
  },
  {
   "cell_type": "code",
   "execution_count": null,
   "id": "c71c40d2-965b-4144-8b1b-62d5724cd618",
   "metadata": {
    "jupyter": {
     "source_hidden": true
    },
    "tags": []
   },
   "outputs": [],
   "source": [
    "# df_single_trips=df[['fuel_ton_single_up','fuel_liters_single_up','fuel_ton_single_down','fuel_liters_single_down']]\n",
    "# df_single_trips.head(1)"
   ]
  },
  {
   "cell_type": "markdown",
   "id": "4d6959a0-8b22-451e-9f98-5c2a934f4cb1",
   "metadata": {},
   "source": [
    "### diesel fuel and emissions in ton per year"
   ]
  },
  {
   "cell_type": "code",
   "execution_count": null,
   "id": "4227b935-f48a-439a-b91b-744110daf086",
   "metadata": {},
   "outputs": [],
   "source": [
    "num_roundtrip = 26"
   ]
  },
  {
   "cell_type": "code",
   "execution_count": null,
   "id": "4347ec96-423d-4eea-a388-b2272d1281c9",
   "metadata": {
    "tags": []
   },
   "outputs": [],
   "source": [
    "df['fuel_ton_per_yr']=df['fuel_ton']*num_roundtrip\n",
    "df['CO2_ton_per_yr'] = df['CO2_ton']*num_roundtrip\n",
    "df['PM10_ton_per_yr'] = df['PM10_kg']*num_roundtrip/1000\n",
    "df['NOx_ton_per_yr'] = df['NOx_kg']*num_roundtrip/1000"
   ]
  },
  {
   "cell_type": "code",
   "execution_count": null,
   "id": "8736b135-9340-491a-87c0-d4d484371b74",
   "metadata": {
    "jupyter": {
     "source_hidden": true
    },
    "tags": []
   },
   "outputs": [],
   "source": [
    "df_year = df[['fuel_ton_per_yr','CO2_ton_per_yr','PM10_ton_per_yr','NOx_ton_per_yr']]\n",
    "df_year.head(1)"
   ]
  },
  {
   "cell_type": "markdown",
   "id": "a69da4ab-c973-4ab7-809a-7c6ae8cf1050",
   "metadata": {},
   "source": [
    "## alternatives in mass and volume per round-trip (laden going and returning)"
   ]
  },
  {
   "cell_type": "code",
   "execution_count": null,
   "id": "0541032e-e367-49dd-920e-66cb84f0b041",
   "metadata": {
    "tags": []
   },
   "outputs": [],
   "source": [
    "df['LH2_PEMFC_ton']=(df['total_LH2_consumption_PEMFC_mass'].sum()/1000000)*2  #ton\n",
    "df['LH2_SOFC_ton']=(df['total_LH2_consumption_SOFC_mass'].sum()/1000000)*2  #ton\n",
    "df['eLNG_PEMFC_ton']=(df['total_eLNG_consumption_PEMFC_mass'].sum()/1000000)*2  #ton\n",
    "df['eLNG_SOFC_ton']=(df['total_eLNG_consumption_SOFC_mass'].sum()/1000000)*2  #ton\n",
    "df['eLNG_ICE_ton']=(df['total_eLNG_consumption_ICE_mass'].sum()/1000000)*2  #ton\n",
    "df['eMethanol_PEMFC_ton']=(df['total_eMethanol_consumption_PEMFC_mass'].sum()/1000000)*2  #ton\n",
    "df['eMethanol_SOFC_ton']=(df['total_eMethanol_consumption_SOFC_mass'].sum()/1000000)*2  #ton\n",
    "df['eMethanol_ICE_ton']=(df['total_eMethanol_consumption_ICE_mass'].sum()/1000000)*2  #ton\n",
    "df['eNH3_PEMFC_ton']=(df['total_eNH3_consumption_PEMFC_mass'].sum()/1000000)*2  #ton\n",
    "df['eNH3_SOFC_ton']=(df['total_eNH3_consumption_SOFC_mass'].sum()/1000000)*2  #ton\n",
    "df['eNH3_ICE_ton']=(df['total_eNH3_consumption_ICE_mass'].sum()/1000000)*2  #ton\n",
    "df['Li_NMC_Battery_ton']=(df['total_Li_NMC_Battery_mass'].sum()/1000000)*2  #ton\n",
    "\n",
    "df_alternatives_mass_roundtrip=df[['LH2_PEMFC_ton','LH2_SOFC_ton','eLNG_PEMFC_ton','eLNG_SOFC_ton','eLNG_ICE_ton',\n",
    "                             'eMethanol_PEMFC_ton','eMethanol_SOFC_ton','eMethanol_ICE_ton','eNH3_PEMFC_ton',\n",
    "                            'eNH3_SOFC_ton','eNH3_ICE_ton','Li_NMC_Battery_ton']]\n",
    "df_alternatives_mass_roundtrip.head(1)"
   ]
  },
  {
   "cell_type": "code",
   "execution_count": null,
   "id": "42540ccf-c743-4b40-a365-c0df407e5680",
   "metadata": {
    "jupyter": {
     "source_hidden": true
    },
    "tags": []
   },
   "outputs": [],
   "source": [
    "df['LH2_PEMFC_m3']=(df['total_LH2_consumption_PEMFC_vol'].sum())*2  \n",
    "df['LH2_SOFC_m3']=(df['total_LH2_consumption_SOFC_vol'].sum())*2  \n",
    "df['eLNG_PEMFC_m3']=(df['total_eLNG_consumption_PEMFC_vol'].sum())*2  \n",
    "df['eLNG_SOFC_m3']=(df['total_eLNG_consumption_SOFC_vol'].sum())*2  \n",
    "df['eLNG_ICE_m3']=(df['total_eLNG_consumption_ICE_vol'].sum())*2  \n",
    "df['eMethanol_PEMFC_m3']=(df['total_eMethanol_consumption_PEMFC_vol'].sum())*2  \n",
    "df['eMethanol_SOFC_m3']=(df['total_eMethanol_consumption_SOFC_vol'].sum())*2  \n",
    "df['eMethanol_ICE_m3']=(df['total_eMethanol_consumption_ICE_vol'].sum())*2  \n",
    "df['eNH3_PEMFC_m3']=(df['total_eNH3_consumption_PEMFC_vol'].sum())*2  \n",
    "df['eNH3_SOFC_m3']=(df['total_eNH3_consumption_SOFC_vol'].sum())*2  \n",
    "df['eNH3_ICE_m3']=(df['total_eNH3_consumption_ICE_vol'].sum())*2  \n",
    "df['Li_NMC_Battery_m3']=(df['total_Li_NMC_Battery_vol'].sum())*2  \n",
    "\n",
    "\n",
    "df_alternatives_vol_roundtrip=df[['LH2_PEMFC_m3','LH2_SOFC_m3','eLNG_PEMFC_m3','eLNG_SOFC_m3','eLNG_ICE_m3',\n",
    "                             'eMethanol_PEMFC_m3','eMethanol_SOFC_m3','eMethanol_ICE_m3','eNH3_PEMFC_m3',\n",
    "                            'eNH3_SOFC_m3','eNH3_ICE_m3','Li_NMC_Battery_m3']]\n",
    "df_alternatives_vol_roundtrip.head(1)"
   ]
  },
  {
   "cell_type": "code",
   "execution_count": null,
   "id": "73307b8b-ca90-427e-a389-121e7704bc16",
   "metadata": {},
   "outputs": [],
   "source": []
  }
 ],
 "metadata": {
  "kernelspec": {
   "display_name": "Python 3 (ipykernel)",
   "language": "python",
   "name": "python3"
  },
  "language_info": {
   "codemirror_mode": {
    "name": "ipython",
    "version": 3
   },
   "file_extension": ".py",
   "mimetype": "text/x-python",
   "name": "python",
   "nbconvert_exporter": "python",
   "pygments_lexer": "ipython3",
   "version": "3.9.10"
  }
 },
 "nbformat": 4,
 "nbformat_minor": 5
}
